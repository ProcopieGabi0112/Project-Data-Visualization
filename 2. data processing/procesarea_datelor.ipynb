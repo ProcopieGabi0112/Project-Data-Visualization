{
  "nbformat": 4,
  "nbformat_minor": 0,
  "metadata": {
    "colab": {
      "provenance": []
    },
    "kernelspec": {
      "name": "python3",
      "display_name": "Python 3"
    },
    "language_info": {
      "name": "python"
    }
  },
  "cells": [
    {
      "cell_type": "markdown",
      "source": [
        "## 1. Data Processing\n"
      ],
      "metadata": {
        "id": "eb-GCU4vq_UX"
      }
    },
    {
      "cell_type": "markdown",
      "source": [
        "### Install Library"
      ],
      "metadata": {
        "id": "Qo7NmvhdrQUp"
      }
    },
    {
      "cell_type": "code",
      "execution_count": null,
      "metadata": {
        "id": "TaPJOAQPpCul",
        "colab": {
          "base_uri": "https://localhost:8080/"
        },
        "outputId": "192adabd-8ba3-4c3b-a751-efe31cf8f1fe"
      },
      "outputs": [
        {
          "output_type": "stream",
          "name": "stdout",
          "text": [
            "Looking in indexes: https://pypi.org/simple, https://us-python.pkg.dev/colab-wheels/public/simple/\n",
            "Requirement already satisfied: pyspark in /usr/local/lib/python3.9/dist-packages (3.4.0)\n",
            "Requirement already satisfied: py4j==0.10.9.7 in /usr/local/lib/python3.9/dist-packages (from pyspark) (0.10.9.7)\n",
            "Looking in indexes: https://pypi.org/simple, https://us-python.pkg.dev/colab-wheels/public/simple/\n",
            "Requirement already satisfied: numpy in /usr/local/lib/python3.9/dist-packages (1.22.4)\n",
            "Looking in indexes: https://pypi.org/simple, https://us-python.pkg.dev/colab-wheels/public/simple/\n",
            "Requirement already satisfied: pandas in /usr/local/lib/python3.9/dist-packages (1.5.3)\n",
            "Requirement already satisfied: numpy>=1.20.3 in /usr/local/lib/python3.9/dist-packages (from pandas) (1.22.4)\n",
            "Requirement already satisfied: pytz>=2020.1 in /usr/local/lib/python3.9/dist-packages (from pandas) (2022.7.1)\n",
            "Requirement already satisfied: python-dateutil>=2.8.1 in /usr/local/lib/python3.9/dist-packages (from pandas) (2.8.2)\n",
            "Requirement already satisfied: six>=1.5 in /usr/local/lib/python3.9/dist-packages (from python-dateutil>=2.8.1->pandas) (1.16.0)\n",
            "Looking in indexes: https://pypi.org/simple, https://us-python.pkg.dev/colab-wheels/public/simple/\n",
            "Requirement already satisfied: matplotlib in /usr/local/lib/python3.9/dist-packages (3.7.1)\n",
            "Requirement already satisfied: kiwisolver>=1.0.1 in /usr/local/lib/python3.9/dist-packages (from matplotlib) (1.4.4)\n",
            "Requirement already satisfied: numpy>=1.20 in /usr/local/lib/python3.9/dist-packages (from matplotlib) (1.22.4)\n",
            "Requirement already satisfied: packaging>=20.0 in /usr/local/lib/python3.9/dist-packages (from matplotlib) (23.1)\n",
            "Requirement already satisfied: python-dateutil>=2.7 in /usr/local/lib/python3.9/dist-packages (from matplotlib) (2.8.2)\n",
            "Requirement already satisfied: pyparsing>=2.3.1 in /usr/local/lib/python3.9/dist-packages (from matplotlib) (3.0.9)\n",
            "Requirement already satisfied: importlib-resources>=3.2.0 in /usr/local/lib/python3.9/dist-packages (from matplotlib) (5.12.0)\n",
            "Requirement already satisfied: cycler>=0.10 in /usr/local/lib/python3.9/dist-packages (from matplotlib) (0.11.0)\n",
            "Requirement already satisfied: contourpy>=1.0.1 in /usr/local/lib/python3.9/dist-packages (from matplotlib) (1.0.7)\n",
            "Requirement already satisfied: fonttools>=4.22.0 in /usr/local/lib/python3.9/dist-packages (from matplotlib) (4.39.3)\n",
            "Requirement already satisfied: pillow>=6.2.0 in /usr/local/lib/python3.9/dist-packages (from matplotlib) (8.4.0)\n",
            "Requirement already satisfied: zipp>=3.1.0 in /usr/local/lib/python3.9/dist-packages (from importlib-resources>=3.2.0->matplotlib) (3.15.0)\n",
            "Requirement already satisfied: six>=1.5 in /usr/local/lib/python3.9/dist-packages (from python-dateutil>=2.7->matplotlib) (1.16.0)\n",
            "Looking in indexes: https://pypi.org/simple, https://us-python.pkg.dev/colab-wheels/public/simple/\n",
            "Requirement already satisfied: seaborn in /usr/local/lib/python3.9/dist-packages (0.12.2)\n",
            "Requirement already satisfied: numpy!=1.24.0,>=1.17 in /usr/local/lib/python3.9/dist-packages (from seaborn) (1.22.4)\n",
            "Requirement already satisfied: pandas>=0.25 in /usr/local/lib/python3.9/dist-packages (from seaborn) (1.5.3)\n",
            "Requirement already satisfied: matplotlib!=3.6.1,>=3.1 in /usr/local/lib/python3.9/dist-packages (from seaborn) (3.7.1)\n",
            "Requirement already satisfied: contourpy>=1.0.1 in /usr/local/lib/python3.9/dist-packages (from matplotlib!=3.6.1,>=3.1->seaborn) (1.0.7)\n",
            "Requirement already satisfied: kiwisolver>=1.0.1 in /usr/local/lib/python3.9/dist-packages (from matplotlib!=3.6.1,>=3.1->seaborn) (1.4.4)\n",
            "Requirement already satisfied: pyparsing>=2.3.1 in /usr/local/lib/python3.9/dist-packages (from matplotlib!=3.6.1,>=3.1->seaborn) (3.0.9)\n",
            "Requirement already satisfied: cycler>=0.10 in /usr/local/lib/python3.9/dist-packages (from matplotlib!=3.6.1,>=3.1->seaborn) (0.11.0)\n",
            "Requirement already satisfied: importlib-resources>=3.2.0 in /usr/local/lib/python3.9/dist-packages (from matplotlib!=3.6.1,>=3.1->seaborn) (5.12.0)\n",
            "Requirement already satisfied: python-dateutil>=2.7 in /usr/local/lib/python3.9/dist-packages (from matplotlib!=3.6.1,>=3.1->seaborn) (2.8.2)\n",
            "Requirement already satisfied: fonttools>=4.22.0 in /usr/local/lib/python3.9/dist-packages (from matplotlib!=3.6.1,>=3.1->seaborn) (4.39.3)\n",
            "Requirement already satisfied: packaging>=20.0 in /usr/local/lib/python3.9/dist-packages (from matplotlib!=3.6.1,>=3.1->seaborn) (23.1)\n",
            "Requirement already satisfied: pillow>=6.2.0 in /usr/local/lib/python3.9/dist-packages (from matplotlib!=3.6.1,>=3.1->seaborn) (8.4.0)\n",
            "Requirement already satisfied: pytz>=2020.1 in /usr/local/lib/python3.9/dist-packages (from pandas>=0.25->seaborn) (2022.7.1)\n",
            "Requirement already satisfied: zipp>=3.1.0 in /usr/local/lib/python3.9/dist-packages (from importlib-resources>=3.2.0->matplotlib!=3.6.1,>=3.1->seaborn) (3.15.0)\n",
            "Requirement already satisfied: six>=1.5 in /usr/local/lib/python3.9/dist-packages (from python-dateutil>=2.7->matplotlib!=3.6.1,>=3.1->seaborn) (1.16.0)\n",
            "Looking in indexes: https://pypi.org/simple, https://us-python.pkg.dev/colab-wheels/public/simple/\n",
            "Requirement already satisfied: plotly in /usr/local/lib/python3.9/dist-packages (5.13.1)\n",
            "Requirement already satisfied: tenacity>=6.2.0 in /usr/local/lib/python3.9/dist-packages (from plotly) (8.2.2)\n",
            "Looking in indexes: https://pypi.org/simple, https://us-python.pkg.dev/colab-wheels/public/simple/\n",
            "Requirement already satisfied: sklearn in /usr/local/lib/python3.9/dist-packages (0.0.post4)\n"
          ]
        }
      ],
      "source": [
        "!pip install pyspark\n",
        "!pip install numpy\n",
        "!pip install pandas\n",
        "!pip install matplotlib\n",
        "!pip install seaborn\n",
        "!pip install plotly\n",
        "!pip install sklearn"
      ]
    },
    {
      "cell_type": "markdown",
      "source": [
        "### Loading Library"
      ],
      "metadata": {
        "id": "CNAeaUMMrfZL"
      }
    },
    {
      "cell_type": "code",
      "source": [
        "from time import time\n",
        "\n",
        "import numpy as np\n",
        "import pandas as pd\n",
        "import matplotlib.pyplot as plt\n",
        "import plotly.express as px\n",
        "import seaborn as sns\n",
        "\n",
        "from pyspark.sql import SparkSession\n",
        "from pyspark.sql.functions import stddev,countDistinct,count,avg,col\n",
        "from pyspark.sql.functions import when\n",
        "from pyspark.sql.functions import mean\n",
        "\n",
        "from pyspark.sql.types import IntegerType\n",
        "from sklearn.impute import SimpleImputer"
      ],
      "metadata": {
        "id": "KbYIIx-_rl5v"
      },
      "execution_count": null,
      "outputs": []
    },
    {
      "cell_type": "markdown",
      "source": [
        "### Spark Session"
      ],
      "metadata": {
        "id": "8eou2oaArx6N"
      }
    },
    {
      "cell_type": "code",
      "source": [
        "spark = SparkSession.builder.master(\"local[4]\").getOrCreate()"
      ],
      "metadata": {
        "id": "EhMVV3Wir78R"
      },
      "execution_count": null,
      "outputs": []
    },
    {
      "cell_type": "markdown",
      "source": [
        "### Saving Data as PySpark DataFrame"
      ],
      "metadata": {
        "id": "wfSVS-NRsDib"
      }
    },
    {
      "cell_type": "code",
      "source": [
        "data_as_spark = spark.read.csv('pacients_null.csv',header=True)\n",
        "data_as_spark_1 = spark.read.csv('pacients_.csv',header=True)"
      ],
      "metadata": {
        "id": "-GV_VtZUsOaA"
      },
      "execution_count": null,
      "outputs": []
    },
    {
      "cell_type": "markdown",
      "source": [
        "### Data Columns"
      ],
      "metadata": {
        "id": "3WaScaX5yKKt"
      }
    },
    {
      "cell_type": "code",
      "source": [
        "data_as_spark.columns"
      ],
      "metadata": {
        "colab": {
          "base_uri": "https://localhost:8080/"
        },
        "id": "NLbV_AYGyMtE",
        "outputId": "c8554013-9cd5-42fb-f7db-b03cdb451213"
      },
      "execution_count": null,
      "outputs": [
        {
          "output_type": "execute_result",
          "data": {
            "text/plain": [
              "['group',\n",
              " 'ID',\n",
              " 'dod',\n",
              " 'outcome',\n",
              " 'age',\n",
              " 'gender',\n",
              " 'BMI',\n",
              " 'dofa',\n",
              " 'hypertensive',\n",
              " 'atrialfibrillation',\n",
              " 'CHD_with_no_MI',\n",
              " 'diabetes',\n",
              " 'deficiencyanemias',\n",
              " 'depression',\n",
              " 'Hyperlipemia',\n",
              " 'Renull_failure',\n",
              " 'COPD',\n",
              " 'heart_rate',\n",
              " 'Systolic_blood_pressure',\n",
              " 'Diastolic_blood_pressure',\n",
              " 'Respiratory_rate',\n",
              " 'temperature',\n",
              " 'SPO2',\n",
              " 'Urine_output',\n",
              " 'hematocrit',\n",
              " 'RBC',\n",
              " 'MCH',\n",
              " 'MCHC',\n",
              " 'MCV',\n",
              " 'RDW',\n",
              " 'Leucocyte',\n",
              " 'Platelets',\n",
              " 'Neutrophils',\n",
              " 'Basophils',\n",
              " 'Lymphocyte',\n",
              " 'PT',\n",
              " 'INR',\n",
              " 'NT-proBNP',\n",
              " 'Creatine_kise',\n",
              " 'Creatinine',\n",
              " 'Urea_nitrogen',\n",
              " 'glucose',\n",
              " 'Blood_potassium',\n",
              " 'Blood_sodium',\n",
              " 'Blood_calcium',\n",
              " 'Chloride',\n",
              " 'Anion_gap',\n",
              " 'Magnesium_ion',\n",
              " 'PH',\n",
              " 'Bicarbote',\n",
              " 'Lactic_acid',\n",
              " 'PCO2',\n",
              " 'EF']"
            ]
          },
          "metadata": {},
          "execution_count": 51
        }
      ]
    },
    {
      "cell_type": "markdown",
      "source": [
        "### Data Scheme"
      ],
      "metadata": {
        "id": "lp8EiVlTyRMi"
      }
    },
    {
      "cell_type": "code",
      "source": [
        "data_as_spark.printSchema()"
      ],
      "metadata": {
        "colab": {
          "base_uri": "https://localhost:8080/"
        },
        "id": "PtlOF27XyT6u",
        "outputId": "f6c5ad31-c204-403d-de9e-8cf24a68f926"
      },
      "execution_count": null,
      "outputs": [
        {
          "output_type": "stream",
          "name": "stdout",
          "text": [
            "root\n",
            " |-- group: string (nullable = true)\n",
            " |-- ID: string (nullable = true)\n",
            " |-- dod: string (nullable = true)\n",
            " |-- outcome: string (nullable = true)\n",
            " |-- age: string (nullable = true)\n",
            " |-- gender: string (nullable = true)\n",
            " |-- BMI: string (nullable = true)\n",
            " |-- dofa: string (nullable = true)\n",
            " |-- hypertensive: string (nullable = true)\n",
            " |-- atrialfibrillation: string (nullable = true)\n",
            " |-- CHD_with_no_MI: string (nullable = true)\n",
            " |-- diabetes: string (nullable = true)\n",
            " |-- deficiencyanemias: string (nullable = true)\n",
            " |-- depression: string (nullable = true)\n",
            " |-- Hyperlipemia: string (nullable = true)\n",
            " |-- Renull_failure: string (nullable = true)\n",
            " |-- COPD: string (nullable = true)\n",
            " |-- heart_rate: string (nullable = true)\n",
            " |-- Systolic_blood_pressure: string (nullable = true)\n",
            " |-- Diastolic_blood_pressure: string (nullable = true)\n",
            " |-- Respiratory_rate: string (nullable = true)\n",
            " |-- temperature: string (nullable = true)\n",
            " |-- SPO2: string (nullable = true)\n",
            " |-- Urine_output: string (nullable = true)\n",
            " |-- hematocrit: string (nullable = true)\n",
            " |-- RBC: string (nullable = true)\n",
            " |-- MCH: string (nullable = true)\n",
            " |-- MCHC: string (nullable = true)\n",
            " |-- MCV: string (nullable = true)\n",
            " |-- RDW: string (nullable = true)\n",
            " |-- Leucocyte: string (nullable = true)\n",
            " |-- Platelets: string (nullable = true)\n",
            " |-- Neutrophils: string (nullable = true)\n",
            " |-- Basophils: string (nullable = true)\n",
            " |-- Lymphocyte: string (nullable = true)\n",
            " |-- PT: string (nullable = true)\n",
            " |-- INR: string (nullable = true)\n",
            " |-- NT-proBNP: string (nullable = true)\n",
            " |-- Creatine_kise: string (nullable = true)\n",
            " |-- Creatinine: string (nullable = true)\n",
            " |-- Urea_nitrogen: string (nullable = true)\n",
            " |-- glucose: string (nullable = true)\n",
            " |-- Blood_potassium: string (nullable = true)\n",
            " |-- Blood_sodium: string (nullable = true)\n",
            " |-- Blood_calcium: string (nullable = true)\n",
            " |-- Chloride: string (nullable = true)\n",
            " |-- Anion_gap: string (nullable = true)\n",
            " |-- Magnesium_ion: string (nullable = true)\n",
            " |-- PH: string (nullable = true)\n",
            " |-- Bicarbote: string (nullable = true)\n",
            " |-- Lactic_acid: string (nullable = true)\n",
            " |-- PCO2: string (nullable = true)\n",
            " |-- EF: string (nullable = true)\n",
            "\n"
          ]
        }
      ]
    },
    {
      "cell_type": "markdown",
      "source": [
        "### Data Visualization"
      ],
      "metadata": {
        "id": "7__J3Ihh0Uxr"
      }
    },
    {
      "cell_type": "code",
      "source": [
        "data_as_spark.createOrReplaceTempView(\"results\")\n",
        "sql_results_data_as_spark = spark.sql(\"select age Varsta,gender Sex,heart_rate Ritm_cardiac,depression Depresie,temperature Temperatura,Respiratory_rate Frecventa_respiratorie,Blood_calcium Calciu,Blood_potassium Potasiu,Blood_sodium Sodiu  from results\")\n",
        "sql_results_data_as_spark.show()"
      ],
      "metadata": {
        "colab": {
          "base_uri": "https://localhost:8080/"
        },
        "id": "R_FPLYBX0U8-",
        "outputId": "b8d06253-a6b0-44c6-ff10-964426dcc127"
      },
      "execution_count": null,
      "outputs": [
        {
          "output_type": "stream",
          "name": "stdout",
          "text": [
            "+------+---+------------+--------+-----------+----------------------+-----------+-----------+-----------+\n",
            "|Varsta|Sex|Ritm_cardiac|Depresie|Temperatura|Frecventa_respiratorie|     Calciu|    Potasiu|      Sodiu|\n",
            "+------+---+------------+--------+-----------+----------------------+-----------+-----------+-----------+\n",
            "|    72|  1| 68.83783784|       0|36.71428571|           16.62162162|7.463636364|4.816666667|     138.75|\n",
            "|    75|  2| 101.3703704|       0|36.68253968|           20.85185185|     8.1625|       4.45|138.8888889|\n",
            "|    83|  2| 72.31818182|       0| 36.4537037|                 23.64|8.266666667|      5.825|140.7142857|\n",
            "|    43|  2|        94.5|       0|36.28703704|           21.85714286|9.476923077|4.386666667|      138.5|\n",
            "|    75|  2|       67.92|       0|36.76190476|                 21.36|8.733333333|4.783333333|136.6666667|\n",
            "|    76|  1| 74.18181818|       0|35.26666667|           20.54545455|8.466666667|      4.075|     136.25|\n",
            "|    72|  1| 69.63636364|       0| 35.6031746|           19.14814815|      8.775|4.606666667|144.1333333|\n",
            "|    83|  2| 84.66666667|       0|36.67361111|                  18.4|9.171428571|     4.2375|        140|\n",
            "|    61|  2| 91.91666667|       0| 37.1031746|           18.58333333|    9.44375|4.718181818|141.0909091|\n",
            "|    67|  1| 75.08333333|       0|36.86111111|                18.125|       8.15|       3.87|      142.3|\n",
            "|    70|  2| 95.62962963|       0| 37.5555563|           17.48148148|       8.45|4.409090909|140.2727273|\n",
            "|    83|  2|       65.16|       0|36.47777778|                  17.4|        9.1|4.033333333|140.3333333|\n",
            "|    77|  2| 78.83333333|       0|36.41666667|           15.83333333|8.233333333|       3.88|      141.7|\n",
            "|    83|  1| 65.86956522|       0|36.15740741|           25.43478261|8.716666667|       4.34|      137.9|\n",
            "|    69|  2| 98.54411765|       0|36.50925926|           34.69343066|       9.22|3.971428571|145.4285714|\n",
            "|    87|  2|       73.48|       0|36.93333333|           20.69230769|       9.02|4.685714286|139.1428571|\n",
            "|    83|  2| 83.69230769|       0|36.92222214|           15.65217391|8.888888889|4.790909091|132.8181818|\n",
            "|    56|  2|        64.6|       1|36.69444444|           16.07142857|        7.7|        4.6|135.8333333|\n",
            "|    45|  2|          82|       0|36.85185185|           28.15384615|8.814285714|        5.3|136.6363636|\n",
            "|    89|  2| 70.08333333|       0|36.00793651|           25.58333333|8.566666667|          4|137.7777778|\n",
            "+------+---+------------+--------+-----------+----------------------+-----------+-----------+-----------+\n",
            "only showing top 20 rows\n",
            "\n"
          ]
        }
      ]
    },
    {
      "cell_type": "markdown",
      "source": [
        "### Data Summary"
      ],
      "metadata": {
        "id": "FCc71a983Q7b"
      }
    },
    {
      "cell_type": "code",
      "source": [
        "sql_describe_data_as_spark = spark.sql(\"select age Varsta,gender Sex,heart_rate Ritm_cardiac,temperature Temperatura,Blood_calcium Calciu,Blood_potassium Potasiu from results\")\n",
        "sql_describe_data_as_spark.summary().show()"
      ],
      "metadata": {
        "colab": {
          "base_uri": "https://localhost:8080/"
        },
        "id": "ARz0cNZl3UwR",
        "outputId": "e6435854-20b4-4af9-d62c-a366eb76f040"
      },
      "execution_count": null,
      "outputs": [
        {
          "output_type": "stream",
          "name": "stdout",
          "text": [
            "+-------+-----------------+------------------+------------------+-----------------+------------------+-------------------+\n",
            "|summary|           Varsta|               Sex|      Ritm_cardiac|      Temperatura|            Calciu|            Potasiu|\n",
            "+-------+-----------------+------------------+------------------+-----------------+------------------+-------------------+\n",
            "|  count|             8239|              8239|              8239|             8239|              8239|               8239|\n",
            "|   mean|74.05522514868309|1.5250637213254035|  84.5758484075085|36.67728595220201| 8.500894160843519|   4.17664639585726|\n",
            "| stddev|13.42916763628398|0.4994017228542491|16.012801787404708| 0.60733345471502|0.5720539818336826|0.41468493461762823|\n",
            "|    min|               19|                 1|       100.0357143|            33.25|       10.00769231|                  3|\n",
            "|    25%|             65.0|               1.0|             72.36|      36.28571429|       8.145454545|                3.9|\n",
            "|    50%|             77.0|               2.0|       83.60869565|      36.65079389|               8.5|        4.115384615|\n",
            "|    75%|             85.0|               2.0|       95.89285714|      37.02222222|           8.86875|                4.4|\n",
            "|    max|               99|                 2|              null|             null|              null|        6.566666667|\n",
            "+-------+-----------------+------------------+------------------+-----------------+------------------+-------------------+\n",
            "\n"
          ]
        }
      ]
    },
    {
      "cell_type": "markdown",
      "source": [
        "### Visualization of age range"
      ],
      "metadata": {
        "id": "6Ah4PIxm3afq"
      }
    },
    {
      "cell_type": "code",
      "source": [
        "data_as_spark.createOrReplaceTempView(\"pacients\")\n",
        "sql_age_range_data_as_spark = spark.sql(\"select min(age) Varsta_minima , max(age) Varsta_maxima from pacients\")\n",
        "sql_age_range_data_as_spark.show()"
      ],
      "metadata": {
        "colab": {
          "base_uri": "https://localhost:8080/"
        },
        "id": "kUV-PPZ13edc",
        "outputId": "b884dc27-e203-4d9d-841f-887c418b4f66"
      },
      "execution_count": null,
      "outputs": [
        {
          "output_type": "stream",
          "name": "stdout",
          "text": [
            "+-------------+-------------+\n",
            "|Varsta_minima|Varsta_maxima|\n",
            "+-------------+-------------+\n",
            "|           19|           99|\n",
            "+-------------+-------------+\n",
            "\n"
          ]
        }
      ]
    },
    {
      "cell_type": "markdown",
      "source": [
        "### Age distribution"
      ],
      "metadata": {
        "id": "xhU0z8F03jis"
      }
    },
    {
      "cell_type": "code",
      "source": [
        "data_as_spark.createOrReplaceTempView(\"age_distrib\")\n",
        "sql_age_data_as_spark = spark.sql(\"SELECT `19-40`,`41-60`,`61-80`,`81-99` FROM ( select count(ID) `19-40` from age_distrib where age>=19 AND age<=40) JOIN (select count(ID) `41-60` from age_distrib where age>=41 AND age<=60) JOIN (select count(ID) `61-80` from age_distrib where age>=61 AND age<=80) JOIN (select count(ID) `81-99` from age_distrib where age>=81 AND age<=99)\")\n",
        "sql_age_data_as_spark.show()"
      ],
      "metadata": {
        "colab": {
          "base_uri": "https://localhost:8080/"
        },
        "id": "QdGLMaQl3smL",
        "outputId": "54da49e9-dd8c-49ad-c400-73d454c0b4c2"
      },
      "execution_count": null,
      "outputs": [
        {
          "output_type": "stream",
          "name": "stdout",
          "text": [
            "+-----+-----+-----+-----+\n",
            "|19-40|41-60|61-80|81-99|\n",
            "+-----+-----+-----+-----+\n",
            "|  140| 1197| 3619| 3283|\n",
            "+-----+-----+-----+-----+\n",
            "\n"
          ]
        }
      ]
    },
    {
      "cell_type": "markdown",
      "source": [
        "### Gender distribution"
      ],
      "metadata": {
        "id": "qoiopx573ylL"
      }
    },
    {
      "cell_type": "code",
      "source": [
        "data_as_spark.createOrReplaceTempView(\"age_distrib\")\n",
        "sql_gender_data_as_spark = spark.sql(\"SELECT `No. Women`,`No. Men` FROM ( select count(ID) `No. Women` from age_distrib where gender==1) JOIN (select count(ID) `No. Men` from age_distrib where gender==2)\")\n",
        "sql_gender_data_as_spark.show()"
      ],
      "metadata": {
        "colab": {
          "base_uri": "https://localhost:8080/"
        },
        "id": "JVeAPwJT31sS",
        "outputId": "07eb3cb2-bce0-4d2c-9d64-cd1a8071b746"
      },
      "execution_count": null,
      "outputs": [
        {
          "output_type": "stream",
          "name": "stdout",
          "text": [
            "+---------+-------+\n",
            "|No. Women|No. Men|\n",
            "+---------+-------+\n",
            "|     3913|   4326|\n",
            "+---------+-------+\n",
            "\n"
          ]
        }
      ]
    },
    {
      "cell_type": "markdown",
      "source": [
        "### Survivors distribution"
      ],
      "metadata": {
        "id": "xcZGSBph36AL"
      }
    },
    {
      "cell_type": "code",
      "source": [
        "sql_survivors_data_as_spark = spark.sql(\"SELECT `Survivors`,`Others` FROM ( select count(ID) `Survivors` from age_distrib where outcome==0) JOIN (select count(ID) `Others` from age_distrib where outcome==1)\")\n",
        "sql_survivors_data_as_spark.show()"
      ],
      "metadata": {
        "colab": {
          "base_uri": "https://localhost:8080/"
        },
        "id": "ORxqpbxJ4A62",
        "outputId": "4ce99e6e-218a-48df-e575-65a3bdb03275"
      },
      "execution_count": null,
      "outputs": [
        {
          "output_type": "stream",
          "name": "stdout",
          "text": [
            "+---------+------+\n",
            "|Survivors|Others|\n",
            "+---------+------+\n",
            "|     7119|  1113|\n",
            "+---------+------+\n",
            "\n"
          ]
        }
      ]
    },
    {
      "cell_type": "markdown",
      "source": [
        "## Data Processing"
      ],
      "metadata": {
        "id": "FXgnGWtl4FdY"
      }
    },
    {
      "cell_type": "markdown",
      "source": [
        "### Columns processing"
      ],
      "metadata": {
        "id": "YK4Br-Fj4KNG"
      }
    },
    {
      "cell_type": "markdown",
      "source": [
        "A first step that we consider important is renaming the columns of the data set. Some of these contain certain names that are not exactly known. To note which of the columns are important, I will rename each column with a more suggestive name. To view the initial names of the columns, you can observe the result of one of the previous cells."
      ],
      "metadata": {
        "id": "CVu31SWh4OOs"
      }
    },
    {
      "cell_type": "code",
      "source": [
        "data_as_spark=data_as_spark.withColumnRenamed('group','Grup')\n",
        "data_as_spark=data_as_spark.withColumnRenamed('ID','Numar')\n",
        "data_as_spark=data_as_spark.withColumnRenamed('dod','Data_deces/externare')\n",
        "data_as_spark=data_as_spark.withColumnRenamed('outcome','Stare')\n",
        "data_as_spark=data_as_spark.withColumnRenamed('age','Varsta')\n",
        "data_as_spark=data_as_spark.withColumnRenamed('gender','Sex')\n",
        "data_as_spark=data_as_spark.withColumnRenamed('BMI','Indice_de_masa_corporala')\n",
        "data_as_spark=data_as_spark.withColumnRenamed('dofa','Data_internarii')\n",
        "data_as_spark=data_as_spark.withColumnRenamed('hypertensive','Hipertensiv')\n",
        "data_as_spark=data_as_spark.withColumnRenamed('atrialfibrillation','Fibrilatie_atriala')\n",
        "data_as_spark=data_as_spark.withColumnRenamed('CHD_with_no_MI','Boala_coronariana')\n",
        "data_as_spark=data_as_spark.withColumnRenamed('diabetes','Diabet')\n",
        "data_as_spark=data_as_spark.withColumnRenamed('deficiencyanemias','Anemii_deficitare')\n",
        "data_as_spark=data_as_spark.withColumnRenamed('depression','Depresie')\n",
        "data_as_spark=data_as_spark.withColumnRenamed('Hyperlipemia','Hiperlipemie')\n",
        "data_as_spark=data_as_spark.withColumnRenamed('Renull_failure','Insuficienta_renala')\n",
        "data_as_spark=data_as_spark.withColumnRenamed('COPD','Boala_pulmonara_obstructiva_cronica')\n",
        "data_as_spark=data_as_spark.withColumnRenamed('heart_rate','Frecventa_cardiaca')\n",
        "data_as_spark=data_as_spark.withColumnRenamed('Systolic_blood_pressure','Tensiune_arteriala_sistolica')\n",
        "data_as_spark=data_as_spark.withColumnRenamed('Diastolic_blood_pressure','Tensiune_arteriala_diastolica')\n",
        "data_as_spark=data_as_spark.withColumnRenamed('Respiratory_rate','Frecventa_respiratorie')\n",
        "data_as_spark=data_as_spark.withColumnRenamed('temperature','Temperatura')\n",
        "data_as_spark=data_as_spark.withColumnRenamed('SPO2','Saturatia_pulsului_de_oxigen')\n",
        "data_as_spark=data_as_spark.withColumnRenamed('Urine_output','Urina')\n",
        "data_as_spark=data_as_spark.withColumnRenamed('hematocrit','Volumul_celule_rosii_din_sange')\n",
        "data_as_spark=data_as_spark.withColumnRenamed('RBC','Globule_rosii')\n",
        "data_as_spark=data_as_spark.withColumnRenamed('MCH','Hemoglobina_corpusculara_medie')\n",
        "data_as_spark=data_as_spark.withColumnRenamed('MCHC','Concentratia_medie_a_hemoglobinei_corpusculare')\n",
        "data_as_spark=data_as_spark.withColumnRenamed('MCV','Volumul_corpuscular_mediu')\n",
        "data_as_spark=data_as_spark.withColumnRenamed('RDW','Latimea_distributiei_globulelor_rosii')\n",
        "data_as_spark=data_as_spark.withColumnRenamed('Leucocyte','Leucocite')\n",
        "data_as_spark=data_as_spark.withColumnRenamed('Platelets','Trombocite')\n",
        "data_as_spark=data_as_spark.withColumnRenamed('Neutrophils','Neurofile')\n",
        "data_as_spark=data_as_spark.withColumnRenamed('Basophils','Globule_albe')\n",
        "data_as_spark=data_as_spark.withColumnRenamed('Lymphocyte','Limfocite')\n",
        "data_as_spark=data_as_spark.withColumnRenamed('PT','Timp_de_protrombina')\n",
        "data_as_spark=data_as_spark.withColumnRenamed('INR','Raport_internationalizat_normalizat')\n",
        "data_as_spark=data_as_spark.withColumnRenamed('NT-proBNP','NT_proBNP')\n",
        "data_as_spark=data_as_spark.withColumnRenamed('Creatine_kise','Creatin_kinaza')\n",
        "data_as_spark=data_as_spark.withColumnRenamed('Creatinine','Creatina')\n",
        "data_as_spark=data_as_spark.withColumnRenamed('Urea_nitrogen','Nitrogen_ureic')\n",
        "data_as_spark=data_as_spark.withColumnRenamed('glucose','Glucoza')\n",
        "data_as_spark=data_as_spark.withColumnRenamed('Blood_potassium','Potasiu_din_sange')\n",
        "data_as_spark=data_as_spark.withColumnRenamed('Blood_sodium','Sodiu_din_sange')\n",
        "data_as_spark=data_as_spark.withColumnRenamed('Blood_calcium','Calciu_din_sange')\n",
        "data_as_spark=data_as_spark.withColumnRenamed('Chloride','Clorura')\n",
        "data_as_spark=data_as_spark.withColumnRenamed('Anion_gap','Interval_anionic')\n",
        "data_as_spark=data_as_spark.withColumnRenamed('Magnesium_ion','Ioni_de_magneziu')\n",
        "data_as_spark=data_as_spark.withColumnRenamed('PH','Concentratia_ionilor_de_oxigen')\n",
        "data_as_spark=data_as_spark.withColumnRenamed('Bicarbonate','Bicarbonat')\n",
        "data_as_spark=data_as_spark.withColumnRenamed('Lactic_acid','Acid_lactic')\n",
        "data_as_spark=data_as_spark.withColumnRenamed('PCO2','Presiunea_partiala_a_dioxidului_de_carbon')\n",
        "data_as_spark=data_as_spark.withColumnRenamed('EF','Fractie_de_eliminare')  "
      ],
      "metadata": {
        "id": "pxRp4dcI4IbK"
      },
      "execution_count": null,
      "outputs": []
    },
    {
      "cell_type": "code",
      "source": [
        "data_as_spark.columns"
      ],
      "metadata": {
        "colab": {
          "base_uri": "https://localhost:8080/"
        },
        "id": "IUOIY__nPwBD",
        "outputId": "aec58123-1b49-4327-c795-80c1564f5da8"
      },
      "execution_count": null,
      "outputs": [
        {
          "output_type": "execute_result",
          "data": {
            "text/plain": [
              "['Grup',\n",
              " 'Numar',\n",
              " 'Data_deces/externare',\n",
              " 'Stare',\n",
              " 'Varsta',\n",
              " 'Sex',\n",
              " 'Indice_de_masa_corporala',\n",
              " 'Data_internarii',\n",
              " 'Hipertensiv',\n",
              " 'Fibrilatie_atriala',\n",
              " 'Boala_coronariana',\n",
              " 'Diabet',\n",
              " 'Anemii_deficitare',\n",
              " 'Depresie',\n",
              " 'Hiperlipemie',\n",
              " 'Insuficienta_renala',\n",
              " 'Boala_pulmonara_obstructiva_cronica',\n",
              " 'Frecventa_cardiaca',\n",
              " 'Tensiune_arteriala_sistolica',\n",
              " 'Tensiune_arteriala_diastolica',\n",
              " 'Frecventa_respiratorie',\n",
              " 'Temperatura',\n",
              " 'Saturatia_pulsului_de_oxigen',\n",
              " 'Urina',\n",
              " 'Volumul_celule_rosii_din_sange',\n",
              " 'Globule_rosii',\n",
              " 'Hemoglobina_corpusculara_medie',\n",
              " 'Concentratia_medie_a_hemoglobinei_corpusculare',\n",
              " 'Volumul_corpuscular_mediu',\n",
              " 'Latimea_distributiei_globulelor_rosii',\n",
              " 'Leucocite',\n",
              " 'Trombocite',\n",
              " 'Neurofile',\n",
              " 'Globule_albe',\n",
              " 'Limfocite',\n",
              " 'Timp_de_protrombina',\n",
              " 'Raport_internationalizat_normalizat',\n",
              " 'NT_proBNP',\n",
              " 'Creatin_kinaza',\n",
              " 'Creatina',\n",
              " 'Nitrogen_ureic',\n",
              " 'Glucoza',\n",
              " 'Potasiu_din_sange',\n",
              " 'Sodiu_din_sange',\n",
              " 'Calciu_din_sange',\n",
              " 'Clorura',\n",
              " 'Interval_anionic',\n",
              " 'Ioni_de_magneziu',\n",
              " 'Concentratia_ionilor_de_oxigen',\n",
              " 'Bicarbote',\n",
              " 'Acid_lactic',\n",
              " 'Presiunea_partiala_a_dioxidului_de_carbon',\n",
              " 'Fractie_de_eliminare']"
            ]
          },
          "metadata": {},
          "execution_count": 60
        }
      ]
    },
    {
      "cell_type": "markdown",
      "source": [
        "### Processing of the column 'Sex' values"
      ],
      "metadata": {
        "id": "DfOd3_eXP3Qc"
      }
    },
    {
      "cell_type": "code",
      "source": [
        "data_as_spark = data_as_spark.withColumn(\"Sex\",when(data_as_spark.Sex == \"1\",\"Female\").when(data_as_spark.Sex == \"2\",\"Male\").otherwise(\"null\"))"
      ],
      "metadata": {
        "id": "PRQeaXKDP9Xb"
      },
      "execution_count": null,
      "outputs": []
    },
    {
      "cell_type": "markdown",
      "source": [
        "### Modifications"
      ],
      "metadata": {
        "id": "x-lN_bZbQA57"
      }
    },
    {
      "cell_type": "code",
      "source": [
        "data_as_spark.createOrReplaceTempView(\"dataset\")\n",
        "sql_results_data_as_spark = spark.sql(\"select Varsta,Sex,Frecventa_cardiaca,Depresie,Temperatura,Frecventa_respiratorie from dataset\")\n",
        "sql_results_data_as_spark.show()"
      ],
      "metadata": {
        "colab": {
          "base_uri": "https://localhost:8080/"
        },
        "id": "EWdTw5f9QC2k",
        "outputId": "7e528c0c-54ac-4554-e3e2-aa638cc678df"
      },
      "execution_count": null,
      "outputs": [
        {
          "output_type": "stream",
          "name": "stdout",
          "text": [
            "+------+------+------------------+--------+-----------+----------------------+\n",
            "|Varsta|   Sex|Frecventa_cardiaca|Depresie|Temperatura|Frecventa_respiratorie|\n",
            "+------+------+------------------+--------+-----------+----------------------+\n",
            "|    72|Female|       68.83783784|       0|36.71428571|           16.62162162|\n",
            "|    75|  Male|       101.3703704|       0|36.68253968|           20.85185185|\n",
            "|    83|  Male|       72.31818182|       0| 36.4537037|                 23.64|\n",
            "|    43|  Male|              94.5|       0|36.28703704|           21.85714286|\n",
            "|    75|  Male|             67.92|       0|36.76190476|                 21.36|\n",
            "|    76|Female|       74.18181818|       0|35.26666667|           20.54545455|\n",
            "|    72|Female|       69.63636364|       0| 35.6031746|           19.14814815|\n",
            "|    83|  Male|       84.66666667|       0|36.67361111|                  18.4|\n",
            "|    61|  Male|       91.91666667|       0| 37.1031746|           18.58333333|\n",
            "|    67|Female|       75.08333333|       0|36.86111111|                18.125|\n",
            "|    70|  Male|       95.62962963|       0| 37.5555563|           17.48148148|\n",
            "|    83|  Male|             65.16|       0|36.47777778|                  17.4|\n",
            "|    77|  Male|       78.83333333|       0|36.41666667|           15.83333333|\n",
            "|    83|Female|       65.86956522|       0|36.15740741|           25.43478261|\n",
            "|    69|  Male|       98.54411765|       0|36.50925926|           34.69343066|\n",
            "|    87|  Male|             73.48|       0|36.93333333|           20.69230769|\n",
            "|    83|  Male|       83.69230769|       0|36.92222214|           15.65217391|\n",
            "|    56|  Male|              64.6|       1|36.69444444|           16.07142857|\n",
            "|    45|  Male|                82|       0|36.85185185|           28.15384615|\n",
            "|    89|  Male|       70.08333333|       0|36.00793651|           25.58333333|\n",
            "+------+------+------------------+--------+-----------+----------------------+\n",
            "only showing top 20 rows\n",
            "\n"
          ]
        }
      ]
    },
    {
      "cell_type": "markdown",
      "source": [
        "### Processing of the column 'Stare' values"
      ],
      "metadata": {
        "id": "OzyaNDqpQILI"
      }
    },
    {
      "cell_type": "code",
      "source": [
        "data_as_spark = data_as_spark.withColumn(\"Stare\",when(data_as_spark.Stare == \"0\",\"alive\").when(data_as_spark.Stare == \"1\",\"dead\").otherwise(\"null\"))"
      ],
      "metadata": {
        "id": "NfsEz-7aQMsd"
      },
      "execution_count": null,
      "outputs": []
    },
    {
      "cell_type": "markdown",
      "source": [
        "### Modifications"
      ],
      "metadata": {
        "id": "YxNQ-HW3QPRc"
      }
    },
    {
      "cell_type": "code",
      "source": [
        "data_as_spark.createOrReplaceTempView(\"dataset\")\n",
        "sql_results_data_as_spark = spark.sql(\"select Varsta,Sex,Stare,Frecventa_cardiaca,Depresie,Temperatura from dataset\")\n",
        "sql_results_data_as_spark.show()"
      ],
      "metadata": {
        "colab": {
          "base_uri": "https://localhost:8080/"
        },
        "id": "saj0d3WIQRLb",
        "outputId": "095367c0-1d22-4394-eaa7-8b78cbe350f3"
      },
      "execution_count": null,
      "outputs": [
        {
          "output_type": "stream",
          "name": "stdout",
          "text": [
            "+------+------+-----+------------------+--------+-----------+\n",
            "|Varsta|   Sex|Stare|Frecventa_cardiaca|Depresie|Temperatura|\n",
            "+------+------+-----+------------------+--------+-----------+\n",
            "|    72|Female|alive|       68.83783784|       0|36.71428571|\n",
            "|    75|  Male|alive|       101.3703704|       0|36.68253968|\n",
            "|    83|  Male|alive|       72.31818182|       0| 36.4537037|\n",
            "|    43|  Male|alive|              94.5|       0|36.28703704|\n",
            "|    75|  Male|alive|             67.92|       0|36.76190476|\n",
            "|    76|Female|alive|       74.18181818|       0|35.26666667|\n",
            "|    72|Female|alive|       69.63636364|       0| 35.6031746|\n",
            "|    83|  Male|alive|       84.66666667|       0|36.67361111|\n",
            "|    61|  Male|alive|       91.91666667|       0| 37.1031746|\n",
            "|    67|Female|alive|       75.08333333|       0|36.86111111|\n",
            "|    70|  Male|alive|       95.62962963|       0| 37.5555563|\n",
            "|    83|  Male|alive|             65.16|       0|36.47777778|\n",
            "|    77|  Male|alive|       78.83333333|       0|36.41666667|\n",
            "|    83|Female|alive|       65.86956522|       0|36.15740741|\n",
            "|    69|  Male|alive|       98.54411765|       0|36.50925926|\n",
            "|    87|  Male|alive|             73.48|       0|36.93333333|\n",
            "|    83|  Male| dead|       83.69230769|       0|36.92222214|\n",
            "|    56|  Male|alive|              64.6|       1|36.69444444|\n",
            "|    45|  Male|alive|                82|       0|36.85185185|\n",
            "|    89|  Male|alive|       70.08333333|       0|36.00793651|\n",
            "+------+------+-----+------------------+--------+-----------+\n",
            "only showing top 20 rows\n",
            "\n"
          ]
        }
      ]
    },
    {
      "cell_type": "markdown",
      "source": [
        "### Processing of the column 'Hipertensiv' values"
      ],
      "metadata": {
        "id": "YjePpuz1QkxE"
      }
    },
    {
      "cell_type": "code",
      "source": [
        "data_as_spark = data_as_spark.withColumn(\"Hipertensiv\",when(data_as_spark.Hipertensiv == \"0\",\"nu\").when(data_as_spark.Hipertensiv == \"1\",\"da\").otherwise(\"null\"))"
      ],
      "metadata": {
        "id": "fZ66V9pIQp2u"
      },
      "execution_count": null,
      "outputs": []
    },
    {
      "cell_type": "markdown",
      "source": [
        "### Modifications"
      ],
      "metadata": {
        "id": "DPODO5D_QvOc"
      }
    },
    {
      "cell_type": "code",
      "source": [
        "data_as_spark.createOrReplaceTempView(\"dataset\")\n",
        "sql_results_data_as_spark = spark.sql(\"select Varsta,Sex,Hipertensiv,Frecventa_cardiaca,Depresie,Temperatura from dataset\")\n",
        "sql_results_data_as_spark.show()"
      ],
      "metadata": {
        "colab": {
          "base_uri": "https://localhost:8080/"
        },
        "id": "cquw8pEYQxaC",
        "outputId": "636ce3e9-8484-4dc9-e00c-3f667d5176cb"
      },
      "execution_count": null,
      "outputs": [
        {
          "output_type": "stream",
          "name": "stdout",
          "text": [
            "+------+------+-----------+------------------+--------+-----------+\n",
            "|Varsta|   Sex|Hipertensiv|Frecventa_cardiaca|Depresie|Temperatura|\n",
            "+------+------+-----------+------------------+--------+-----------+\n",
            "|    72|Female|         nu|       68.83783784|       0|36.71428571|\n",
            "|    75|  Male|         nu|       101.3703704|       0|36.68253968|\n",
            "|    83|  Male|         nu|       72.31818182|       0| 36.4537037|\n",
            "|    43|  Male|         nu|              94.5|       0|36.28703704|\n",
            "|    75|  Male|         da|             67.92|       0|36.76190476|\n",
            "|    76|Female|         da|       74.18181818|       0|35.26666667|\n",
            "|    72|Female|         da|       69.63636364|       0| 35.6031746|\n",
            "|    83|  Male|         da|       84.66666667|       0|36.67361111|\n",
            "|    61|  Male|         da|       91.91666667|       0| 37.1031746|\n",
            "|    67|Female|         da|       75.08333333|       0|36.86111111|\n",
            "|    70|  Male|         da|       95.62962963|       0| 37.5555563|\n",
            "|    83|  Male|         da|             65.16|       0|36.47777778|\n",
            "|    77|  Male|         da|       78.83333333|       0|36.41666667|\n",
            "|    83|Female|         da|       65.86956522|       0|36.15740741|\n",
            "|    69|  Male|         da|       98.54411765|       0|36.50925926|\n",
            "|    87|  Male|         da|             73.48|       0|36.93333333|\n",
            "|    83|  Male|         da|       83.69230769|       0|36.92222214|\n",
            "|    56|  Male|         da|              64.6|       1|36.69444444|\n",
            "|    45|  Male|         da|                82|       0|36.85185185|\n",
            "|    89|  Male|         nu|       70.08333333|       0|36.00793651|\n",
            "+------+------+-----------+------------------+--------+-----------+\n",
            "only showing top 20 rows\n",
            "\n"
          ]
        }
      ]
    },
    {
      "cell_type": "markdown",
      "source": [
        "### Processing of the column 'Fibrilatie_atriala' values"
      ],
      "metadata": {
        "id": "NsK3oP4rQ1Uq"
      }
    },
    {
      "cell_type": "code",
      "source": [
        "data_as_spark = data_as_spark.withColumn(\"Fibrilatie_atriala\",when(data_as_spark.Fibrilatie_atriala == \"0\",\"nu\").when(data_as_spark.Fibrilatie_atriala == \"1\",\"da\").otherwise(\"null\"))"
      ],
      "metadata": {
        "id": "KYT_NRu_Q7Or"
      },
      "execution_count": null,
      "outputs": []
    },
    {
      "cell_type": "markdown",
      "source": [
        "### Modifications"
      ],
      "metadata": {
        "id": "CRJlvu7BVoro"
      }
    },
    {
      "cell_type": "code",
      "source": [
        "data_as_spark.createOrReplaceTempView(\"dataset\")\n",
        "sql_results_data_as_spark = spark.sql(\"select Sex,Stare,Hipertensiv,Fibrilatie_atriala,Temperatura from dataset\")\n",
        "sql_results_data_as_spark.show()"
      ],
      "metadata": {
        "colab": {
          "base_uri": "https://localhost:8080/"
        },
        "id": "00xWszwdVq8E",
        "outputId": "021b4b76-7d8c-4eb4-8114-6d51b386eada"
      },
      "execution_count": null,
      "outputs": [
        {
          "output_type": "stream",
          "name": "stdout",
          "text": [
            "+------+-----+-----------+------------------+-----------+\n",
            "|   Sex|Stare|Hipertensiv|Fibrilatie_atriala|Temperatura|\n",
            "+------+-----+-----------+------------------+-----------+\n",
            "|Female|alive|         nu|                nu|36.71428571|\n",
            "|  Male|alive|         nu|                nu|36.68253968|\n",
            "|  Male|alive|         nu|                nu| 36.4537037|\n",
            "|  Male|alive|         nu|              null|36.28703704|\n",
            "|  Male|alive|         da|                nu|36.76190476|\n",
            "|Female|alive|         da|                da|35.26666667|\n",
            "|Female|alive|         da|                nu| 35.6031746|\n",
            "|  Male|alive|         da|                da|36.67361111|\n",
            "|  Male|alive|         da|                da| 37.1031746|\n",
            "|Female|alive|         da|                nu|36.86111111|\n",
            "|  Male|alive|         da|                nu| 37.5555563|\n",
            "|  Male|alive|         da|                nu|36.47777778|\n",
            "|  Male|alive|         da|                nu|36.41666667|\n",
            "|Female|alive|         da|                da|36.15740741|\n",
            "|  Male|alive|         da|                nu|36.50925926|\n",
            "|  Male|alive|         da|                nu|36.93333333|\n",
            "|  Male| dead|         da|                nu|36.92222214|\n",
            "|  Male|alive|         da|                nu|36.69444444|\n",
            "|  Male|alive|         da|                nu|36.85185185|\n",
            "|  Male|alive|         nu|                nu|36.00793651|\n",
            "+------+-----+-----------+------------------+-----------+\n",
            "only showing top 20 rows\n",
            "\n"
          ]
        }
      ]
    },
    {
      "cell_type": "markdown",
      "source": [
        "### Processing of the column 'Boala_coronariana' values"
      ],
      "metadata": {
        "id": "sl26nNtxV0Lw"
      }
    },
    {
      "cell_type": "code",
      "source": [
        "data_as_spark = data_as_spark.withColumn(\"Boala_coronariana\",when(data_as_spark.Boala_coronariana == \"0\",\"nu\").when(data_as_spark.Boala_coronariana == \"1\",\"da\").otherwise(\"null\"))"
      ],
      "metadata": {
        "id": "pol-4-hVV7pG"
      },
      "execution_count": null,
      "outputs": []
    },
    {
      "cell_type": "markdown",
      "source": [
        "### Modifications"
      ],
      "metadata": {
        "id": "2Fm6yJ7DWBuY"
      }
    },
    {
      "cell_type": "code",
      "source": [
        "data_as_spark.createOrReplaceTempView(\"dataset\")\n",
        "sql_results_data_as_spark = spark.sql(\"select Sex,Stare,Boala_coronariana,Hipertensiv,Temperatura from dataset\")\n",
        "sql_results_data_as_spark.show()"
      ],
      "metadata": {
        "colab": {
          "base_uri": "https://localhost:8080/"
        },
        "id": "FOd9dS9IWDzo",
        "outputId": "a0446083-fcce-44c0-bdff-73fd6daf46bf"
      },
      "execution_count": null,
      "outputs": [
        {
          "output_type": "stream",
          "name": "stdout",
          "text": [
            "+------+-----+-----------------+-----------+-----------+\n",
            "|   Sex|Stare|Boala_coronariana|Hipertensiv|Temperatura|\n",
            "+------+-----+-----------------+-----------+-----------+\n",
            "|Female|alive|               nu|         nu|36.71428571|\n",
            "|  Male|alive|               nu|         nu|36.68253968|\n",
            "|  Male|alive|               nu|         nu| 36.4537037|\n",
            "|  Male|alive|               nu|         nu|36.28703704|\n",
            "|  Male|alive|               nu|         da|36.76190476|\n",
            "|Female|alive|               nu|         da|35.26666667|\n",
            "|Female|alive|               nu|         da| 35.6031746|\n",
            "|  Male|alive|               nu|         da|36.67361111|\n",
            "|  Male|alive|               nu|         da| 37.1031746|\n",
            "|Female|alive|               nu|         da|36.86111111|\n",
            "|  Male|alive|               nu|         da| 37.5555563|\n",
            "|  Male|alive|               nu|         da|36.47777778|\n",
            "|  Male|alive|               nu|         da|36.41666667|\n",
            "|Female|alive|               nu|         da|36.15740741|\n",
            "|  Male|alive|               nu|         da|36.50925926|\n",
            "|  Male|alive|               nu|         da|36.93333333|\n",
            "|  Male| dead|               nu|         da|36.92222214|\n",
            "|  Male|alive|               nu|         da|36.69444444|\n",
            "|  Male|alive|               nu|         da|36.85185185|\n",
            "|  Male|alive|               nu|         nu|36.00793651|\n",
            "+------+-----+-----------------+-----------+-----------+\n",
            "only showing top 20 rows\n",
            "\n"
          ]
        }
      ]
    },
    {
      "cell_type": "markdown",
      "source": [
        "### Processing of the column 'Diabet' values"
      ],
      "metadata": {
        "id": "17Be6I2AWH9X"
      }
    },
    {
      "cell_type": "code",
      "source": [
        "data_as_spark = data_as_spark.withColumn(\"Diabet\",when(data_as_spark.Diabet == \"0\",\"nu\").when(data_as_spark.Diabet == \"1\",\"da\").otherwise(\"null\"))"
      ],
      "metadata": {
        "id": "mnqE426eWMqZ"
      },
      "execution_count": null,
      "outputs": []
    },
    {
      "cell_type": "markdown",
      "source": [
        "### Modifications"
      ],
      "metadata": {
        "id": "Hk1Mv4kzWSlF"
      }
    },
    {
      "cell_type": "code",
      "source": [
        "data_as_spark.createOrReplaceTempView(\"dataset\")\n",
        "sql_results_data_as_spark = spark.sql(\"select Sex,Stare,Diabet,Hipertensiv,Temperatura from dataset\")\n",
        "sql_results_data_as_spark.show()"
      ],
      "metadata": {
        "colab": {
          "base_uri": "https://localhost:8080/"
        },
        "id": "C8IfLvsZWRbs",
        "outputId": "c4ed24d3-198b-4958-8fb6-23c592bdd425"
      },
      "execution_count": null,
      "outputs": [
        {
          "output_type": "stream",
          "name": "stdout",
          "text": [
            "+------+-----+------+-----------+-----------+\n",
            "|   Sex|Stare|Diabet|Hipertensiv|Temperatura|\n",
            "+------+-----+------+-----------+-----------+\n",
            "|Female|alive|    da|         nu|36.71428571|\n",
            "|  Male|alive|    nu|         nu|36.68253968|\n",
            "|  Male|alive|    nu|         nu| 36.4537037|\n",
            "|  Male|alive|    nu|         nu|36.28703704|\n",
            "|  Male|alive|    nu|         da|36.76190476|\n",
            "|Female|alive|    nu|         da|35.26666667|\n",
            "|Female|alive|    nu|         da| 35.6031746|\n",
            "|  Male|alive|    da|         da|36.67361111|\n",
            "|  Male|alive|    da|         da| 37.1031746|\n",
            "|Female|alive|    da|         da|36.86111111|\n",
            "|  Male|alive|    da|         da| 37.5555563|\n",
            "|  Male|alive|    da|         da|36.47777778|\n",
            "|  Male|alive|    nu|         da|36.41666667|\n",
            "|Female|alive|    da|         da|36.15740741|\n",
            "|  Male|alive|    nu|         da|36.50925926|\n",
            "|  Male|alive|    da|         da|36.93333333|\n",
            "|  Male| dead|    nu|         da|36.92222214|\n",
            "|  Male|alive|    da|         da|36.69444444|\n",
            "|  Male|alive|    nu|         da|36.85185185|\n",
            "|  Male|alive|    nu|         nu|36.00793651|\n",
            "+------+-----+------+-----------+-----------+\n",
            "only showing top 20 rows\n",
            "\n"
          ]
        }
      ]
    },
    {
      "cell_type": "markdown",
      "source": [
        "### Processing of the column 'Anemii deficitare' values"
      ],
      "metadata": {
        "id": "Ozk-xfs6WaKn"
      }
    },
    {
      "cell_type": "code",
      "source": [
        "data_as_spark = data_as_spark.withColumn(\"Anemii_deficitare\",when(data_as_spark.Anemii_deficitare == \"0\",\"nu\").when(data_as_spark.Anemii_deficitare == \"1\",\"da\").otherwise(\"null\"))"
      ],
      "metadata": {
        "id": "E5mTeW5qWjyT"
      },
      "execution_count": null,
      "outputs": []
    },
    {
      "cell_type": "markdown",
      "source": [
        "### Modifications"
      ],
      "metadata": {
        "id": "8HtVt0YKWjAD"
      }
    },
    {
      "cell_type": "code",
      "source": [
        "data_as_spark.createOrReplaceTempView(\"dataset\")\n",
        "sql_results_data_as_spark = spark.sql(\"select Sex,Stare,Anemii_deficitare,Hipertensiv,Temperatura from dataset\")\n",
        "sql_results_data_as_spark.show()"
      ],
      "metadata": {
        "colab": {
          "base_uri": "https://localhost:8080/"
        },
        "id": "lV8zZ7PIWpIx",
        "outputId": "7ead35b3-ff1b-4bb6-b96e-6ae7bd1b8402"
      },
      "execution_count": null,
      "outputs": [
        {
          "output_type": "stream",
          "name": "stdout",
          "text": [
            "+------+-----+-----------------+-----------+-----------+\n",
            "|   Sex|Stare|Anemii_deficitare|Hipertensiv|Temperatura|\n",
            "+------+-----+-----------------+-----------+-----------+\n",
            "|Female|alive|               da|         nu|36.71428571|\n",
            "|  Male|alive|               da|         nu|36.68253968|\n",
            "|  Male|alive|               da|         nu| 36.4537037|\n",
            "|  Male|alive|               nu|         nu|36.28703704|\n",
            "|  Male|alive|               da|         da|36.76190476|\n",
            "|Female|alive|               da|         da|35.26666667|\n",
            "|Female|alive|               nu|         da| 35.6031746|\n",
            "|  Male|alive|               da|         da|36.67361111|\n",
            "|  Male|alive|               nu|         da| 37.1031746|\n",
            "|Female|alive|               nu|         da|36.86111111|\n",
            "|  Male|alive|               nu|         da| 37.5555563|\n",
            "|  Male|alive|               da|         da|36.47777778|\n",
            "|  Male|alive|               nu|         da|36.41666667|\n",
            "|Female|alive|               nu|         da|36.15740741|\n",
            "|  Male|alive|               nu|         da|36.50925926|\n",
            "|  Male|alive|               nu|         da|36.93333333|\n",
            "|  Male| dead|               da|         da|36.92222214|\n",
            "|  Male|alive|               da|         da|36.69444444|\n",
            "|  Male|alive|               da|         da|36.85185185|\n",
            "|  Male|alive|               da|         nu|36.00793651|\n",
            "+------+-----+-----------------+-----------+-----------+\n",
            "only showing top 20 rows\n",
            "\n"
          ]
        }
      ]
    },
    {
      "cell_type": "markdown",
      "source": [
        "### Processing of the column 'Depresie' values"
      ],
      "metadata": {
        "id": "r8y7XDohWt7D"
      }
    },
    {
      "cell_type": "code",
      "source": [
        "data_as_spark = data_as_spark.withColumn(\"Depresie\",when(data_as_spark.Depresie == \"0\",\"nu\").when(data_as_spark.Depresie == \"1\",\"da\").otherwise(\"null\"))"
      ],
      "metadata": {
        "id": "i_E4NwlSWzCE"
      },
      "execution_count": null,
      "outputs": []
    },
    {
      "cell_type": "markdown",
      "source": [
        "### Modifications"
      ],
      "metadata": {
        "id": "SZ28-FBsW1wQ"
      }
    },
    {
      "cell_type": "code",
      "source": [
        "data_as_spark.createOrReplaceTempView(\"dataset\")\n",
        "sql_results_data_as_spark = spark.sql(\"select Sex,Stare,Anemii_deficitare,Depresie,Temperatura from dataset\")\n",
        "sql_results_data_as_spark.show()"
      ],
      "metadata": {
        "colab": {
          "base_uri": "https://localhost:8080/"
        },
        "id": "qxyTuF_DW3X4",
        "outputId": "236d07ce-7415-46f9-f15a-a493ab004afe"
      },
      "execution_count": null,
      "outputs": [
        {
          "output_type": "stream",
          "name": "stdout",
          "text": [
            "+------+-----+-----------------+--------+-----------+\n",
            "|   Sex|Stare|Anemii_deficitare|Depresie|Temperatura|\n",
            "+------+-----+-----------------+--------+-----------+\n",
            "|Female|alive|               da|      nu|36.71428571|\n",
            "|  Male|alive|               da|      nu|36.68253968|\n",
            "|  Male|alive|               da|      nu| 36.4537037|\n",
            "|  Male|alive|               nu|      nu|36.28703704|\n",
            "|  Male|alive|               da|      nu|36.76190476|\n",
            "|Female|alive|               da|      nu|35.26666667|\n",
            "|Female|alive|               nu|      nu| 35.6031746|\n",
            "|  Male|alive|               da|      nu|36.67361111|\n",
            "|  Male|alive|               nu|      nu| 37.1031746|\n",
            "|Female|alive|               nu|      nu|36.86111111|\n",
            "|  Male|alive|               nu|      nu| 37.5555563|\n",
            "|  Male|alive|               da|      nu|36.47777778|\n",
            "|  Male|alive|               nu|      nu|36.41666667|\n",
            "|Female|alive|               nu|      nu|36.15740741|\n",
            "|  Male|alive|               nu|      nu|36.50925926|\n",
            "|  Male|alive|               nu|      nu|36.93333333|\n",
            "|  Male| dead|               da|      nu|36.92222214|\n",
            "|  Male|alive|               da|      da|36.69444444|\n",
            "|  Male|alive|               da|      nu|36.85185185|\n",
            "|  Male|alive|               da|      nu|36.00793651|\n",
            "+------+-----+-----------------+--------+-----------+\n",
            "only showing top 20 rows\n",
            "\n"
          ]
        }
      ]
    },
    {
      "cell_type": "markdown",
      "source": [
        "### Processing of the column 'Hiperlipemie' values"
      ],
      "metadata": {
        "id": "OLi_kI45W_Xt"
      }
    },
    {
      "cell_type": "code",
      "source": [
        "data_as_spark = data_as_spark.withColumn(\"Hiperlipemie\",when(data_as_spark.Hiperlipemie == \"0\",\"nu\").when(data_as_spark.Hiperlipemie == \"1\",\"da\").otherwise(\"null\"))"
      ],
      "metadata": {
        "id": "2sDZxojRXIEO"
      },
      "execution_count": null,
      "outputs": []
    },
    {
      "cell_type": "markdown",
      "source": [
        "### Modifications"
      ],
      "metadata": {
        "id": "FN-ibBCvXKpi"
      }
    },
    {
      "cell_type": "code",
      "source": [
        "data_as_spark.createOrReplaceTempView(\"dataset\")\n",
        "sql_results_data_as_spark = spark.sql(\"select Sex,Hiperlipemie,Depresie,Temperatura from dataset\")\n",
        "sql_results_data_as_spark.show()"
      ],
      "metadata": {
        "colab": {
          "base_uri": "https://localhost:8080/"
        },
        "id": "SjR1HDN1XM_K",
        "outputId": "edffacc1-dff1-46b9-c994-9939017fa705"
      },
      "execution_count": null,
      "outputs": [
        {
          "output_type": "stream",
          "name": "stdout",
          "text": [
            "+------+------------+--------+-----------+\n",
            "|   Sex|Hiperlipemie|Depresie|Temperatura|\n",
            "+------+------------+--------+-----------+\n",
            "|Female|          da|      nu|36.71428571|\n",
            "|  Male|          nu|      nu|36.68253968|\n",
            "|  Male|          nu|      nu| 36.4537037|\n",
            "|  Male|          nu|      nu|36.28703704|\n",
            "|  Male|          nu|      nu|36.76190476|\n",
            "|Female|          da|      nu|35.26666667|\n",
            "|Female|          da|      nu| 35.6031746|\n",
            "|  Male|          nu|      nu|36.67361111|\n",
            "|  Male|          nu|      nu| 37.1031746|\n",
            "|Female|          nu|      nu|36.86111111|\n",
            "|  Male|          da|      nu| 37.5555563|\n",
            "|  Male|          da|      nu|36.47777778|\n",
            "|  Male|          nu|      nu|36.41666667|\n",
            "|Female|          da|      nu|36.15740741|\n",
            "|  Male|          nu|      nu|36.50925926|\n",
            "|  Male|          da|      nu|36.93333333|\n",
            "|  Male|          nu|      nu|36.92222214|\n",
            "|  Male|          nu|      da|36.69444444|\n",
            "|  Male|          nu|      nu|36.85185185|\n",
            "|  Male|          nu|      nu|36.00793651|\n",
            "+------+------------+--------+-----------+\n",
            "only showing top 20 rows\n",
            "\n"
          ]
        }
      ]
    },
    {
      "cell_type": "markdown",
      "source": [
        "### Processing of the column 'Insuficienta_renala' values"
      ],
      "metadata": {
        "id": "oJb-SuQFXQiy"
      }
    },
    {
      "cell_type": "code",
      "source": [
        "data_as_spark = data_as_spark.withColumn(\"Insuficienta_renala\",when(data_as_spark.Insuficienta_renala == \"0\",\"nu\").when(data_as_spark.Insuficienta_renala == \"1\",\"da\").otherwise(\"null\"))"
      ],
      "metadata": {
        "id": "ocVQDvOFZgvY"
      },
      "execution_count": null,
      "outputs": []
    },
    {
      "cell_type": "markdown",
      "source": [
        "### Modifications"
      ],
      "metadata": {
        "id": "80vGWvEwZj2e"
      }
    },
    {
      "cell_type": "code",
      "source": [
        "data_as_spark.createOrReplaceTempView(\"dataset\")\n",
        "sql_results_data_as_spark = spark.sql(\"select Sex,Insuficienta_renala,Depresie,Temperatura from dataset\")\n",
        "sql_results_data_as_spark.show()"
      ],
      "metadata": {
        "colab": {
          "base_uri": "https://localhost:8080/"
        },
        "id": "3I7Z3VQ_ZlrQ",
        "outputId": "df63a98b-45f8-4c67-8057-9a7a0209b3aa"
      },
      "execution_count": null,
      "outputs": [
        {
          "output_type": "stream",
          "name": "stdout",
          "text": [
            "+------+-------------------+--------+-----------+\n",
            "|   Sex|Insuficienta_renala|Depresie|Temperatura|\n",
            "+------+-------------------+--------+-----------+\n",
            "|Female|                 da|      nu|36.71428571|\n",
            "|  Male|                 nu|      nu|36.68253968|\n",
            "|  Male|                 da|      nu| 36.4537037|\n",
            "|  Male|                 nu|      nu|36.28703704|\n",
            "|  Male|                 da|      nu|36.76190476|\n",
            "|Female|                 da|      nu|35.26666667|\n",
            "|Female|                 da|      nu| 35.6031746|\n",
            "|  Male|                 nu|      nu|36.67361111|\n",
            "|  Male|                 da|      nu| 37.1031746|\n",
            "|Female|                 nu|      nu|36.86111111|\n",
            "|  Male|                 nu|      nu| 37.5555563|\n",
            "|  Male|                 nu|      nu|36.47777778|\n",
            "|  Male|                 nu|      nu|36.41666667|\n",
            "|Female|                 da|      nu|36.15740741|\n",
            "|  Male|                 nu|      nu|36.50925926|\n",
            "|  Male|                 da|      nu|36.93333333|\n",
            "|  Male|                 da|      nu|36.92222214|\n",
            "|  Male|                 da|      da|36.69444444|\n",
            "|  Male|                 nu|      nu|36.85185185|\n",
            "|  Male|                 da|      nu|36.00793651|\n",
            "+------+-------------------+--------+-----------+\n",
            "only showing top 20 rows\n",
            "\n"
          ]
        }
      ]
    },
    {
      "cell_type": "markdown",
      "source": [
        "### Processing of the column 'Boala_pulmonara_obstructiva_cronica' values"
      ],
      "metadata": {
        "id": "JMorrRK2kO-t"
      }
    },
    {
      "cell_type": "code",
      "source": [
        "data_as_spark = data_as_spark.withColumn(\"Boala_pulmonara_obstructiva_cronica\",when(data_as_spark.Boala_pulmonara_obstructiva_cronica == \"0\",\"nu\").when(data_as_spark.Boala_pulmonara_obstructiva_cronica == \"1\",\"da\").otherwise(\"null\"))"
      ],
      "metadata": {
        "id": "V6b_xN4gkX5I"
      },
      "execution_count": null,
      "outputs": []
    },
    {
      "cell_type": "markdown",
      "source": [
        "### Modifications"
      ],
      "metadata": {
        "id": "7T_QoJzxka6o"
      }
    },
    {
      "cell_type": "code",
      "source": [
        "data_as_spark.createOrReplaceTempView(\"dataset\")\n",
        "sql_results_data_as_spark = spark.sql(\"select Sex,Boala_pulmonara_obstructiva_cronica,Depresie,Temperatura from dataset\")\n",
        "sql_results_data_as_spark.show()"
      ],
      "metadata": {
        "colab": {
          "base_uri": "https://localhost:8080/"
        },
        "id": "sMboQvfAkdLL",
        "outputId": "43575488-5339-46ff-df60-87e2307368c5"
      },
      "execution_count": null,
      "outputs": [
        {
          "output_type": "stream",
          "name": "stdout",
          "text": [
            "+------+-----------------------------------+--------+-----------+\n",
            "|   Sex|Boala_pulmonara_obstructiva_cronica|Depresie|Temperatura|\n",
            "+------+-----------------------------------+--------+-----------+\n",
            "|Female|                                 nu|      nu|36.71428571|\n",
            "|  Male|                                 da|      nu|36.68253968|\n",
            "|  Male|                                 nu|      nu| 36.4537037|\n",
            "|  Male|                                 nu|      nu|36.28703704|\n",
            "|  Male|                                 da|      nu|36.76190476|\n",
            "|Female|                                 da|      nu|35.26666667|\n",
            "|Female|                                 da|      nu| 35.6031746|\n",
            "|  Male|                                 nu|      nu|36.67361111|\n",
            "|  Male|                                 nu|      nu| 37.1031746|\n",
            "|Female|                                 nu|      nu|36.86111111|\n",
            "|  Male|                                 nu|      nu| 37.5555563|\n",
            "|  Male|                                 nu|      nu|36.47777778|\n",
            "|  Male|                                 da|      nu|36.41666667|\n",
            "|Female|                                 nu|      nu|36.15740741|\n",
            "|  Male|                                 nu|      nu|36.50925926|\n",
            "|  Male|                                 nu|      nu|36.93333333|\n",
            "|  Male|                                 nu|      nu|36.92222214|\n",
            "|  Male|                                 nu|      da|36.69444444|\n",
            "|  Male|                                 nu|      nu|36.85185185|\n",
            "|  Male|                                 nu|      nu|36.00793651|\n",
            "+------+-----------------------------------+--------+-----------+\n",
            "only showing top 20 rows\n",
            "\n"
          ]
        }
      ]
    },
    {
      "cell_type": "markdown",
      "source": [
        "At this moment we have to deal with the null values that we find in our data set. If we try to delete all the rows that contain null values, we will notice according to the cell below that we will be left with 2995 lines, which means that we will delete 5244 lines. This is not exactly right, because we lose a very large percentage of data."
      ],
      "metadata": {
        "id": "YgUtb1m_kkoC"
      }
    },
    {
      "cell_type": "code",
      "source": [
        "data_no_null=data_as_spark_1.na.drop()\n",
        "data_no_null.createOrReplaceTempView(\"results\")\n",
        "sql_results_data_as_spark = spark.sql(\"select age Varsta, gender Sex,heart_rate Frecventa_cardiaca,depression Depresie,temperature Temperatura  from results\")\n",
        "sql_results_data_as_spark.summary().show()"
      ],
      "metadata": {
        "colab": {
          "base_uri": "https://localhost:8080/"
        },
        "id": "P02n6xp0kzgK",
        "outputId": "4001ad00-37b1-4962-ca30-6f474cc96119"
      },
      "execution_count": null,
      "outputs": [
        {
          "output_type": "stream",
          "name": "stdout",
          "text": [
            "+-------+------------------+-------------------+------------------+-------------------+------------------+\n",
            "|summary|            Varsta|                Sex|Frecventa_cardiaca|           Depresie|       Temperatura|\n",
            "+-------+------------------+-------------------+------------------+-------------------+------------------+\n",
            "|  count|              2995|               2995|              2995|               2995|              2995|\n",
            "|   mean| 72.52387312186978| 1.5161936560934892| 85.03932533674799|0.13088480801335559| 36.70871475643403|\n",
            "| stddev|13.402621941511176|0.49982114626099416|  16.2471565188155| 0.3373306523639726|0.6561773936371885|\n",
            "|    min|                35|                  1|         100.09375|                  0|       34.32407407|\n",
            "|    25%|              63.0|                1.0|       72.51851852|                0.0|       36.27777778|\n",
            "|    50%|              74.0|                2.0|             84.48|                0.0|       36.66666667|\n",
            "|    75%|              84.0|                2.0|       96.43478261|                0.0|       37.07777778|\n",
            "|    max|                99|                  2|       99.96666667|                  1|       39.13247842|\n",
            "+-------+------------------+-------------------+------------------+-------------------+------------------+\n",
            "\n"
          ]
        }
      ]
    },
    {
      "cell_type": "markdown",
      "source": [
        "In order to reduce the number of data lost due to the deletion of null values, I will approach the following strategy. The null cells belonging to the columns with value data will be replaced with the average of the respective column. After this step, we will delete the rest of the null cells. The essential columns containing numerical values are:\n",
        "- 1.Indice_de_masa_corporala\n",
        "- 2.Frecventa_cardiaca\n",
        "- 3.Tensiune_arteriala_sistolica\n",
        "- 4.Tensiune_arteriala_diastolica\n",
        "- 5.Frecventa_respiratorie\n",
        "- 6.Temperatura\n",
        "- 7.Saturatia_pulsului_de_oxigen\n",
        "- 8.Urina\n",
        "- 9.Volumul_celule_rosii_din_sange\n",
        "- 10.Globule_rosii\n",
        "- 11.Hemoglobina_corpusculara_medie\n",
        "- 12.Concentratia_medie_a_hemoglobinei_corpusculare\n",
        "- 13.Volumul_corpuscular_mediu\n",
        "- 14.Latimea_distributiei_globulelor_rosii\n",
        "- 15.Leucocite\n",
        "- 16.Trombocite\n",
        "- 17.Neurofile\n",
        "- 18.Globule_albe\n",
        "- 19.Limfocite\n",
        "- 20.Timp_de_protrombina\n",
        "- 21.Raport_internationalizat_normalizat\n",
        "- 22.NT_proBNP\n",
        "- 23.Creatin_kinaza\n",
        "- 24.Creatina\n",
        "- 25.Nitrogen_ureic\n",
        "- 26.Glucoza\n",
        "- 27.Potasiu_din_sange\n",
        "- 28.Sodiu_din_sange\n",
        "- 29.Calciu_din_sange\n",
        "- 30.Clorura\n",
        "- 31.Interval_anionic\n",
        "- 32.Ioni_de_magneziu\n",
        "- 33.Concentratia_ionilor_de_oxigen\n",
        "- 34.Bicarbote\n",
        "- 35.Acid_lactic\n",
        "- 36.Presiunea_partiala_a_dioxidului_de_carbon\n",
        "- 37.Fractie_de_eliminare"
      ],
      "metadata": {
        "id": "1vXh2V_tvBTn"
      }
    },
    {
      "cell_type": "markdown",
      "source": [
        "## Processing of the column 'Indice_de_masa_corporala' values"
      ],
      "metadata": {
        "id": "GSEEqRS1vNfb"
      }
    },
    {
      "cell_type": "code",
      "source": [
        "#Calculam media coloanei 'Indice_de_masa_corporala'\n",
        "mean_val= data_as_spark.select(mean(data_as_spark['Indice_de_masa_corporala'])).collect()\n",
        "mean_val\n",
        "#Afisam valoarea medie a coloanei 'Indice_de_masa_corporala'\n",
        "mean_val[0][0]\n",
        "#Modificam valorile de null\n",
        "data_as_spark = data_as_spark.withColumn(\"Indice_de_masa_corporala\",when(data_as_spark.Indice_de_masa_corporala == \"null\",mean_val[0][0]).otherwise(data_as_spark.Indice_de_masa_corporala))\n",
        "data_as_spark.createOrReplaceTempView(\"dataset\")\n",
        "sql_results_data_as_spark = spark.sql(\"select Sex,Indice_de_masa_corporala,Depresie,Temperatura from dataset\")\n",
        "sql_results_data_as_spark.show()"
      ],
      "metadata": {
        "colab": {
          "base_uri": "https://localhost:8080/"
        },
        "id": "AKS1suFEvYsr",
        "outputId": "f141cf7f-0a36-48f2-c710-497e9fc62191"
      },
      "execution_count": null,
      "outputs": [
        {
          "output_type": "stream",
          "name": "stdout",
          "text": [
            "+------+------------------------+--------+-----------+\n",
            "|   Sex|Indice_de_masa_corporala|Depresie|Temperatura|\n",
            "+------+------------------------+--------+-----------+\n",
            "|Female|             37.58817943|      nu|36.71428571|\n",
            "|  Male|      30.188277651590337|      nu|36.68253968|\n",
            "|  Male|             26.57263379|      nu| 36.4537037|\n",
            "|  Male|             83.26462934|      nu|36.28703704|\n",
            "|  Male|             31.82484194|      nu|36.76190476|\n",
            "|Female|             24.26229342|      nu|35.26666667|\n",
            "|Female|             39.66742627|      nu| 35.6031746|\n",
            "|  Male|             22.31111111|      nu|36.67361111|\n",
            "|  Male|             19.99224315|      nu| 37.1031746|\n",
            "|Female|             45.03203011|      nu|36.86111111|\n",
            "|  Male|             50.46121203|      nu| 37.5555563|\n",
            "|  Male|             25.39189649|      nu|36.47777778|\n",
            "|  Male|             22.69896194|      nu|36.41666667|\n",
            "|Female|             33.89105707|      nu|36.15740741|\n",
            "|  Male|                      20|      nu|36.50925926|\n",
            "|  Male|             35.19894167|      nu|36.93333333|\n",
            "|  Male|      30.188277651590337|      nu|36.92222214|\n",
            "|  Male|              27.8516182|      da|36.69444444|\n",
            "|  Male|             91.17665294|      nu|36.85185185|\n",
            "|  Male|      30.188277651590337|      nu|36.00793651|\n",
            "+------+------------------------+--------+-----------+\n",
            "only showing top 20 rows\n",
            "\n"
          ]
        }
      ]
    },
    {
      "cell_type": "markdown",
      "source": [
        "## Processing of the column 'Frecventa_cardiaca' values"
      ],
      "metadata": {
        "id": "C7sdVSO_vpIG"
      }
    },
    {
      "cell_type": "code",
      "source": [
        "# Calculam media coloanei 'Frecventa_cardiaca'\n",
        "mean_val= data_as_spark.select(mean(data_as_spark['Frecventa_cardiaca'])).collect()\n",
        "mean_val\n",
        "#Afisam valoarea medie a coloanei 'Frecventa_cardiaca'\n",
        "mean_val[0][0]\n",
        "#Modificam valorile de null\n",
        "data_as_spark = data_as_spark.withColumn(\"Frecventa_cardiaca\",when(data_as_spark.Frecventa_cardiaca == \"null\",mean_val[0][0]).otherwise(data_as_spark.Frecventa_cardiaca))\n",
        "data_as_spark.createOrReplaceTempView(\"dataset\")\n",
        "sql_results_data_as_spark = spark.sql(\"select Sex,Frecventa_cardiaca,Depresie,Temperatura from dataset\")\n",
        "sql_results_data_as_spark.show()"
      ],
      "metadata": {
        "colab": {
          "base_uri": "https://localhost:8080/"
        },
        "id": "e9LL86HWvtJR",
        "outputId": "fbef0931-f50b-49b0-ea3e-726283cba16e"
      },
      "execution_count": null,
      "outputs": [
        {
          "output_type": "stream",
          "name": "stdout",
          "text": [
            "+------+------------------+--------+-----------+\n",
            "|   Sex|Frecventa_cardiaca|Depresie|Temperatura|\n",
            "+------+------------------+--------+-----------+\n",
            "|Female|       68.83783784|      nu|36.71428571|\n",
            "|  Male|       101.3703704|      nu|36.68253968|\n",
            "|  Male|       72.31818182|      nu| 36.4537037|\n",
            "|  Male|              94.5|      nu|36.28703704|\n",
            "|  Male|             67.92|      nu|36.76190476|\n",
            "|Female|       74.18181818|      nu|35.26666667|\n",
            "|Female|       69.63636364|      nu| 35.6031746|\n",
            "|  Male|       84.66666667|      nu|36.67361111|\n",
            "|  Male|       91.91666667|      nu| 37.1031746|\n",
            "|Female|       75.08333333|      nu|36.86111111|\n",
            "|  Male|       95.62962963|      nu| 37.5555563|\n",
            "|  Male|             65.16|      nu|36.47777778|\n",
            "|  Male|       78.83333333|      nu|36.41666667|\n",
            "|Female|       65.86956522|      nu|36.15740741|\n",
            "|  Male|       98.54411765|      nu|36.50925926|\n",
            "|  Male|             73.48|      nu|36.93333333|\n",
            "|  Male|       83.69230769|      nu|36.92222214|\n",
            "|  Male|              64.6|      da|36.69444444|\n",
            "|  Male|                82|      nu|36.85185185|\n",
            "|  Male|       70.08333333|      nu|36.00793651|\n",
            "+------+------------------+--------+-----------+\n",
            "only showing top 20 rows\n",
            "\n"
          ]
        }
      ]
    },
    {
      "cell_type": "markdown",
      "source": [
        "## Processing of the column 'Tensiune_arteriala_sistolica' values "
      ],
      "metadata": {
        "id": "cRIb5m5-zCYn"
      }
    },
    {
      "cell_type": "code",
      "source": [
        "# Calculam media coloanei 'Tensiune_arteriala_sistolica'\n",
        "mean_val= data_as_spark.select(mean(data_as_spark['Tensiune_arteriala_sistolica'])).collect()\n",
        "mean_val\n",
        "#Afisam valoarea medie a coloanei 'Tensiune_arteriala_sistolica'\n",
        "mean_val[0][0]\n",
        "#Modificam valorile de null\n",
        "data_as_spark = data_as_spark.withColumn(\"Tensiune_arteriala_sistolica\",when(data_as_spark.Tensiune_arteriala_sistolica == \"null\",mean_val[0][0]).otherwise(data_as_spark.Tensiune_arteriala_sistolica))\n",
        "data_as_spark.createOrReplaceTempView(\"dataset\")\n",
        "sql_results_data_as_spark = spark.sql(\"select Sex,Tensiune_arteriala_sistolica,Depresie,Temperatura from dataset\")\n",
        "sql_results_data_as_spark.show()"
      ],
      "metadata": {
        "colab": {
          "base_uri": "https://localhost:8080/"
        },
        "id": "4Gb27H35zFYU",
        "outputId": "1316d164-c20e-4b23-bca9-845933af1c10"
      },
      "execution_count": null,
      "outputs": [
        {
          "output_type": "stream",
          "name": "stdout",
          "text": [
            "+------+----------------------------+--------+-----------+\n",
            "|   Sex|Tensiune_arteriala_sistolica|Depresie|Temperatura|\n",
            "+------+----------------------------+--------+-----------+\n",
            "|Female|                 155.8666667|      nu|36.71428571|\n",
            "|  Male|                         140|      nu|36.68253968|\n",
            "|  Male|                 135.3333333|      nu| 36.4537037|\n",
            "|  Male|                       126.4|      nu|36.28703704|\n",
            "|  Male|                      156.56|      nu|36.76190476|\n",
            "|Female|                       118.1|      nu|35.26666667|\n",
            "|Female|                 106.5652174|      nu| 35.6031746|\n",
            "|  Male|                 141.1304348|      nu|36.67361111|\n",
            "|  Male|                 98.43478261|      nu| 37.1031746|\n",
            "|Female|                         122|      nu|36.86111111|\n",
            "|  Male|                 149.0357143|      nu| 37.5555563|\n",
            "|  Male|                 103.2608696|      nu|36.47777778|\n",
            "|  Male|                 126.9032258|      nu|36.41666667|\n",
            "|Female|                 112.1428571|      nu|36.15740741|\n",
            "|  Male|                      107.36|      nu|36.50925926|\n",
            "|  Male|                 159.6956522|      nu|36.93333333|\n",
            "|  Male|                 157.2894737|      nu|36.92222214|\n",
            "|  Male|                      113.28|      da|36.69444444|\n",
            "|  Male|                      162.24|      nu|36.85185185|\n",
            "|  Male|                 112.4166667|      nu|36.00793651|\n",
            "+------+----------------------------+--------+-----------+\n",
            "only showing top 20 rows\n",
            "\n"
          ]
        }
      ]
    },
    {
      "cell_type": "markdown",
      "source": [
        "## Processing of the column 'Tensiune_arteriala_diastolica' values "
      ],
      "metadata": {
        "id": "XgK0Ju9FzKvK"
      }
    },
    {
      "cell_type": "code",
      "source": [
        "# Calculam media coloanei 'Tensiune_arteriala_diastolica'\n",
        "mean_val= data_as_spark.select(mean(data_as_spark['Tensiune_arteriala_diastolica'])).collect()\n",
        "mean_val\n",
        "#Afisam valoarea medie a coloanei 'Tensiune_arteriala_diastolica'\n",
        "mean_val[0][0]\n",
        "#Modificam valorile de null\n",
        "data_as_spark = data_as_spark.withColumn(\"Tensiune_arteriala_diastolica\",when(data_as_spark.Tensiune_arteriala_diastolica == \"null\",mean_val[0][0]).otherwise(data_as_spark.Tensiune_arteriala_diastolica))\n",
        "data_as_spark.createOrReplaceTempView(\"dataset\")\n",
        "sql_results_data_as_spark = spark.sql(\"select Sex,Tensiune_arteriala_diastolica,Depresie,Temperatura from dataset\")\n",
        "sql_results_data_as_spark.show()"
      ],
      "metadata": {
        "colab": {
          "base_uri": "https://localhost:8080/"
        },
        "id": "wFpSCoYwzNBV",
        "outputId": "448abf14-9261-4ec1-a67f-4fe4e4adeaeb"
      },
      "execution_count": null,
      "outputs": [
        {
          "output_type": "stream",
          "name": "stdout",
          "text": [
            "+------+-----------------------------+--------+-----------+\n",
            "|   Sex|Tensiune_arteriala_diastolica|Depresie|Temperatura|\n",
            "+------+-----------------------------+--------+-----------+\n",
            "|Female|                  68.33333333|      nu|36.71428571|\n",
            "|  Male|                           65|      nu|36.68253968|\n",
            "|  Male|                       61.375|      nu| 36.4537037|\n",
            "|  Male|                         73.2|      nu|36.28703704|\n",
            "|  Male|                        58.12|      nu|36.76190476|\n",
            "|Female|                        52.95|      nu|35.26666667|\n",
            "|Female|                  47.82608696|      nu| 35.6031746|\n",
            "|  Male|                  46.91304348|      nu|36.67361111|\n",
            "|  Male|                  52.65217391|      nu| 37.1031746|\n",
            "|Female|                        56.75|      nu|36.86111111|\n",
            "|  Male|                  48.78571429|      nu| 37.5555563|\n",
            "|  Male|                  50.47826087|      nu|36.47777778|\n",
            "|  Male|                  61.61290323|      nu|36.41666667|\n",
            "|Female|                  44.14285714|      nu|36.15740741|\n",
            "|  Male|                        54.24|      nu|36.50925926|\n",
            "|  Male|                  59.08695652|      nu|36.93333333|\n",
            "|  Male|                  58.23684211|      nu|36.92222214|\n",
            "|  Male|                        61.56|      da|36.69444444|\n",
            "|  Male|                        86.72|      nu|36.85185185|\n",
            "|  Male|                  50.91666667|      nu|36.00793651|\n",
            "+------+-----------------------------+--------+-----------+\n",
            "only showing top 20 rows\n",
            "\n"
          ]
        }
      ]
    },
    {
      "cell_type": "markdown",
      "source": [
        "## Processing of the column 'Frecventa_respiratorie' values "
      ],
      "metadata": {
        "id": "ya1Ec5-szptl"
      }
    },
    {
      "cell_type": "code",
      "source": [
        "# Calculam media coloanei 'Frecventa_respiratorie'\n",
        "mean_val= data_as_spark.select(mean(data_as_spark['Frecventa_respiratorie'])).collect()\n",
        "mean_val\n",
        "#Afisam valoarea medie a coloanei 'Frecventa_respiratorie'\n",
        "mean_val[0][0]\n",
        "#Modificam valorile de null\n",
        "data_as_spark = data_as_spark.withColumn(\"Frecventa_respiratorie\",when(data_as_spark.Frecventa_respiratorie == \"null\",mean_val[0][0]).otherwise(data_as_spark.Frecventa_respiratorie))\n",
        "data_as_spark.createOrReplaceTempView(\"dataset\")\n",
        "sql_results_data_as_spark = spark.sql(\"select Sex,Frecventa_respiratorie,Depresie,Temperatura from dataset\")\n",
        "sql_results_data_as_spark.show()"
      ],
      "metadata": {
        "colab": {
          "base_uri": "https://localhost:8080/"
        },
        "id": "UlsMmEBDzscL",
        "outputId": "57b6a64e-e3cb-48b3-8af7-0aca1a924cfd"
      },
      "execution_count": null,
      "outputs": [
        {
          "output_type": "stream",
          "name": "stdout",
          "text": [
            "+------+----------------------+--------+-----------+\n",
            "|   Sex|Frecventa_respiratorie|Depresie|Temperatura|\n",
            "+------+----------------------+--------+-----------+\n",
            "|Female|           16.62162162|      nu|36.71428571|\n",
            "|  Male|           20.85185185|      nu|36.68253968|\n",
            "|  Male|                 23.64|      nu| 36.4537037|\n",
            "|  Male|           21.85714286|      nu|36.28703704|\n",
            "|  Male|                 21.36|      nu|36.76190476|\n",
            "|Female|           20.54545455|      nu|35.26666667|\n",
            "|Female|           19.14814815|      nu| 35.6031746|\n",
            "|  Male|                  18.4|      nu|36.67361111|\n",
            "|  Male|           18.58333333|      nu| 37.1031746|\n",
            "|Female|                18.125|      nu|36.86111111|\n",
            "|  Male|           17.48148148|      nu| 37.5555563|\n",
            "|  Male|                  17.4|      nu|36.47777778|\n",
            "|  Male|           15.83333333|      nu|36.41666667|\n",
            "|Female|           25.43478261|      nu|36.15740741|\n",
            "|  Male|           34.69343066|      nu|36.50925926|\n",
            "|  Male|           20.69230769|      nu|36.93333333|\n",
            "|  Male|           15.65217391|      nu|36.92222214|\n",
            "|  Male|           16.07142857|      da|36.69444444|\n",
            "|  Male|           28.15384615|      nu|36.85185185|\n",
            "|  Male|           25.58333333|      nu|36.00793651|\n",
            "+------+----------------------+--------+-----------+\n",
            "only showing top 20 rows\n",
            "\n"
          ]
        }
      ]
    },
    {
      "cell_type": "markdown",
      "source": [
        "## Processing of the column 'Temperatura' values "
      ],
      "metadata": {
        "id": "jR2hxAr4zzSt"
      }
    },
    {
      "cell_type": "code",
      "source": [
        "# Calculam media coloanei 'Temperatura'\n",
        "mean_val= data_as_spark.select(mean(data_as_spark['Temperatura'])).collect()\n",
        "mean_val\n",
        "#Afisam valoarea medie a coloanei 'Temperatura'\n",
        "mean_val[0][0]\n",
        "#Modificam valorile de null\n",
        "data_as_spark = data_as_spark.withColumn(\"Temperatura\",when(data_as_spark.Temperatura == \"null\",mean_val[0][0]).otherwise(data_as_spark.Temperatura))\n",
        "data_as_spark.createOrReplaceTempView(\"dataset\")\n",
        "sql_results_data_as_spark = spark.sql(\"select Sex,Temperatura,Depresie from dataset\")\n",
        "sql_results_data_as_spark.show()"
      ],
      "metadata": {
        "colab": {
          "base_uri": "https://localhost:8080/"
        },
        "id": "5N-IU2KQz1Nr",
        "outputId": "2f643c9f-7858-4dca-e797-4c4f5daa9468"
      },
      "execution_count": null,
      "outputs": [
        {
          "output_type": "stream",
          "name": "stdout",
          "text": [
            "+------+-----------+--------+\n",
            "|   Sex|Temperatura|Depresie|\n",
            "+------+-----------+--------+\n",
            "|Female|36.71428571|      nu|\n",
            "|  Male|36.68253968|      nu|\n",
            "|  Male| 36.4537037|      nu|\n",
            "|  Male|36.28703704|      nu|\n",
            "|  Male|36.76190476|      nu|\n",
            "|Female|35.26666667|      nu|\n",
            "|Female| 35.6031746|      nu|\n",
            "|  Male|36.67361111|      nu|\n",
            "|  Male| 37.1031746|      nu|\n",
            "|Female|36.86111111|      nu|\n",
            "|  Male| 37.5555563|      nu|\n",
            "|  Male|36.47777778|      nu|\n",
            "|  Male|36.41666667|      nu|\n",
            "|Female|36.15740741|      nu|\n",
            "|  Male|36.50925926|      nu|\n",
            "|  Male|36.93333333|      nu|\n",
            "|  Male|36.92222214|      nu|\n",
            "|  Male|36.69444444|      da|\n",
            "|  Male|36.85185185|      nu|\n",
            "|  Male|36.00793651|      nu|\n",
            "+------+-----------+--------+\n",
            "only showing top 20 rows\n",
            "\n"
          ]
        }
      ]
    },
    {
      "cell_type": "markdown",
      "source": [
        "## Processing of the column 'Saturatia_pulsului_de_oxigen' values "
      ],
      "metadata": {
        "id": "aXesWKlRz5mv"
      }
    },
    {
      "cell_type": "code",
      "source": [
        "# Calculam media coloanei 'Saturatia_pulsului_de_oxigen'\n",
        "mean_val= data_as_spark.select(mean(data_as_spark['Saturatia_pulsului_de_oxigen'])).collect()\n",
        "mean_val\n",
        "#Afisam valoarea medie a coloanei 'Saturatia_pulsului_de_oxigen'\n",
        "mean_val[0][0]\n",
        "#Modificam valorile de null\n",
        "data_as_spark = data_as_spark.withColumn(\"Saturatia_pulsului_de_oxigen\",when(data_as_spark.Saturatia_pulsului_de_oxigen == \"null\",mean_val[0][0]).otherwise(data_as_spark.Saturatia_pulsului_de_oxigen))\n",
        "data_as_spark.createOrReplaceTempView(\"dataset\")\n",
        "sql_results_data_as_spark = spark.sql(\"select Sex,Saturatia_pulsului_de_oxigen,Depresie from dataset\")\n",
        "sql_results_data_as_spark.show()"
      ],
      "metadata": {
        "colab": {
          "base_uri": "https://localhost:8080/"
        },
        "id": "peGr9W75z7es",
        "outputId": "24f3b98c-d808-416d-d755-d20b7039a123"
      },
      "execution_count": null,
      "outputs": [
        {
          "output_type": "stream",
          "name": "stdout",
          "text": [
            "+------+----------------------------+--------+\n",
            "|   Sex|Saturatia_pulsului_de_oxigen|Depresie|\n",
            "+------+----------------------------+--------+\n",
            "|Female|                 98.39473684|      nu|\n",
            "|  Male|                 96.92307692|      nu|\n",
            "|  Male|                 95.29166667|      nu|\n",
            "|  Male|                 93.84615385|      nu|\n",
            "|  Male|                       99.28|      nu|\n",
            "|Female|                 96.81818182|      nu|\n",
            "|Female|                 95.63636364|      nu|\n",
            "|  Male|                      97.875|      nu|\n",
            "|  Male|                 98.04166667|      nu|\n",
            "|Female|                 94.45833333|      nu|\n",
            "|  Male|                       95.25|      nu|\n",
            "|  Male|                       96.08|      nu|\n",
            "|  Male|                       95.75|      nu|\n",
            "|Female|                 94.66666667|      nu|\n",
            "|  Male|                 89.11029412|      nu|\n",
            "|  Male|                       97.44|      nu|\n",
            "|  Male|                 99.81578947|      nu|\n",
            "|  Male|                       99.76|      da|\n",
            "|  Male|                 93.80769231|      nu|\n",
            "|  Male|                 95.54166667|      nu|\n",
            "+------+----------------------------+--------+\n",
            "only showing top 20 rows\n",
            "\n"
          ]
        }
      ]
    },
    {
      "cell_type": "markdown",
      "source": [
        "## Processing of the column 'Urina' values "
      ],
      "metadata": {
        "id": "2D-8nxP76Kl0"
      }
    },
    {
      "cell_type": "code",
      "source": [
        "# Calculam media coloanei 'Urina'\n",
        "mean_val= data_as_spark.select(mean(data_as_spark['Urina'])).collect()\n",
        "mean_val\n",
        "#Afisam valoarea medie a coloanei 'Urina'\n",
        "mean_val[0][0]\n",
        "#Modificam valorile de null\n",
        "data_as_spark = data_as_spark.withColumn(\"Urina\",when(data_as_spark.Urina == \"null\",mean_val[0][0]).otherwise(data_as_spark.Urina))\n",
        "data_as_spark.createOrReplaceTempView(\"dataset\")\n",
        "sql_results_data_as_spark = spark.sql(\"select Sex,Urina,Depresie from dataset\")\n",
        "sql_results_data_as_spark.show()"
      ],
      "metadata": {
        "colab": {
          "base_uri": "https://localhost:8080/"
        },
        "id": "7yZ6Bk9k6MZI",
        "outputId": "ecf34e6d-3fde-44c7-cd9b-2e6cfafcca09"
      },
      "execution_count": null,
      "outputs": [
        {
          "output_type": "stream",
          "name": "stdout",
          "text": [
            "+------+-----+--------+\n",
            "|   Sex|Urina|Depresie|\n",
            "+------+-----+--------+\n",
            "|Female| 2155|      nu|\n",
            "|  Male| 1425|      nu|\n",
            "|  Male| 2425|      nu|\n",
            "|  Male| 8760|      nu|\n",
            "|  Male| 4455|      nu|\n",
            "|Female| 1840|      nu|\n",
            "|Female| 2450|      nu|\n",
            "|  Male| 3039|      nu|\n",
            "|  Male| 1625|      nu|\n",
            "|Female| 6107|      nu|\n",
            "|  Male| 1305|      nu|\n",
            "|  Male| 2360|      nu|\n",
            "|  Male| 1130|      nu|\n",
            "|Female| 2220|      nu|\n",
            "|  Male| 2300|      nu|\n",
            "|  Male| 3700|      nu|\n",
            "|  Male| 1495|      nu|\n",
            "|  Male|  332|      da|\n",
            "|  Male| 5710|      nu|\n",
            "|  Male| 2415|      nu|\n",
            "+------+-----+--------+\n",
            "only showing top 20 rows\n",
            "\n"
          ]
        }
      ]
    },
    {
      "cell_type": "markdown",
      "source": [
        "## Processing of the column 'Volumul_celule_rosii_din_sange' values "
      ],
      "metadata": {
        "id": "cWaWW6E36QjC"
      }
    },
    {
      "cell_type": "code",
      "source": [
        "# Calculam media coloanei 'Volumul_celule_rosii_din_sange'\n",
        "mean_val= data_as_spark.select(mean(data_as_spark['Volumul_celule_rosii_din_sange'])).collect()\n",
        "mean_val\n",
        "#Afisam valoarea medie a coloanei 'Volumul_celule_rosii_din_sange'\n",
        "mean_val[0][0]\n",
        "#Modificam valorile de null\n",
        "data_as_spark = data_as_spark.withColumn(\"Volumul_celule_rosii_din_sange\",when(data_as_spark.Volumul_celule_rosii_din_sange == \"null\",mean_val[0][0]).otherwise(data_as_spark.Volumul_celule_rosii_din_sange))\n",
        "data_as_spark.createOrReplaceTempView(\"dataset\")\n",
        "sql_results_data_as_spark = spark.sql(\"select Sex,Volumul_celule_rosii_din_sange,Depresie from dataset\")\n",
        "sql_results_data_as_spark.show()"
      ],
      "metadata": {
        "colab": {
          "base_uri": "https://localhost:8080/"
        },
        "id": "cVmyftSQ6TGm",
        "outputId": "646eb7c6-5d9e-465f-d449-792482ae3b08"
      },
      "execution_count": null,
      "outputs": [
        {
          "output_type": "stream",
          "name": "stdout",
          "text": [
            "+------+------------------------------+--------+\n",
            "|   Sex|Volumul_celule_rosii_din_sange|Depresie|\n",
            "+------+------------------------------+--------+\n",
            "|Female|                   26.27272727|      nu|\n",
            "|  Male|                         30.78|      nu|\n",
            "|  Male|                          27.7|      nu|\n",
            "|  Male|                       36.6375|      nu|\n",
            "|  Male|                   29.93333333|      nu|\n",
            "|Female|                   27.33333333|      nu|\n",
            "|Female|                       28.9375|      nu|\n",
            "|  Male|                          28.8|      nu|\n",
            "|  Male|                   31.24117647|      nu|\n",
            "|Female|                          30.3|      nu|\n",
            "|  Male|                   27.48181818|      nu|\n",
            "|  Male|                        33.275|      nu|\n",
            "|  Male|                   32.54444444|      nu|\n",
            "|Female|                       31.6125|      nu|\n",
            "|  Male|                         44.16|      nu|\n",
            "|  Male|                         28.56|      nu|\n",
            "|  Male|                   23.65454545|      nu|\n",
            "|  Male|                   25.05384615|      da|\n",
            "|  Male|                   26.21666667|      nu|\n",
            "|  Male|                         27.66|      nu|\n",
            "+------+------------------------------+--------+\n",
            "only showing top 20 rows\n",
            "\n"
          ]
        }
      ]
    },
    {
      "cell_type": "markdown",
      "source": [
        "## Processing of the column 'Globule_rosii' values "
      ],
      "metadata": {
        "id": "QxlREUQ06Yim"
      }
    },
    {
      "cell_type": "code",
      "source": [
        "# Calculam media coloanei 'Globule_rosii'\n",
        "mean_val= data_as_spark.select(mean(data_as_spark['Globule_rosii'])).collect()\n",
        "mean_val\n",
        "#Afisam valoarea medie a coloanei 'Globule_rosii'\n",
        "mean_val[0][0]\n",
        "#Modificam valorile de null\n",
        "data_as_spark = data_as_spark.withColumn(\"Globule_rosii\",when(data_as_spark.Globule_rosii == \"null\",mean_val[0][0]).otherwise(data_as_spark.Globule_rosii))\n",
        "data_as_spark.createOrReplaceTempView(\"dataset\")\n",
        "sql_results_data_as_spark = spark.sql(\"select Sex,Globule_rosii,Depresie from dataset\")\n",
        "sql_results_data_as_spark.show()"
      ],
      "metadata": {
        "colab": {
          "base_uri": "https://localhost:8080/"
        },
        "id": "wrbBwtDZ6aWi",
        "outputId": "2843fbfc-31fd-47fd-f8e6-4af5600f420f"
      },
      "execution_count": null,
      "outputs": [
        {
          "output_type": "stream",
          "name": "stdout",
          "text": [
            "+------+-------------+--------+\n",
            "|   Sex|Globule_rosii|Depresie|\n",
            "+------+-------------+--------+\n",
            "|Female|         2.96|      nu|\n",
            "|  Male|        3.138|      nu|\n",
            "|  Male|         2.62|      nu|\n",
            "|  Male|       4.2775|      nu|\n",
            "|  Male|  3.286666667|      nu|\n",
            "|Female|        3.235|      nu|\n",
            "|Female|         3.72|      nu|\n",
            "|  Male|  2.867142857|      nu|\n",
            "|  Male|       3.4175|      nu|\n",
            "|Female|         3.27|      nu|\n",
            "|  Male|  3.182222222|      nu|\n",
            "|  Male|       3.5325|      nu|\n",
            "|  Male|      3.45875|      nu|\n",
            "|Female|         3.55|      nu|\n",
            "|  Male|        4.978|      nu|\n",
            "|  Male|        2.912|      nu|\n",
            "|  Male|  2.648571429|      nu|\n",
            "|  Male|        2.749|      da|\n",
            "|  Male|  3.886666667|      nu|\n",
            "|  Male|  2.917777778|      nu|\n",
            "+------+-------------+--------+\n",
            "only showing top 20 rows\n",
            "\n"
          ]
        }
      ]
    },
    {
      "cell_type": "markdown",
      "source": [
        "## Processing of the column 'Hemoglobina_corpusculara_medie' values "
      ],
      "metadata": {
        "id": "5PaWIjMM6ffd"
      }
    },
    {
      "cell_type": "code",
      "source": [
        "# Calculam media coloanei 'Hemoglobina_corpusculara_medie'\n",
        "mean_val= data_as_spark.select(mean(data_as_spark['Hemoglobina_corpusculara_medie'])).collect()\n",
        "mean_val\n",
        "#Afisam valoarea medie a coloanei 'Hemoglobina_corpusculara_medie'\n",
        "mean_val[0][0]\n",
        "#Modificam valorile de null\n",
        "data_as_spark = data_as_spark.withColumn(\"Hemoglobina_corpusculara_medie\",when(data_as_spark.Hemoglobina_corpusculara_medie == \"null\",mean_val[0][0]).otherwise(data_as_spark.Hemoglobina_corpusculara_medie))\n",
        "data_as_spark.createOrReplaceTempView(\"dataset\")\n",
        "sql_results_data_as_spark = spark.sql(\"select Sex,Hemoglobina_corpusculara_medie,Depresie from dataset\")\n",
        "sql_results_data_as_spark.show()"
      ],
      "metadata": {
        "colab": {
          "base_uri": "https://localhost:8080/"
        },
        "id": "7rHV-tZa6hot",
        "outputId": "0303966a-41d9-407b-95c3-491bed176e0d"
      },
      "execution_count": null,
      "outputs": [
        {
          "output_type": "stream",
          "name": "stdout",
          "text": [
            "+------+------------------------------+--------+\n",
            "|   Sex|Hemoglobina_corpusculara_medie|Depresie|\n",
            "+------+------------------------------+--------+\n",
            "|Female|                         28.25|      nu|\n",
            "|  Male|                         31.06|      nu|\n",
            "|  Male|                         34.32|      nu|\n",
            "|  Male|                       26.0625|      nu|\n",
            "|  Male|                   30.66666667|      nu|\n",
            "|Female|                   26.56666667|      nu|\n",
            "|Female|                       24.3375|      nu|\n",
            "|  Male|                   33.21428571|      nu|\n",
            "|  Male|                      29.19375|      nu|\n",
            "|Female|                   29.78333333|      nu|\n",
            "|  Male|                   28.26666667|      nu|\n",
            "|  Male|                        31.375|      nu|\n",
            "|  Male|                          30.4|      nu|\n",
            "|Female|                        29.675|      nu|\n",
            "|  Male|                          26.6|      nu|\n",
            "|  Male|                          32.5|      nu|\n",
            "|  Male|                   29.82857143|      nu|\n",
            "|  Male|                         29.99|      da|\n",
            "|  Male|                   22.43333333|      nu|\n",
            "|  Male|                   30.44444444|      nu|\n",
            "+------+------------------------------+--------+\n",
            "only showing top 20 rows\n",
            "\n"
          ]
        }
      ]
    },
    {
      "cell_type": "markdown",
      "source": [
        "## Processing of the column 'Concentratia_medie_a_hemoglobinei_corpusculare' values "
      ],
      "metadata": {
        "id": "EtuqZctc6mmm"
      }
    },
    {
      "cell_type": "code",
      "source": [
        "# Calculam media coloanei 'Concentratia_medie_a_hemoglobinei_corpusculare'\n",
        "mean_val= data_as_spark.select(mean(data_as_spark['Concentratia_medie_a_hemoglobinei_corpusculare'])).collect()\n",
        "mean_val\n",
        "#Afisam valoarea medie a coloanei 'Concentratia_medie_a_hemoglobinei_corpusculare'\n",
        "mean_val[0][0]\n",
        "#Modificam valorile de null\n",
        "data_as_spark = data_as_spark.withColumn(\"Concentratia_medie_a_hemoglobinei_corpusculare\",when(data_as_spark.Concentratia_medie_a_hemoglobinei_corpusculare == \"null\",mean_val[0][0]).otherwise(data_as_spark.Concentratia_medie_a_hemoglobinei_corpusculare))\n",
        "data_as_spark.createOrReplaceTempView(\"dataset\")\n",
        "sql_results_data_as_spark = spark.sql(\"select Sex,Concentratia_medie_a_hemoglobinei_corpusculare,Depresie from dataset\")\n",
        "sql_results_data_as_spark.show()"
      ],
      "metadata": {
        "colab": {
          "base_uri": "https://localhost:8080/"
        },
        "id": "t_8WRr5P6naU",
        "outputId": "5051f808-ab5c-48a6-b8ad-81101b4321b9"
      },
      "execution_count": null,
      "outputs": [
        {
          "output_type": "stream",
          "name": "stdout",
          "text": [
            "+------+----------------------------------------------+--------+\n",
            "|   Sex|Concentratia_medie_a_hemoglobinei_corpusculare|Depresie|\n",
            "+------+----------------------------------------------+--------+\n",
            "|Female|                                         31.52|      nu|\n",
            "|  Male|                                         31.66|      nu|\n",
            "|  Male|                                          31.3|      nu|\n",
            "|  Male|                                       30.4125|      nu|\n",
            "|  Male|                                   33.66666667|      nu|\n",
            "|Female|                                   31.48333333|      nu|\n",
            "|Female|                                       31.3125|      nu|\n",
            "|  Male|                                   33.74285714|      nu|\n",
            "|  Male|                                      31.91875|      nu|\n",
            "|Female|                                         32.15|      nu|\n",
            "|  Male|                                   33.03333333|      nu|\n",
            "|  Male|                                          33.3|      nu|\n",
            "|  Male|                                       32.2625|      nu|\n",
            "|Female|                                          33.3|      nu|\n",
            "|  Male|                                         29.98|      nu|\n",
            "|  Male|                                         33.14|      nu|\n",
            "|  Male|                                   33.18571429|      nu|\n",
            "|  Male|                                         32.94|      da|\n",
            "|  Male|                                          33.3|      nu|\n",
            "|  Male|                                   32.07777778|      nu|\n",
            "+------+----------------------------------------------+--------+\n",
            "only showing top 20 rows\n",
            "\n"
          ]
        }
      ]
    },
    {
      "cell_type": "markdown",
      "source": [
        "## Processing of the column 'Volumul_corpuscular_mediu' values "
      ],
      "metadata": {
        "id": "EdjYkgbJ6s0L"
      }
    },
    {
      "cell_type": "code",
      "source": [
        "# Calculam media coloanei 'Volumul_corpuscular_mediu'\n",
        "mean_val= data_as_spark.select(mean(data_as_spark['Volumul_corpuscular_mediu'])).collect()\n",
        "mean_val\n",
        "#Afisam valoarea medie a coloanei 'Volumul_corpuscular_mediu'\n",
        "mean_val[0][0]\n",
        "#Modificam valorile de null\n",
        "data_as_spark = data_as_spark.withColumn(\"Volumul_corpuscular_mediu\",when(data_as_spark.Volumul_corpuscular_mediu == \"null\",mean_val[0][0]).otherwise(data_as_spark.Volumul_corpuscular_mediu))\n",
        "data_as_spark.createOrReplaceTempView(\"dataset\")\n",
        "sql_results_data_as_spark = spark.sql(\"select Sex,Volumul_corpuscular_mediu,Depresie from dataset\")\n",
        "sql_results_data_as_spark.show()"
      ],
      "metadata": {
        "colab": {
          "base_uri": "https://localhost:8080/"
        },
        "id": "TZrRZKuA6tgB",
        "outputId": "eb988465-5008-4fd2-94ad-4a24dc68f027"
      },
      "execution_count": null,
      "outputs": [
        {
          "output_type": "stream",
          "name": "stdout",
          "text": [
            "+------+-------------------------+--------+\n",
            "|   Sex|Volumul_corpuscular_mediu|Depresie|\n",
            "+------+-------------------------+--------+\n",
            "|Female|                     89.9|      nu|\n",
            "|  Male|                     98.2|      nu|\n",
            "|  Male|                    109.8|      nu|\n",
            "|  Male|                   85.625|      nu|\n",
            "|  Male|                       91|      nu|\n",
            "|Female|                     84.5|      nu|\n",
            "|Female|                   77.875|      nu|\n",
            "|  Male|              98.57142857|      nu|\n",
            "|  Male|                  91.5625|      nu|\n",
            "|Female|                       93|      nu|\n",
            "|  Male|              85.77777778|      nu|\n",
            "|  Male|                     94.5|      nu|\n",
            "|  Male|                   94.375|      nu|\n",
            "|Female|                       89|      nu|\n",
            "|  Male|                     88.8|      nu|\n",
            "|  Male|                       98|      nu|\n",
            "|  Male|              90.14285714|      nu|\n",
            "|  Male|                     91.1|      da|\n",
            "|  Male|              67.33333333|      nu|\n",
            "|  Male|              94.88888889|      nu|\n",
            "+------+-------------------------+--------+\n",
            "only showing top 20 rows\n",
            "\n"
          ]
        }
      ]
    },
    {
      "cell_type": "markdown",
      "source": [
        "## Processing of the column 'Latimea_distributiei_globulelor_rosii' values "
      ],
      "metadata": {
        "id": "ytdiURNB6xrf"
      }
    },
    {
      "cell_type": "code",
      "source": [
        "# Calculam media coloanei 'Latimea_distributiei_globulelor_rosii'\n",
        "mean_val= data_as_spark.select(mean(data_as_spark['Latimea_distributiei_globulelor_rosii'])).collect()\n",
        "mean_val\n",
        "#Afisam valoarea medie a coloanei 'Latimea_distributiei_globulelor_rosii'\n",
        "mean_val[0][0]\n",
        "#Modificam valorile de null\n",
        "data_as_spark = data_as_spark.withColumn(\"Latimea_distributiei_globulelor_rosii\",when(data_as_spark.Latimea_distributiei_globulelor_rosii == \"null\",mean_val[0][0]).otherwise(data_as_spark.Latimea_distributiei_globulelor_rosii))\n",
        "data_as_spark.createOrReplaceTempView(\"dataset\")\n",
        "sql_results_data_as_spark = spark.sql(\"select Sex,Latimea_distributiei_globulelor_rosii,Depresie from dataset\")\n",
        "sql_results_data_as_spark.show()"
      ],
      "metadata": {
        "colab": {
          "base_uri": "https://localhost:8080/"
        },
        "id": "BLmaFsfs6yWH",
        "outputId": "7dd27d83-0906-41b7-9a8d-ebd95e91881a"
      },
      "execution_count": null,
      "outputs": [
        {
          "output_type": "stream",
          "name": "stdout",
          "text": [
            "+------+-------------------------------------+--------+\n",
            "|   Sex|Latimea_distributiei_globulelor_rosii|Depresie|\n",
            "+------+-------------------------------------+--------+\n",
            "|Female|                                16.22|      nu|\n",
            "|  Male|                                14.26|      nu|\n",
            "|  Male|                                23.82|      nu|\n",
            "|  Male|                              17.0375|      nu|\n",
            "|  Male|                          16.26666667|      nu|\n",
            "|Female|                          16.51666667|      nu|\n",
            "|Female|                                 17.4|      nu|\n",
            "|  Male|                          13.15714286|      nu|\n",
            "|  Male|                             15.50625|      nu|\n",
            "|Female|                          14.66666667|      nu|\n",
            "|  Male|                          15.48888889|      nu|\n",
            "|  Male|                               12.625|      nu|\n",
            "|  Male|                              14.3625|      nu|\n",
            "|Female|                                 14.3|      nu|\n",
            "|  Male|                                15.18|      nu|\n",
            "|  Male|                                15.06|      nu|\n",
            "|  Male|                          15.41428571|      nu|\n",
            "|  Male|                                16.55|      da|\n",
            "|  Male|                          20.23333333|      nu|\n",
            "|  Male|                          15.52222222|      nu|\n",
            "+------+-------------------------------------+--------+\n",
            "only showing top 20 rows\n",
            "\n"
          ]
        }
      ]
    },
    {
      "cell_type": "markdown",
      "source": [
        "## Processing of the column 'Leucocite' values "
      ],
      "metadata": {
        "id": "95GKkMqV63Ks"
      }
    },
    {
      "cell_type": "code",
      "source": [
        "# Calculam media coloanei 'Leucocite'\n",
        "mean_val= data_as_spark.select(mean(data_as_spark['Leucocite'])).collect()\n",
        "mean_val\n",
        "#Afisam valoarea medie a coloanei 'Leucocite'\n",
        "mean_val[0][0]\n",
        "#Modificam valorile de null\n",
        "data_as_spark = data_as_spark.withColumn(\"Leucocite\",when(data_as_spark.Leucocite == \"null\",mean_val[0][0]).otherwise(data_as_spark.Leucocite))\n",
        "data_as_spark.createOrReplaceTempView(\"dataset\")\n",
        "sql_results_data_as_spark = spark.sql(\"select Sex,Leucocite,Depresie from dataset\")\n",
        "sql_results_data_as_spark.show()"
      ],
      "metadata": {
        "colab": {
          "base_uri": "https://localhost:8080/"
        },
        "id": "TFTgRRXu632F",
        "outputId": "e1bc9520-e08d-441c-9408-e5e6927de18c"
      },
      "execution_count": null,
      "outputs": [
        {
          "output_type": "stream",
          "name": "stdout",
          "text": [
            "+------+-----------+--------+\n",
            "|   Sex|  Leucocite|Depresie|\n",
            "+------+-----------+--------+\n",
            "|Female|       7.65|      nu|\n",
            "|  Male|      12.74|      nu|\n",
            "|  Male|       5.48|      nu|\n",
            "|  Male|      8.225|      nu|\n",
            "|  Male|8.833333333|      nu|\n",
            "|Female|9.516666667|      nu|\n",
            "|Female|      7.975|      nu|\n",
            "|  Male|        8.5|      nu|\n",
            "|  Male|    3.80625|      nu|\n",
            "|Female|5.533333333|      nu|\n",
            "|  Male|10.22222222|      nu|\n",
            "|  Male|        7.9|      nu|\n",
            "|  Male|      8.725|      nu|\n",
            "|Female|      9.575|      nu|\n",
            "|  Male|       3.64|      nu|\n",
            "|  Male|       7.38|      nu|\n",
            "|  Male|10.74285714|      nu|\n",
            "|  Male|       6.33|      da|\n",
            "|  Male|15.71666667|      nu|\n",
            "|  Male|6.511111111|      nu|\n",
            "+------+-----------+--------+\n",
            "only showing top 20 rows\n",
            "\n"
          ]
        }
      ]
    },
    {
      "cell_type": "markdown",
      "source": [
        "## Processing of the column 'Trombocite' values "
      ],
      "metadata": {
        "id": "lTz7S3dE6_bQ"
      }
    },
    {
      "cell_type": "code",
      "source": [
        "# Calculam media coloanei 'Trombocite'\n",
        "mean_val= data_as_spark.select(mean(data_as_spark['Trombocite'])).collect()\n",
        "mean_val\n",
        "#Afisam valoarea medie a coloanei 'Trombocite'\n",
        "mean_val[0][0]\n",
        "#Modificam valorile de null\n",
        "data_as_spark = data_as_spark.withColumn(\"Trombocite\",when(data_as_spark.Trombocite == \"null\",mean_val[0][0]).otherwise(data_as_spark.Trombocite))\n",
        "data_as_spark.createOrReplaceTempView(\"dataset\")\n",
        "sql_results_data_as_spark = spark.sql(\"select Sex,Trombocite,Depresie from dataset\")\n",
        "sql_results_data_as_spark.show()"
      ],
      "metadata": {
        "colab": {
          "base_uri": "https://localhost:8080/"
        },
        "id": "1rk-7ZU67AEB",
        "outputId": "7b43a726-e86f-4204-8179-98196e6ea98b"
      },
      "execution_count": null,
      "outputs": [
        {
          "output_type": "stream",
          "name": "stdout",
          "text": [
            "+------+-----------+--------+\n",
            "|   Sex| Trombocite|Depresie|\n",
            "+------+-----------+--------+\n",
            "|Female|      305.1|      nu|\n",
            "|  Male|      246.4|      nu|\n",
            "|  Male|      204.2|      nu|\n",
            "|  Male|    216.375|      nu|\n",
            "|  Male|        251|      nu|\n",
            "|Female|        273|      nu|\n",
            "|Female|     140.25|      nu|\n",
            "|  Male|222.7142857|      nu|\n",
            "|  Male|129.8823529|      nu|\n",
            "|Female|235.3333333|      nu|\n",
            "|  Male|185.3333333|      nu|\n",
            "|  Male|     309.25|      nu|\n",
            "|  Male|    317.375|      nu|\n",
            "|Female|     589.75|      nu|\n",
            "|  Male|      196.2|      nu|\n",
            "|  Male|      230.2|      nu|\n",
            "|  Male|304.4285714|      nu|\n",
            "|  Male|      198.5|      da|\n",
            "|  Male|380.8333333|      nu|\n",
            "|  Male|445.5555556|      nu|\n",
            "+------+-----------+--------+\n",
            "only showing top 20 rows\n",
            "\n"
          ]
        }
      ]
    },
    {
      "cell_type": "markdown",
      "source": [
        "## Processing of the column 'Neurofile' values "
      ],
      "metadata": {
        "id": "sGkGxNjH7E-0"
      }
    },
    {
      "cell_type": "code",
      "source": [
        "# Calculam media coloanei 'Neurofile'\n",
        "mean_val= data_as_spark.select(mean(data_as_spark['Neurofile'])).collect()\n",
        "mean_val\n",
        "#Afisam valoarea medie a coloanei 'Neurofile'\n",
        "mean_val[0][0]\n",
        "#Modificam valorile de null\n",
        "data_as_spark = data_as_spark.withColumn(\"Neurofile\",when(data_as_spark.Neurofile == \"null\",mean_val[0][0]).otherwise(data_as_spark.Neurofile))\n",
        "data_as_spark.createOrReplaceTempView(\"dataset\")\n",
        "sql_results_data_as_spark = spark.sql(\"select Sex,Neurofile,Depresie from dataset\")\n",
        "sql_results_data_as_spark.show()"
      ],
      "metadata": {
        "colab": {
          "base_uri": "https://localhost:8080/"
        },
        "id": "l5GCIOq07HKV",
        "outputId": "f1670dc4-d18d-4315-e87f-cd44dd0eeb75"
      },
      "execution_count": null,
      "outputs": [
        {
          "output_type": "stream",
          "name": "stdout",
          "text": [
            "+------+-----------------+--------+\n",
            "|   Sex|        Neurofile|Depresie|\n",
            "+------+-----------------+--------+\n",
            "|Female|            74.65|      nu|\n",
            "|  Male|80.11354430419135|      nu|\n",
            "|  Male|             68.1|      nu|\n",
            "|  Male|             81.8|      nu|\n",
            "|  Male|80.11354430419135|      nu|\n",
            "|Female|             85.4|      nu|\n",
            "|Female|             80.7|      nu|\n",
            "|  Male|80.11354430419135|      nu|\n",
            "|  Male|               67|      nu|\n",
            "|Female|80.11354430419135|      nu|\n",
            "|  Male|80.11354430419135|      nu|\n",
            "|  Male|            69.65|      nu|\n",
            "|  Male|            87.95|      nu|\n",
            "|Female|             68.7|      nu|\n",
            "|  Male|            76.35|      nu|\n",
            "|  Male|             83.5|      nu|\n",
            "|  Male|             91.4|      nu|\n",
            "|  Male|            75.36|      da|\n",
            "|  Male|      79.66666667|      nu|\n",
            "|  Male|            78.05|      nu|\n",
            "+------+-----------------+--------+\n",
            "only showing top 20 rows\n",
            "\n"
          ]
        }
      ]
    },
    {
      "cell_type": "markdown",
      "source": [
        "## Processing of the column 'Globule_albe' values "
      ],
      "metadata": {
        "id": "yvKxZZ957Nx9"
      }
    },
    {
      "cell_type": "code",
      "source": [
        "# Calculam media coloanei 'Globule_albe'\n",
        "mean_val= data_as_spark.select(mean(data_as_spark['Globule_albe'])).collect()\n",
        "mean_val\n",
        "#Afisam valoarea medie a coloanei 'Globule_albe'\n",
        "mean_val[0][0]\n",
        "#Modificam valorile de null\n",
        "data_as_spark = data_as_spark.withColumn(\"Globule_albe\",when(data_as_spark.Globule_albe == \"null\",mean_val[0][0]).otherwise(data_as_spark.Globule_albe))\n",
        "data_as_spark.createOrReplaceTempView(\"dataset\")\n",
        "sql_results_data_as_spark = spark.sql(\"select Sex,Globule_albe,Depresie from dataset\")\n",
        "sql_results_data_as_spark.show()"
      ],
      "metadata": {
        "colab": {
          "base_uri": "https://localhost:8080/"
        },
        "id": "cywjHYTv7Od6",
        "outputId": "9b93de21-95e7-46e0-b5f6-1d4b64a58e43"
      },
      "execution_count": null,
      "outputs": [
        {
          "output_type": "stream",
          "name": "stdout",
          "text": [
            "+------+-------------------+--------+\n",
            "|   Sex|       Globule_albe|Depresie|\n",
            "+------+-------------------+--------+\n",
            "|Female|                0.4|      nu|\n",
            "|  Male|0.40556943147167485|      nu|\n",
            "|  Male|               0.55|      nu|\n",
            "|  Male|               0.15|      nu|\n",
            "|  Male|0.40556943147167485|      nu|\n",
            "|Female|                0.3|      nu|\n",
            "|Female|                0.2|      nu|\n",
            "|  Male|0.40556943147167485|      nu|\n",
            "|  Male|               0.55|      nu|\n",
            "|Female|0.40556943147167485|      nu|\n",
            "|  Male|0.40556943147167485|      nu|\n",
            "|  Male|                0.4|      nu|\n",
            "|  Male|               0.75|      nu|\n",
            "|Female|               0.45|      nu|\n",
            "|  Male|               0.55|      nu|\n",
            "|  Male|                0.2|      nu|\n",
            "|  Male|                0.1|      nu|\n",
            "|  Male|                0.4|      da|\n",
            "|  Male|0.40556943147167485|      nu|\n",
            "|  Male|               0.35|      nu|\n",
            "+------+-------------------+--------+\n",
            "only showing top 20 rows\n",
            "\n"
          ]
        }
      ]
    },
    {
      "cell_type": "markdown",
      "source": [
        "## Processing of the column 'Limfocite' values "
      ],
      "metadata": {
        "id": "oBgK1-KB7TZe"
      }
    },
    {
      "cell_type": "code",
      "source": [
        "# Calculam media coloanei 'Limfocite'\n",
        "mean_val= data_as_spark.select(mean(data_as_spark['Limfocite'])).collect()\n",
        "mean_val\n",
        "#Afisam valoarea medie a coloanei 'Limfocite'\n",
        "mean_val[0][0]\n",
        "#Modificam valorile de null\n",
        "data_as_spark = data_as_spark.withColumn(\"Limfocite\",when(data_as_spark.Limfocite == \"null\",mean_val[0][0]).otherwise(data_as_spark.Limfocite))\n",
        "data_as_spark.createOrReplaceTempView(\"dataset\")\n",
        "sql_results_data_as_spark = spark.sql(\"select Sex,Limfocite,Depresie from dataset\")\n",
        "sql_results_data_as_spark.show()"
      ],
      "metadata": {
        "colab": {
          "base_uri": "https://localhost:8080/"
        },
        "id": "KFxWOHSA7Whg",
        "outputId": "df8b40c3-7c8f-42cc-c4fa-91dbdb54c325"
      },
      "execution_count": null,
      "outputs": [
        {
          "output_type": "stream",
          "name": "stdout",
          "text": [
            "+------+------------------+--------+\n",
            "|   Sex|         Limfocite|Depresie|\n",
            "+------+------------------+--------+\n",
            "|Female|              13.3|      nu|\n",
            "|  Male|12.233024294061012|      nu|\n",
            "|  Male|              24.5|      nu|\n",
            "|  Male|              14.5|      nu|\n",
            "|  Male|12.233024294061012|      nu|\n",
            "|Female|               9.3|      nu|\n",
            "|Female|             13.45|      nu|\n",
            "|  Male|12.233024294061012|      nu|\n",
            "|  Male|             25.55|      nu|\n",
            "|Female|12.233024294061012|      nu|\n",
            "|  Male|12.233024294061012|      nu|\n",
            "|  Male|             24.45|      nu|\n",
            "|  Male|              7.25|      nu|\n",
            "|Female|                15|      nu|\n",
            "|  Male|             15.75|      nu|\n",
            "|  Male|              10.1|      nu|\n",
            "|  Male|               4.9|      nu|\n",
            "|  Male|             16.12|      da|\n",
            "|  Male|       9.666666667|      nu|\n",
            "|  Male|              14.6|      nu|\n",
            "+------+------------------+--------+\n",
            "only showing top 20 rows\n",
            "\n"
          ]
        }
      ]
    },
    {
      "cell_type": "markdown",
      "source": [
        "## Processing of the column 'Timp_de_protrombina' values "
      ],
      "metadata": {
        "id": "EUt7VuFM7ZE2"
      }
    },
    {
      "cell_type": "code",
      "source": [
        "# Calculam media coloanei 'Timp_de_protrombina'\n",
        "mean_val= data_as_spark.select(mean(data_as_spark['Timp_de_protrombina'])).collect()\n",
        "mean_val\n",
        "#Afisam valoarea medie a coloanei 'Timp_de_protrombina'\n",
        "mean_val[0][0]\n",
        "#Modificam valorile de null\n",
        "data_as_spark = data_as_spark.withColumn(\"Timp_de_protrombina\",when(data_as_spark.Timp_de_protrombina == \"null\",mean_val[0][0]).otherwise(data_as_spark.Timp_de_protrombina))\n",
        "data_as_spark.createOrReplaceTempView(\"dataset\")\n",
        "sql_results_data_as_spark = spark.sql(\"select Sex,Timp_de_protrombina,Depresie from dataset\")\n",
        "sql_results_data_as_spark.show()"
      ],
      "metadata": {
        "colab": {
          "base_uri": "https://localhost:8080/"
        },
        "id": "l4se0q2A7b5d",
        "outputId": "02101946-1ab6-4286-f31d-befd74bcdb5d"
      },
      "execution_count": null,
      "outputs": [
        {
          "output_type": "stream",
          "name": "stdout",
          "text": [
            "+------+-------------------+--------+\n",
            "|   Sex|Timp_de_protrombina|Depresie|\n",
            "+------+-------------------+--------+\n",
            "|Female|               10.6|      nu|\n",
            "|  Male|  17.48105714916175|      nu|\n",
            "|  Male|             11.275|      nu|\n",
            "|  Male|        27.06666667|      nu|\n",
            "|  Male|  17.48105714916175|      nu|\n",
            "|Female|        18.78333333|      nu|\n",
            "|Female|                 14|      nu|\n",
            "|  Male|        16.67142857|      nu|\n",
            "|  Male|             19.275|      nu|\n",
            "|Female|               14.7|      nu|\n",
            "|  Male|              12.95|      nu|\n",
            "|  Male|             13.275|      nu|\n",
            "|  Male|             12.125|      nu|\n",
            "|Female|               37.9|      nu|\n",
            "|  Male|              13.95|      nu|\n",
            "|  Male|              13.65|      nu|\n",
            "|  Male|              12.55|      nu|\n",
            "|  Male|               13.6|      da|\n",
            "|  Male|               14.7|      nu|\n",
            "|  Male|              12.84|      nu|\n",
            "+------+-------------------+--------+\n",
            "only showing top 20 rows\n",
            "\n"
          ]
        }
      ]
    },
    {
      "cell_type": "markdown",
      "source": [
        "## Processing of the column 'Raport_internationalizat_normalizat' values "
      ],
      "metadata": {
        "id": "XoJpB_xd7gsq"
      }
    },
    {
      "cell_type": "code",
      "source": [
        "# Calculam media coloanei 'Raport_internationalizat_normalizat'\n",
        "mean_val= data_as_spark.select(mean(data_as_spark['Raport_internationalizat_normalizat'])).collect()\n",
        "mean_val\n",
        "#Afisam valoarea medie a coloanei 'Raport_internationalizat_normalizat'\n",
        "mean_val[0][0]\n",
        "#Modificam valorile de null\n",
        "data_as_spark = data_as_spark.withColumn(\"Raport_internationalizat_normalizat\",when(data_as_spark.Raport_internationalizat_normalizat == \"null\",mean_val[0][0]).otherwise(data_as_spark.Raport_internationalizat_normalizat))\n",
        "data_as_spark.createOrReplaceTempView(\"dataset\")\n",
        "sql_results_data_as_spark = spark.sql(\"select Sex,Raport_internationalizat_normalizat,Depresie from dataset\")\n",
        "sql_results_data_as_spark.show()"
      ],
      "metadata": {
        "colab": {
          "base_uri": "https://localhost:8080/"
        },
        "id": "qn7a30ru7hZG",
        "outputId": "1730a291-9d6e-4499-e4b5-89a5a69d8a34"
      },
      "execution_count": null,
      "outputs": [
        {
          "output_type": "stream",
          "name": "stdout",
          "text": [
            "+------+-----------------------------------+--------+\n",
            "|   Sex|Raport_internationalizat_normalizat|Depresie|\n",
            "+------+-----------------------------------+--------+\n",
            "|Female|                                  1|      nu|\n",
            "|  Male|                 1.6254649835963917|      nu|\n",
            "|  Male|                               0.95|      nu|\n",
            "|  Male|                        2.666666667|      nu|\n",
            "|  Male|                 1.6254649835963917|      nu|\n",
            "|Female|                                1.7|      nu|\n",
            "|Female|                                1.2|      nu|\n",
            "|  Male|                        1.571428571|      nu|\n",
            "|  Male|                               1.75|      nu|\n",
            "|Female|                                1.3|      nu|\n",
            "|  Male|                                1.1|      nu|\n",
            "|  Male|                              1.125|      nu|\n",
            "|  Male|                              1.025|      nu|\n",
            "|Female|                                4.2|      nu|\n",
            "|  Male|                                1.2|      nu|\n",
            "|  Male|                               1.15|      nu|\n",
            "|  Male|                              1.075|      nu|\n",
            "|  Male|                        1.166666667|      da|\n",
            "|  Male|                                1.4|      nu|\n",
            "|  Male|                                1.1|      nu|\n",
            "+------+-----------------------------------+--------+\n",
            "only showing top 20 rows\n",
            "\n"
          ]
        }
      ]
    },
    {
      "cell_type": "markdown",
      "source": [
        "## Processing of the column 'NT_proBNP' values "
      ],
      "metadata": {
        "id": "U44n6DL27kZp"
      }
    },
    {
      "cell_type": "code",
      "source": [
        "# Calculam media coloanei 'NT-proBNP'\n",
        "mean_val= data_as_spark.select(mean(data_as_spark['NT_proBNP'])).collect()\n",
        "mean_val\n",
        "#Afisam valoarea medie a coloanei 'NT-proBNP'\n",
        "mean_val[0][0]\n",
        "#Modificam valorile de null\n",
        "data_as_spark = data_as_spark.withColumn(\"NT_proBNP\",when(data_as_spark.NT_proBNP == \"null\",mean_val[0][0]).otherwise(data_as_spark.NT_proBNP))\n",
        "data_as_spark.createOrReplaceTempView(\"dataset\")\n",
        "sql_results_data_as_spark = spark.sql(\"select Sex,NT_proBNP,Depresie from dataset\")\n",
        "sql_results_data_as_spark.show()"
      ],
      "metadata": {
        "colab": {
          "base_uri": "https://localhost:8080/"
        },
        "id": "t9IH4ssh7m-H",
        "outputId": "3018388c-033a-48f0-b1e2-03b724ff9478"
      },
      "execution_count": null,
      "outputs": [
        {
          "output_type": "stream",
          "name": "stdout",
          "text": [
            "+------+---------+--------+\n",
            "|   Sex|NT_proBNP|Depresie|\n",
            "+------+---------+--------+\n",
            "|Female|     1956|      nu|\n",
            "|  Male|     2384|      nu|\n",
            "|  Male|     4081|      nu|\n",
            "|  Male|      668|      nu|\n",
            "|  Male|    30802|      nu|\n",
            "|Female|    34183|      nu|\n",
            "|Female|    29683|      nu|\n",
            "|  Male|     1144|      nu|\n",
            "|  Male|    21050|      nu|\n",
            "|Female|      884|      nu|\n",
            "|  Male|     2429|      nu|\n",
            "|  Male|   3295.5|      nu|\n",
            "|  Male|     3654|      nu|\n",
            "|Female|     4745|      nu|\n",
            "|  Male|     7885|      nu|\n",
            "|  Male|    16878|      nu|\n",
            "|  Male|    33773|      nu|\n",
            "|  Male|    33944|      da|\n",
            "|  Male|      826|      nu|\n",
            "|  Male|     1031|      nu|\n",
            "+------+---------+--------+\n",
            "only showing top 20 rows\n",
            "\n"
          ]
        }
      ]
    },
    {
      "cell_type": "markdown",
      "source": [
        "## Processing of the column 'Creatin_kinaza' values "
      ],
      "metadata": {
        "id": "48-iBSKL7qKs"
      }
    },
    {
      "cell_type": "code",
      "source": [
        "# Calculam media coloanei 'Creatin_kinaza'\n",
        "mean_val= data_as_spark.select(mean(data_as_spark['Creatin_kinaza'])).collect()\n",
        "mean_val\n",
        "#Afisam valoarea medie a coloanei 'Creatin_kinaza'\n",
        "mean_val[0][0]\n",
        "#Modificam valorile de null\n",
        "data_as_spark = data_as_spark.withColumn(\"Creatin_kinaza\",when(data_as_spark.Creatin_kinaza == \"null\",mean_val[0][0]).otherwise(data_as_spark.Creatin_kinaza))\n",
        "data_as_spark.createOrReplaceTempView(\"dataset\")\n",
        "sql_results_data_as_spark = spark.sql(\"select Sex,Creatin_kinaza,Depresie from dataset\")\n",
        "sql_results_data_as_spark.show()"
      ],
      "metadata": {
        "colab": {
          "base_uri": "https://localhost:8080/"
        },
        "id": "Y4ln3_Jp7sSS",
        "outputId": "1cd075f6-8dcc-45e0-faf2-740e11697503"
      },
      "execution_count": null,
      "outputs": [
        {
          "output_type": "stream",
          "name": "stdout",
          "text": [
            "+------+------------------+--------+\n",
            "|   Sex|    Creatin_kinaza|Depresie|\n",
            "+------+------------------+--------+\n",
            "|Female|               148|      nu|\n",
            "|  Male|              60.6|      nu|\n",
            "|  Male|                16|      nu|\n",
            "|  Male|                85|      nu|\n",
            "|  Male|       111.6666667|      nu|\n",
            "|Female|                28|      nu|\n",
            "|Female|            108.25|      nu|\n",
            "|  Male|                81|      nu|\n",
            "|  Male|       117.1666667|      nu|\n",
            "|Female|                65|      nu|\n",
            "|  Male|            615.25|      nu|\n",
            "|  Male|              65.5|      nu|\n",
            "|  Male|246.77845607469405|      nu|\n",
            "|Female|                51|      nu|\n",
            "|  Male|              84.5|      nu|\n",
            "|  Male|       78.33333333|      nu|\n",
            "|  Male|                50|      nu|\n",
            "|  Male|              23.5|      da|\n",
            "|  Male|                51|      nu|\n",
            "|  Male|              55.5|      nu|\n",
            "+------+------------------+--------+\n",
            "only showing top 20 rows\n",
            "\n"
          ]
        }
      ]
    },
    {
      "cell_type": "markdown",
      "source": [
        "## Processing of the column 'Creatina' values "
      ],
      "metadata": {
        "id": "qciNoJH57zoR"
      }
    },
    {
      "cell_type": "code",
      "source": [
        "# Calculam media coloanei 'Creatina'\n",
        "mean_val= data_as_spark.select(mean(data_as_spark['Creatina'])).collect()\n",
        "mean_val\n",
        "#Afisam valoarea medie a coloanei 'Creatina'\n",
        "mean_val[0][0]\n",
        "#Modificam valorile de null\n",
        "data_as_spark = data_as_spark.withColumn(\"Creatina\",when(data_as_spark.Creatina == \"null\",mean_val[0][0]).otherwise(data_as_spark.Creatina))\n",
        "data_as_spark.createOrReplaceTempView(\"dataset\")\n",
        "sql_results_data_as_spark = spark.sql(\"select Sex,Creatina,Depresie from dataset\")\n",
        "sql_results_data_as_spark.show()"
      ],
      "metadata": {
        "colab": {
          "base_uri": "https://localhost:8080/"
        },
        "id": "SugbkTgK71EO",
        "outputId": "da67fdf9-8db0-40b5-b58c-52890a04dce2"
      },
      "execution_count": null,
      "outputs": [
        {
          "output_type": "stream",
          "name": "stdout",
          "text": [
            "+------+-----------+--------+\n",
            "|   Sex|   Creatina|Depresie|\n",
            "+------+-----------+--------+\n",
            "|Female|1.958333333|      nu|\n",
            "|  Male|1.122222222|      nu|\n",
            "|  Male|1.871428571|      nu|\n",
            "|  Male|0.585714286|      nu|\n",
            "|  Male|       1.95|      nu|\n",
            "|Female|     1.6125|      nu|\n",
            "|Female|       2.96|      nu|\n",
            "|  Male|      0.575|      nu|\n",
            "|  Male|2.131578947|      nu|\n",
            "|Female|       1.61|      nu|\n",
            "|  Male|       1.82|      nu|\n",
            "|  Male|0.833333333|      nu|\n",
            "|  Male|0.545454545|      nu|\n",
            "|Female|       1.98|      nu|\n",
            "|  Male|1.342857143|      nu|\n",
            "|  Male|1.666666667|      nu|\n",
            "|  Male|       2.05|      nu|\n",
            "|  Male|2.791666667|      da|\n",
            "|  Male|0.736363636|      nu|\n",
            "|  Male|       0.88|      nu|\n",
            "+------+-----------+--------+\n",
            "only showing top 20 rows\n",
            "\n"
          ]
        }
      ]
    },
    {
      "cell_type": "markdown",
      "source": [
        "## Processing of the column 'Nitrogen_ureic' values "
      ],
      "metadata": {
        "id": "bYHFytip74sK"
      }
    },
    {
      "cell_type": "code",
      "source": [
        "# Calculam media coloanei 'Nitrogen_ureic'\n",
        "mean_val= data_as_spark.select(mean(data_as_spark['Nitrogen_ureic'])).collect()\n",
        "mean_val\n",
        "#Afisam valoarea medie a coloanei 'Nitrogen_ureic'\n",
        "mean_val[0][0]\n",
        "#Modificam valorile de null\n",
        "data_as_spark = data_as_spark.withColumn(\"Nitrogen_ureic\",when(data_as_spark.Nitrogen_ureic == \"null\",mean_val[0][0]).otherwise(data_as_spark.Nitrogen_ureic))\n",
        "data_as_spark.createOrReplaceTempView(\"dataset\")\n",
        "sql_results_data_as_spark = spark.sql(\"select Sex,Nitrogen_ureic,Depresie from dataset\")\n",
        "sql_results_data_as_spark.show()"
      ],
      "metadata": {
        "colab": {
          "base_uri": "https://localhost:8080/"
        },
        "id": "29grPcM875kc",
        "outputId": "8ba52f33-9ba2-4d09-d8e3-512cdfba962f"
      },
      "execution_count": null,
      "outputs": [
        {
          "output_type": "stream",
          "name": "stdout",
          "text": [
            "+------+--------------+--------+\n",
            "|   Sex|Nitrogen_ureic|Depresie|\n",
            "+------+--------------+--------+\n",
            "|Female|            50|      nu|\n",
            "|  Male|   20.33333333|      nu|\n",
            "|  Male|   33.85714286|      nu|\n",
            "|  Male|   15.28571429|      nu|\n",
            "|  Male|            43|      nu|\n",
            "|Female|        26.625|      nu|\n",
            "|Female|   109.1333333|      nu|\n",
            "|  Male|   16.71428571|      nu|\n",
            "|  Male|   79.73684211|      nu|\n",
            "|Female|          35.5|      nu|\n",
            "|  Male|          22.9|      nu|\n",
            "|  Male|   11.33333333|      nu|\n",
            "|  Male|          14.2|      nu|\n",
            "|Female|          29.6|      nu|\n",
            "|  Male|   19.28571429|      nu|\n",
            "|  Male|   59.83333333|      nu|\n",
            "|  Male|          54.7|      nu|\n",
            "|  Male|   36.58333333|      da|\n",
            "|  Male|            11|      nu|\n",
            "|  Male|           9.4|      nu|\n",
            "+------+--------------+--------+\n",
            "only showing top 20 rows\n",
            "\n"
          ]
        }
      ]
    },
    {
      "cell_type": "markdown",
      "source": [
        "## Processing of the column 'Glucoza' values "
      ],
      "metadata": {
        "id": "6FkwCFWD79BY"
      }
    },
    {
      "cell_type": "code",
      "source": [
        "# Calculam media coloanei 'Glucoza'\n",
        "mean_val= data_as_spark.select(mean(data_as_spark['Glucoza'])).collect()\n",
        "mean_val\n",
        "#Afisam valoarea medie a coloanei 'Glucoza'\n",
        "mean_val[0][0]\n",
        "#Modificam valorile de null\n",
        "data_as_spark = data_as_spark.withColumn(\"Glucoza\",when(data_as_spark.Glucoza == \"null\",mean_val[0][0]).otherwise(data_as_spark.Glucoza))\n",
        "data_as_spark.createOrReplaceTempView(\"dataset\")\n",
        "sql_results_data_as_spark = spark.sql(\"select Sex,Glucoza,Depresie from dataset\")\n",
        "sql_results_data_as_spark.show()"
      ],
      "metadata": {
        "colab": {
          "base_uri": "https://localhost:8080/"
        },
        "id": "vd86PjbJ7_MC",
        "outputId": "ef1a147c-0966-4735-93e6-76fed2748657"
      },
      "execution_count": null,
      "outputs": [
        {
          "output_type": "stream",
          "name": "stdout",
          "text": [
            "+------+-----------+--------+\n",
            "|   Sex|    Glucoza|Depresie|\n",
            "+------+-----------+--------+\n",
            "|Female|114.6363636|      nu|\n",
            "|  Male|      147.5|      nu|\n",
            "|  Male|        149|      nu|\n",
            "|  Male|     128.25|      nu|\n",
            "|  Male|     145.75|      nu|\n",
            "|Female|98.33333333|      nu|\n",
            "|Female|      105.6|      nu|\n",
            "|  Male|      147.8|      nu|\n",
            "|  Male|98.42857143|      nu|\n",
            "|Female|74.16666667|      nu|\n",
            "|  Male|119.5714286|      nu|\n",
            "|  Male|111.6666667|      nu|\n",
            "|  Male|        130|      nu|\n",
            "|Female|      119.4|      nu|\n",
            "|  Male|      120.5|      nu|\n",
            "|  Male|      182.4|      nu|\n",
            "|  Male|        134|      nu|\n",
            "|  Male|      143.8|      da|\n",
            "|  Male|128.2857143|      nu|\n",
            "|  Male|         75|      nu|\n",
            "+------+-----------+--------+\n",
            "only showing top 20 rows\n",
            "\n"
          ]
        }
      ]
    },
    {
      "cell_type": "markdown",
      "source": [
        "## Processing of the column 'Potasiu_din_sange' values "
      ],
      "metadata": {
        "id": "x-YRIkIk8DSw"
      }
    },
    {
      "cell_type": "code",
      "source": [
        "# Calculam media coloanei 'Potasiu_din_sange'\n",
        "mean_val= data_as_spark.select(mean(data_as_spark['Potasiu_din_sange'])).collect()\n",
        "mean_val\n",
        "#Afisam valoarea medie a coloanei 'Potasiu_din_sange'\n",
        "mean_val[0][0]\n",
        "#Modificam valorile de null\n",
        "data_as_spark = data_as_spark.withColumn(\"Potasiu_din_sange\",when(data_as_spark.Potasiu_din_sange == \"null\",mean_val[0][0]).otherwise(data_as_spark.Potasiu_din_sange))\n",
        "data_as_spark.createOrReplaceTempView(\"dataset\")\n",
        "sql_results_data_as_spark = spark.sql(\"select Sex,Potasiu_din_sange,Depresie from dataset\")\n",
        "sql_results_data_as_spark.show()"
      ],
      "metadata": {
        "colab": {
          "base_uri": "https://localhost:8080/"
        },
        "id": "QID1-EQC8D2G",
        "outputId": "cf940a09-e4ea-45c9-ef5c-209e567222f1"
      },
      "execution_count": null,
      "outputs": [
        {
          "output_type": "stream",
          "name": "stdout",
          "text": [
            "+------+-----------------+--------+\n",
            "|   Sex|Potasiu_din_sange|Depresie|\n",
            "+------+-----------------+--------+\n",
            "|Female|      4.816666667|      nu|\n",
            "|  Male|             4.45|      nu|\n",
            "|  Male|            5.825|      nu|\n",
            "|  Male|      4.386666667|      nu|\n",
            "|  Male|      4.783333333|      nu|\n",
            "|Female|            4.075|      nu|\n",
            "|Female|      4.606666667|      nu|\n",
            "|  Male|           4.2375|      nu|\n",
            "|  Male|      4.718181818|      nu|\n",
            "|Female|             3.87|      nu|\n",
            "|  Male|      4.409090909|      nu|\n",
            "|  Male|      4.033333333|      nu|\n",
            "|  Male|             3.88|      nu|\n",
            "|Female|             4.34|      nu|\n",
            "|  Male|      3.971428571|      nu|\n",
            "|  Male|      4.685714286|      nu|\n",
            "|  Male|      4.790909091|      nu|\n",
            "|  Male|              4.6|      da|\n",
            "|  Male|              5.3|      nu|\n",
            "|  Male|                4|      nu|\n",
            "+------+-----------------+--------+\n",
            "only showing top 20 rows\n",
            "\n"
          ]
        }
      ]
    },
    {
      "cell_type": "markdown",
      "source": [
        "## Processing of the column 'Sodiu_din_sange' values "
      ],
      "metadata": {
        "id": "fGMz9xpp8IqD"
      }
    },
    {
      "cell_type": "code",
      "source": [
        "# Calculam media coloanei 'Sodiu_din_sange'\n",
        "mean_val= data_as_spark.select(mean(data_as_spark['Sodiu_din_sange'])).collect()\n",
        "mean_val\n",
        "#Afisam valoarea medie a coloanei 'Sodiu_din_sange'\n",
        "mean_val[0][0]\n",
        "#Modificam valorile de null\n",
        "data_as_spark = data_as_spark.withColumn(\"Sodiu_din_sange\",when(data_as_spark.Sodiu_din_sange == \"null\",mean_val[0][0]).otherwise(data_as_spark.Sodiu_din_sange))\n",
        "data_as_spark.createOrReplaceTempView(\"dataset\")\n",
        "sql_results_data_as_spark = spark.sql(\"select Sex,Sodiu_din_sange,Depresie from dataset\")\n",
        "sql_results_data_as_spark.show()"
      ],
      "metadata": {
        "colab": {
          "base_uri": "https://localhost:8080/"
        },
        "id": "5yFgSJmT8JUq",
        "outputId": "c9b934c2-7679-4559-fe1d-b8241ea41272"
      },
      "execution_count": null,
      "outputs": [
        {
          "output_type": "stream",
          "name": "stdout",
          "text": [
            "+------+---------------+--------+\n",
            "|   Sex|Sodiu_din_sange|Depresie|\n",
            "+------+---------------+--------+\n",
            "|Female|         138.75|      nu|\n",
            "|  Male|    138.8888889|      nu|\n",
            "|  Male|    140.7142857|      nu|\n",
            "|  Male|          138.5|      nu|\n",
            "|  Male|    136.6666667|      nu|\n",
            "|Female|         136.25|      nu|\n",
            "|Female|    144.1333333|      nu|\n",
            "|  Male|            140|      nu|\n",
            "|  Male|    141.0909091|      nu|\n",
            "|Female|          142.3|      nu|\n",
            "|  Male|    140.2727273|      nu|\n",
            "|  Male|    140.3333333|      nu|\n",
            "|  Male|          141.7|      nu|\n",
            "|Female|          137.9|      nu|\n",
            "|  Male|    145.4285714|      nu|\n",
            "|  Male|    139.1428571|      nu|\n",
            "|  Male|    132.8181818|      nu|\n",
            "|  Male|    135.8333333|      da|\n",
            "|  Male|    136.6363636|      nu|\n",
            "|  Male|    137.7777778|      nu|\n",
            "+------+---------------+--------+\n",
            "only showing top 20 rows\n",
            "\n"
          ]
        }
      ]
    },
    {
      "cell_type": "markdown",
      "source": [
        "## Processing of the column 'Calciu_din_sange' values "
      ],
      "metadata": {
        "id": "mAVLu3DW8Mkn"
      }
    },
    {
      "cell_type": "code",
      "source": [
        "# Calculam media coloanei 'Calciu_din_sange'\n",
        "mean_val= data_as_spark.select(mean(data_as_spark['Calciu_din_sange'])).collect()\n",
        "mean_val\n",
        "#Afisam valoarea medie a coloanei 'Calciu_din_sange'\n",
        "mean_val[0][0]\n",
        "#Modificam valorile de null\n",
        "data_as_spark = data_as_spark.withColumn(\"Calciu_din_sange\",when(data_as_spark.Calciu_din_sange == \"null\",mean_val[0][0]).otherwise(data_as_spark.Calciu_din_sange))\n",
        "data_as_spark.createOrReplaceTempView(\"dataset\")\n",
        "sql_results_data_as_spark = spark.sql(\"select Sex,Calciu_din_sange,Depresie from dataset\")\n",
        "sql_results_data_as_spark.show()"
      ],
      "metadata": {
        "colab": {
          "base_uri": "https://localhost:8080/"
        },
        "id": "X1bNdEDg8NPS",
        "outputId": "05139ae4-1ce0-4a28-b174-ee3eff20fcf1"
      },
      "execution_count": null,
      "outputs": [
        {
          "output_type": "stream",
          "name": "stdout",
          "text": [
            "+------+----------------+--------+\n",
            "|   Sex|Calciu_din_sange|Depresie|\n",
            "+------+----------------+--------+\n",
            "|Female|     7.463636364|      nu|\n",
            "|  Male|          8.1625|      nu|\n",
            "|  Male|     8.266666667|      nu|\n",
            "|  Male|     9.476923077|      nu|\n",
            "|  Male|     8.733333333|      nu|\n",
            "|Female|     8.466666667|      nu|\n",
            "|Female|           8.775|      nu|\n",
            "|  Male|     9.171428571|      nu|\n",
            "|  Male|         9.44375|      nu|\n",
            "|Female|            8.15|      nu|\n",
            "|  Male|            8.45|      nu|\n",
            "|  Male|             9.1|      nu|\n",
            "|  Male|     8.233333333|      nu|\n",
            "|Female|     8.716666667|      nu|\n",
            "|  Male|            9.22|      nu|\n",
            "|  Male|            9.02|      nu|\n",
            "|  Male|     8.888888889|      nu|\n",
            "|  Male|             7.7|      da|\n",
            "|  Male|     8.814285714|      nu|\n",
            "|  Male|     8.566666667|      nu|\n",
            "+------+----------------+--------+\n",
            "only showing top 20 rows\n",
            "\n"
          ]
        }
      ]
    },
    {
      "cell_type": "markdown",
      "source": [
        "## Processing of the column 'Clorura' values "
      ],
      "metadata": {
        "id": "tmS9V4Up8Ytu"
      }
    },
    {
      "cell_type": "code",
      "source": [
        "# Calculam media coloanei 'Clorura'\n",
        "mean_val= data_as_spark.select(mean(data_as_spark['Clorura'])).collect()\n",
        "mean_val\n",
        "#Afisam valoarea medie a coloanei 'Clorura'\n",
        "mean_val[0][0]\n",
        "#Modificam valorile de null\n",
        "data_as_spark = data_as_spark.withColumn(\"Clorura\",when(data_as_spark.Clorura == \"null\",mean_val[0][0]).otherwise(data_as_spark.Clorura))\n",
        "data_as_spark.createOrReplaceTempView(\"dataset\")\n",
        "sql_results_data_as_spark = spark.sql(\"select Sex,Clorura,Depresie from dataset\")\n",
        "sql_results_data_as_spark.show()"
      ],
      "metadata": {
        "colab": {
          "base_uri": "https://localhost:8080/"
        },
        "id": "sZETRDmf8aPa",
        "outputId": "d6b19838-394b-42fe-e9be-93813716a353"
      },
      "execution_count": null,
      "outputs": [
        {
          "output_type": "stream",
          "name": "stdout",
          "text": [
            "+------+-----------+--------+\n",
            "|   Sex|    Clorura|Depresie|\n",
            "+------+-----------+--------+\n",
            "|Female|109.1666667|      nu|\n",
            "|  Male|98.44444444|      nu|\n",
            "|  Male|105.8571429|      nu|\n",
            "|  Male|92.07142857|      nu|\n",
            "|  Male|      104.5|      nu|\n",
            "|Female|      96.75|      nu|\n",
            "|Female|106.6666667|      nu|\n",
            "|  Male|     104.25|      nu|\n",
            "|  Male|103.1818182|      nu|\n",
            "|Female|       97.6|      nu|\n",
            "|  Male|      108.4|      nu|\n",
            "|  Male|107.6666667|      nu|\n",
            "|  Male|      100.2|      nu|\n",
            "|Female|      102.4|      nu|\n",
            "|  Male|94.57142857|      nu|\n",
            "|  Male|106.7142857|      nu|\n",
            "|  Male|       94.7|      nu|\n",
            "|  Male|     110.75|      da|\n",
            "|  Male|92.72727273|      nu|\n",
            "|  Male|98.77777778|      nu|\n",
            "+------+-----------+--------+\n",
            "only showing top 20 rows\n",
            "\n"
          ]
        }
      ]
    },
    {
      "cell_type": "markdown",
      "source": [
        "##  Processing of the column 'Interval_anionic' values "
      ],
      "metadata": {
        "id": "ljjl6XmO8eRw"
      }
    },
    {
      "cell_type": "code",
      "source": [
        "# Calculam media coloanei 'Interval_anionic'\n",
        "mean_val= data_as_spark.select(mean(data_as_spark['Interval_anionic'])).collect()\n",
        "mean_val\n",
        "#Afisam valoarea medie a coloanei 'Interval_anionic'\n",
        "mean_val[0][0]\n",
        "#Modificam valorile de null\n",
        "data_as_spark = data_as_spark.withColumn(\"Interval_anionic\",when(data_as_spark.Interval_anionic == \"null\",mean_val[0][0]).otherwise(data_as_spark.Interval_anionic))\n",
        "data_as_spark.createOrReplaceTempView(\"dataset\")\n",
        "sql_results_data_as_spark = spark.sql(\"select Sex,Interval_anionic,Depresie from dataset\")\n",
        "sql_results_data_as_spark.show()"
      ],
      "metadata": {
        "colab": {
          "base_uri": "https://localhost:8080/"
        },
        "id": "IFXnkU9n8e-f",
        "outputId": "ce3e8fcb-0863-4907-e2b4-e905568217ee"
      },
      "execution_count": null,
      "outputs": [
        {
          "output_type": "stream",
          "name": "stdout",
          "text": [
            "+------+----------------+--------+\n",
            "|   Sex|Interval_anionic|Depresie|\n",
            "+------+----------------+--------+\n",
            "|Female|     13.16666667|      nu|\n",
            "|  Male|     11.44444444|      nu|\n",
            "|  Male|              10|      nu|\n",
            "|  Male|     12.35714286|      nu|\n",
            "|  Male|     15.16666667|      nu|\n",
            "|Female|          13.125|      nu|\n",
            "|Female|            15.2|      nu|\n",
            "|  Male|     12.57142857|      nu|\n",
            "|  Male|     16.86363636|      nu|\n",
            "|Female|              12|      nu|\n",
            "|  Male|            13.6|      nu|\n",
            "|  Male|              13|      nu|\n",
            "|  Male|              10|      nu|\n",
            "|Female|            13.3|      nu|\n",
            "|  Male|              10|      nu|\n",
            "|  Male|            14.5|      nu|\n",
            "|  Male|            14.5|      nu|\n",
            "|  Male|            14.5|      da|\n",
            "|  Male|     11.90909091|      nu|\n",
            "|  Male|     13.22222222|      nu|\n",
            "+------+----------------+--------+\n",
            "only showing top 20 rows\n",
            "\n"
          ]
        }
      ]
    },
    {
      "cell_type": "markdown",
      "source": [
        "## Processing of the column 'Ioni_de_magneziu' values "
      ],
      "metadata": {
        "id": "RS2fFZzF8jHj"
      }
    },
    {
      "cell_type": "code",
      "source": [
        "# Calculam media coloanei 'Ioni_de_magneziu'\n",
        "mean_val= data_as_spark.select(mean(data_as_spark['Ioni_de_magneziu'])).collect()\n",
        "mean_val\n",
        "#Afisam valoarea medie a coloanei 'Ioni_de_magneziu'\n",
        "mean_val[0][0]\n",
        "#Modificam valorile de null\n",
        "data_as_spark = data_as_spark.withColumn(\"Ioni_de_magneziu\",when(data_as_spark.Ioni_de_magneziu == \"null\",mean_val[0][0]).otherwise(data_as_spark.Ioni_de_magneziu))\n",
        "data_as_spark.createOrReplaceTempView(\"dataset\")\n",
        "sql_results_data_as_spark = spark.sql(\"select Sex,Ioni_de_magneziu,Depresie from dataset\")\n",
        "sql_results_data_as_spark.show()"
      ],
      "metadata": {
        "colab": {
          "base_uri": "https://localhost:8080/"
        },
        "id": "ND26Ltc18jtn",
        "outputId": "ad76f4b4-a697-4978-9d9e-abd4e6c5c8e2"
      },
      "execution_count": null,
      "outputs": [
        {
          "output_type": "stream",
          "name": "stdout",
          "text": [
            "+------+----------------+--------+\n",
            "|   Sex|Ioni_de_magneziu|Depresie|\n",
            "+------+----------------+--------+\n",
            "|Female|     2.618181818|      nu|\n",
            "|  Male|          1.8875|      nu|\n",
            "|  Male|     2.157142857|      nu|\n",
            "|  Male|     1.942857143|      nu|\n",
            "|  Male|            1.65|      nu|\n",
            "|Female|     1.771428571|      nu|\n",
            "|Female|           1.875|      nu|\n",
            "|  Male|          2.1875|      nu|\n",
            "|  Male|     2.035294118|      nu|\n",
            "|Female|             2.2|      nu|\n",
            "|  Male|     1.763636364|      nu|\n",
            "|  Male|     2.166666667|      nu|\n",
            "|  Male|            1.95|      nu|\n",
            "|Female|            2.35|      nu|\n",
            "|  Male|            2.06|      nu|\n",
            "|  Male|     2.383333333|      nu|\n",
            "|  Male|     2.055555556|      nu|\n",
            "|  Male|     2.245454545|      da|\n",
            "|  Male|     1.944444444|      nu|\n",
            "|  Male|     1.977777778|      nu|\n",
            "+------+----------------+--------+\n",
            "only showing top 20 rows\n",
            "\n"
          ]
        }
      ]
    },
    {
      "cell_type": "markdown",
      "source": [
        "## Processing of the column 'Concentratia_ionilor_de_oxigen' values "
      ],
      "metadata": {
        "id": "8I70NzwW8nMe"
      }
    },
    {
      "cell_type": "code",
      "source": [
        "# Calculam media coloanei 'Concentratia_ionilor_de_oxigen'\n",
        "mean_val= data_as_spark.select(mean(data_as_spark['Concentratia_ionilor_de_oxigen'])).collect()\n",
        "mean_val\n",
        "#Afisam valoarea medie a coloanei 'Concentratia_ionilor_de_oxigen'\n",
        "mean_val[0][0]\n",
        "#Modificam valorile de null\n",
        "data_as_spark = data_as_spark.withColumn(\"Concentratia_ionilor_de_oxigen\",when(data_as_spark.Concentratia_ionilor_de_oxigen == \"null\",mean_val[0][0]).otherwise(data_as_spark.Concentratia_ionilor_de_oxigen))\n",
        "data_as_spark.createOrReplaceTempView(\"dataset\")\n",
        "sql_results_data_as_spark = spark.sql(\"select Sex,Concentratia_ionilor_de_oxigen,Depresie from dataset\")\n",
        "sql_results_data_as_spark.show(7)"
      ],
      "metadata": {
        "colab": {
          "base_uri": "https://localhost:8080/"
        },
        "id": "gHixJ0C88oJt",
        "outputId": "69598b6f-08f5-4a14-9851-0dbce353bb38"
      },
      "execution_count": null,
      "outputs": [
        {
          "output_type": "stream",
          "name": "stdout",
          "text": [
            "+------+------------------------------+--------+\n",
            "|   Sex|Concentratia_ionilor_de_oxigen|Depresie|\n",
            "+------+------------------------------+--------+\n",
            "|Female|                          7.23|      nu|\n",
            "|  Male|                         7.225|      nu|\n",
            "|  Male|                         7.268|      nu|\n",
            "|  Male|                          7.37|      nu|\n",
            "|  Male|                          7.25|      nu|\n",
            "|Female|                          7.31|      nu|\n",
            "|Female|                   7.169230769|      nu|\n",
            "+------+------------------------------+--------+\n",
            "only showing top 7 rows\n",
            "\n"
          ]
        }
      ]
    },
    {
      "cell_type": "markdown",
      "source": [
        "## Processing of the column 'Bicarbote' values "
      ],
      "metadata": {
        "id": "WVGLhMFk8tZu"
      }
    },
    {
      "cell_type": "code",
      "source": [
        "# Calculam media coloanei 'Bicarbote'\n",
        "mean_val= data_as_spark.select(mean(data_as_spark['Bicarbote'])).collect()\n",
        "mean_val\n",
        "#Afisam valoarea medie a coloanei 'Bicarbote'\n",
        "mean_val[0][0]\n",
        "#Modificam valorile de null\n",
        "data_as_spark = data_as_spark.withColumn(\"Bicarbote\",when(data_as_spark.Bicarbote == \"null\",mean_val[0][0]).otherwise(data_as_spark.Bicarbote))\n",
        "data_as_spark.createOrReplaceTempView(\"dataset\")\n",
        "sql_results_data_as_spark = spark.sql(\"select Sex,Bicarbote,Depresie from dataset\")\n",
        "sql_results_data_as_spark.show(7)"
      ],
      "metadata": {
        "colab": {
          "base_uri": "https://localhost:8080/"
        },
        "id": "Nvhj9F3Y8uC3",
        "outputId": "d0626665-e881-458b-ca63-192e62f765df"
      },
      "execution_count": null,
      "outputs": [
        {
          "output_type": "stream",
          "name": "stdout",
          "text": [
            "+------+-----------+--------+\n",
            "|   Sex|  Bicarbote|Depresie|\n",
            "+------+-----------+--------+\n",
            "|Female|21.16666667|      nu|\n",
            "|  Male|33.44444444|      nu|\n",
            "|  Male|30.57142857|      nu|\n",
            "|  Male|38.57142857|      nu|\n",
            "|  Male|         22|      nu|\n",
            "|Female|       30.5|      nu|\n",
            "|Female|       26.8|      nu|\n",
            "+------+-----------+--------+\n",
            "only showing top 7 rows\n",
            "\n"
          ]
        }
      ]
    },
    {
      "cell_type": "markdown",
      "source": [
        "## Processing of the column 'Acid_lactic' values "
      ],
      "metadata": {
        "id": "HqQTHj_Y8xQv"
      }
    },
    {
      "cell_type": "code",
      "source": [
        "# Calculam media coloanei 'Acid_lactic'\n",
        "mean_val= data_as_spark.select(mean(data_as_spark['Acid_lactic'])).collect()\n",
        "mean_val\n",
        "#Afisam valoarea medie a coloanei 'Acid_lactic'\n",
        "mean_val[0][0]\n",
        "#Modificam valorile de null\n",
        "data_as_spark = data_as_spark.withColumn(\"Acid_lactic\",when(data_as_spark.Acid_lactic == \"null\",mean_val[0][0]).otherwise(data_as_spark.Acid_lactic))\n",
        "data_as_spark.createOrReplaceTempView(\"dataset\")\n",
        "sql_results_data_as_spark = spark.sql(\"select Sex,Acid_lactic,Depresie from dataset\")\n",
        "sql_results_data_as_spark.show(7)"
      ],
      "metadata": {
        "colab": {
          "base_uri": "https://localhost:8080/"
        },
        "id": "yrty3M4H8zcf",
        "outputId": "909aa3d7-764c-45b0-90f9-14a972f57303"
      },
      "execution_count": null,
      "outputs": [
        {
          "output_type": "stream",
          "name": "stdout",
          "text": [
            "+------+-----------+--------+\n",
            "|   Sex|Acid_lactic|Depresie|\n",
            "+------+-----------+--------+\n",
            "|Female|        0.5|      nu|\n",
            "|  Male|        0.5|      nu|\n",
            "|  Male|        0.5|      nu|\n",
            "|  Male|        0.6|      nu|\n",
            "|  Male|        0.6|      nu|\n",
            "|Female|        0.6|      nu|\n",
            "|Female|      0.625|      nu|\n",
            "+------+-----------+--------+\n",
            "only showing top 7 rows\n",
            "\n"
          ]
        }
      ]
    },
    {
      "cell_type": "markdown",
      "source": [
        "## Processing of the column 'Presiunea_partiala_a_dioxidului_de_carbon' values "
      ],
      "metadata": {
        "id": "WjrWSTpw83Kc"
      }
    },
    {
      "cell_type": "code",
      "source": [
        "# Calculam media coloanei 'Presiunea_partiala_a_dioxidului_de_carbon'\n",
        "mean_val= data_as_spark.select(mean(data_as_spark['Presiunea_partiala_a_dioxidului_de_carbon'])).collect()\n",
        "mean_val\n",
        "#Afisam valoarea medie a coloanei 'Presiunea_partiala_a_dioxidului_de_carbon'\n",
        "mean_val[0][0]\n",
        "#Modificam valorile de null\n",
        "data_as_spark = data_as_spark.withColumn(\"Presiunea_partiala_a_dioxidului_de_carbon\",when(data_as_spark.Presiunea_partiala_a_dioxidului_de_carbon == \"null\",mean_val[0][0]).otherwise(data_as_spark.Presiunea_partiala_a_dioxidului_de_carbon))\n",
        "data_as_spark.createOrReplaceTempView(\"dataset\")\n",
        "sql_results_data_as_spark = spark.sql(\"select Sex,Presiunea_partiala_a_dioxidului_de_carbon,Depresie from dataset\")\n",
        "sql_results_data_as_spark.show(7)"
      ],
      "metadata": {
        "colab": {
          "base_uri": "https://localhost:8080/"
        },
        "id": "0klf56Tb87KV",
        "outputId": "5a336529-86af-46fc-f7ba-c26bdd194d98"
      },
      "execution_count": null,
      "outputs": [
        {
          "output_type": "stream",
          "name": "stdout",
          "text": [
            "+------+-----------------------------------------+--------+\n",
            "|   Sex|Presiunea_partiala_a_dioxidului_de_carbon|Depresie|\n",
            "+------+-----------------------------------------+--------+\n",
            "|Female|                                       40|      nu|\n",
            "|  Male|                                       78|      nu|\n",
            "|  Male|                                     71.5|      nu|\n",
            "|  Male|                                       75|      nu|\n",
            "|  Male|                                       50|      nu|\n",
            "|Female|                                     65.5|      nu|\n",
            "|Female|                              69.76923077|      nu|\n",
            "+------+-----------------------------------------+--------+\n",
            "only showing top 7 rows\n",
            "\n"
          ]
        }
      ]
    },
    {
      "cell_type": "markdown",
      "source": [
        "## Processing of the column 'Fractie_de_eliminare' values "
      ],
      "metadata": {
        "id": "JEV3AMqU9A4j"
      }
    },
    {
      "cell_type": "code",
      "source": [
        "# Calculam media coloanei 'Fractie_de_eliminare'\n",
        "mean_val= data_as_spark.select(mean(data_as_spark['Fractie_de_eliminare'])).collect()\n",
        "mean_val\n",
        "#Afisam valoarea medie a coloanei 'Fractie_de_eliminare'\n",
        "mean_val[0][0]\n",
        "#Modificam valorile de null\n",
        "data_as_spark = data_as_spark.withColumn(\"Fractie_de_eliminare\",when(data_as_spark.Fractie_de_eliminare == \"null\",mean_val[0][0]).otherwise(data_as_spark.Fractie_de_eliminare))\n",
        "data_as_spark.createOrReplaceTempView(\"dataset\")\n",
        "sql_results_data_as_spark = spark.sql(\"select Sex,Fractie_de_eliminare,Depresie from dataset\")\n",
        "sql_results_data_as_spark.show(7)"
      ],
      "metadata": {
        "colab": {
          "base_uri": "https://localhost:8080/"
        },
        "id": "TIvoKY3u9Bpj",
        "outputId": "890ac18f-ced5-46a5-b0b3-e4d0422c6ff8"
      },
      "execution_count": null,
      "outputs": [
        {
          "output_type": "stream",
          "name": "stdout",
          "text": [
            "+------+--------------------+--------+\n",
            "|   Sex|Fractie_de_eliminare|Depresie|\n",
            "+------+--------------------+--------+\n",
            "|Female|                  55|      nu|\n",
            "|  Male|                  55|      nu|\n",
            "|  Male|                  35|      nu|\n",
            "|  Male|                  55|      nu|\n",
            "|  Male|                  55|      nu|\n",
            "|Female|                  35|      nu|\n",
            "|Female|                  55|      nu|\n",
            "+------+--------------------+--------+\n",
            "only showing top 7 rows\n",
            "\n"
          ]
        }
      ]
    },
    {
      "cell_type": "markdown",
      "source": [
        "#### Following these changes that we made, all the columns that contain numeric values no longer contain null values. Next, we will transform the remaining null values in the columns that do not contain numeric values into strings of the form \" \" to be able to use the function that will delete our rows with null values. The column we still have to modify is Status, which still contains 2 null values."
      ],
      "metadata": {
        "id": "Tl_BP_VH9E8g"
      }
    },
    {
      "cell_type": "code",
      "source": [
        "data_as_spark = data_as_spark.withColumn(\"Stare\",when(data_as_spark.Stare == \"null\",\"\").otherwise(data_as_spark.Stare))"
      ],
      "metadata": {
        "id": "9lXIsUAplVds"
      },
      "execution_count": null,
      "outputs": []
    },
    {
      "cell_type": "markdown",
      "source": [
        "### Delete rows that contains \"\" type of strings "
      ],
      "metadata": {
        "id": "MNJVYIUzlafa"
      }
    },
    {
      "cell_type": "code",
      "source": [
        "data_as_spark=data_as_spark.where(data_as_spark.Stare !=\"\")"
      ],
      "metadata": {
        "id": "df0m15Vxld1J"
      },
      "execution_count": null,
      "outputs": []
    },
    {
      "cell_type": "markdown",
      "source": [
        "#### In the next cell, we find the number of lines in my chosen data set after all the changes made. According to its output, the solution I chose to manage the null values of the dataframe proved to be effective."
      ],
      "metadata": {
        "id": "q7Aaghv8ln9b"
      }
    },
    {
      "cell_type": "code",
      "source": [
        "data_as_spark.count()"
      ],
      "metadata": {
        "colab": {
          "base_uri": "https://localhost:8080/"
        },
        "id": "Da-zZnEXlunh",
        "outputId": "1b839cfa-e6da-4b3a-bb9e-835c3a4e1243"
      },
      "execution_count": null,
      "outputs": [
        {
          "output_type": "execute_result",
          "data": {
            "text/plain": [
              "8232"
            ]
          },
          "metadata": {},
          "execution_count": 129
        }
      ]
    },
    {
      "cell_type": "markdown",
      "source": [
        "#### After analyzing the results obtained, the Group column contains 2 values, namely 1 and 2. These values are not favorable to the results we are looking for. As a result, we will delete this column from our data set."
      ],
      "metadata": {
        "id": "VF2g5GQmmO3v"
      }
    },
    {
      "cell_type": "code",
      "source": [
        "data_as_spark= data_as_spark.drop(\"Grup\")"
      ],
      "metadata": {
        "id": "YTqLPpXkmSsF"
      },
      "execution_count": null,
      "outputs": []
    },
    {
      "cell_type": "markdown",
      "source": [
        "### Transform Pyspark Dataframe to Pandas Dataframe"
      ],
      "metadata": {
        "id": "ArTffd4kmWPr"
      }
    },
    {
      "cell_type": "code",
      "source": [
        "data_as_csv = data_as_spark.toPandas()"
      ],
      "metadata": {
        "id": "uRM8t-WbmZIP"
      },
      "execution_count": null,
      "outputs": []
    },
    {
      "cell_type": "markdown",
      "source": [
        "### Saving the processed dataset "
      ],
      "metadata": {
        "id": "GuA3KM2Omdzo"
      }
    },
    {
      "cell_type": "code",
      "source": [
        "data_as_csv.to_csv('processed_data.csv',index=None)"
      ],
      "metadata": {
        "id": "NOK2QbUomilZ"
      },
      "execution_count": null,
      "outputs": []
    },
    {
      "cell_type": "markdown",
      "source": [
        "## Visualization of dataset using matplotlib and seaborn library"
      ],
      "metadata": {
        "id": "sQ_80-cymv_f"
      }
    },
    {
      "cell_type": "markdown",
      "source": [
        "We will create 2 sets of data that will help us visualize the data. The following data set will help us visualize the initial data. Certain particularities from the initial data set can help us to plot the essential results depending on the case"
      ],
      "metadata": {
        "id": "1rBsTqknmymm"
      }
    },
    {
      "cell_type": "code",
      "source": [
        "data_as_csv_1 = data_as_spark_1.toPandas()"
      ],
      "metadata": {
        "id": "58nVzdyhm5kd"
      },
      "execution_count": null,
      "outputs": []
    },
    {
      "cell_type": "markdown",
      "source": [
        "A first thing that we can visualize using these 2 libraries are the results regarding the changes made above. The output of the next cell shows the initial data set that contained a very large series of missing data."
      ],
      "metadata": {
        "id": "kQG6v3XEnCh9"
      }
    },
    {
      "cell_type": "code",
      "source": [
        "plt.figure(figsize=(10, 10))\n",
        "sns.heatmap(data_as_csv_1.isnull(), cbar=False)"
      ],
      "metadata": {
        "colab": {
          "base_uri": "https://localhost:8080/",
          "height": 1000
        },
        "id": "jkgiEAqqnPi4",
        "outputId": "cdf21835-ca96-4da3-8cea-8aab5d7a71c4"
      },
      "execution_count": null,
      "outputs": [
        {
          "output_type": "execute_result",
          "data": {
            "text/plain": [
              "<Axes: >"
            ]
          },
          "metadata": {},
          "execution_count": 134
        },
        {
          "output_type": "display_data",
          "data": {
            "text/plain": [
              "<Figure size 1000x1000 with 1 Axes>"
            ],
            "image/png": "[encoded data removed]"
          },
          "metadata": {}
        }
      ]
    },
    {
      "cell_type": "markdown",
      "source": [
        "### Urmatorul output al celulei urmatoare ne prezinta rezultatele cu privire la completarea setului nostru de date"
      ],
      "metadata": {
        "id": "g9MsB5z2nY8u"
      }
    },
    {
      "cell_type": "code",
      "source": [
        "plt.figure(figsize=(10, 10))\n",
        "sns.heatmap(data_as_csv.isnull(), cbar=False)"
      ],
      "metadata": {
        "colab": {
          "base_uri": "https://localhost:8080/",
          "height": 1000
        },
        "id": "fsVM31tKnimy",
        "outputId": "3dd95119-e8d1-43e5-81fb-48f80726a59f"
      },
      "execution_count": null,
      "outputs": [
        {
          "output_type": "execute_result",
          "data": {
            "text/plain": [
              "<Axes: >"
            ]
          },
          "metadata": {},
          "execution_count": 135
        },
        {
          "output_type": "display_data",
          "data": {
            "text/plain": [
              "<Figure size 1000x1000 with 1 Axes>"
            ],
            "image/png": "[encoded data removed]"
          },
          "metadata": {}
        }
      ]
    },
    {
      "cell_type": "markdown",
      "source": [
        "### Descriere sumativa a datelor"
      ],
      "metadata": {
        "id": "fAYbis4Bntoo"
      }
    },
    {
      "cell_type": "code",
      "source": [
        "data_as_csv.describe().style.background_gradient(cmap = 'copper')"
      ],
      "metadata": {
        "colab": {
          "base_uri": "https://localhost:8080/",
          "height": 195
        },
        "id": "gek2hyynnv2R",
        "outputId": "5b2bce27-db33-44b0-af8c-318cf4b13bd6"
      },
      "execution_count": null,
      "outputs": [
        {
          "output_type": "execute_result",
          "data": {
            "text/plain": [
              "<pandas.io.formats.style.Styler at 0x7f4ecce42460>"
            ],
            "text/html": [
              "<style type=\"text/css\">\n",
              "</style>\n",
              "<table id=\"T_e7ad9\" class=\"dataframe\">\n",
              "  <thead>\n",
              "    <tr>\n",
              "      <th class=\"blank level0\" >&nbsp;</th>\n",
              "      <th id=\"T_e7ad9_level0_col0\" class=\"col_heading level0 col0\" >Numar</th>\n",
              "      <th id=\"T_e7ad9_level0_col1\" class=\"col_heading level0 col1\" >Data_deces/externare</th>\n",
              "      <th id=\"T_e7ad9_level0_col2\" class=\"col_heading level0 col2\" >Stare</th>\n",
              "      <th id=\"T_e7ad9_level0_col3\" class=\"col_heading level0 col3\" >Varsta</th>\n",
              "      <th id=\"T_e7ad9_level0_col4\" class=\"col_heading level0 col4\" >Sex</th>\n",
              "      <th id=\"T_e7ad9_level0_col5\" class=\"col_heading level0 col5\" >Indice_de_masa_corporala</th>\n",
              "      <th id=\"T_e7ad9_level0_col6\" class=\"col_heading level0 col6\" >Data_internarii</th>\n",
              "      <th id=\"T_e7ad9_level0_col7\" class=\"col_heading level0 col7\" >Hipertensiv</th>\n",
              "      <th id=\"T_e7ad9_level0_col8\" class=\"col_heading level0 col8\" >Fibrilatie_atriala</th>\n",
              "      <th id=\"T_e7ad9_level0_col9\" class=\"col_heading level0 col9\" >Boala_coronariana</th>\n",
              "      <th id=\"T_e7ad9_level0_col10\" class=\"col_heading level0 col10\" >Diabet</th>\n",
              "      <th id=\"T_e7ad9_level0_col11\" class=\"col_heading level0 col11\" >Anemii_deficitare</th>\n",
              "      <th id=\"T_e7ad9_level0_col12\" class=\"col_heading level0 col12\" >Depresie</th>\n",
              "      <th id=\"T_e7ad9_level0_col13\" class=\"col_heading level0 col13\" >Hiperlipemie</th>\n",
              "      <th id=\"T_e7ad9_level0_col14\" class=\"col_heading level0 col14\" >Insuficienta_renala</th>\n",
              "      <th id=\"T_e7ad9_level0_col15\" class=\"col_heading level0 col15\" >Boala_pulmonara_obstructiva_cronica</th>\n",
              "      <th id=\"T_e7ad9_level0_col16\" class=\"col_heading level0 col16\" >Frecventa_cardiaca</th>\n",
              "      <th id=\"T_e7ad9_level0_col17\" class=\"col_heading level0 col17\" >Tensiune_arteriala_sistolica</th>\n",
              "      <th id=\"T_e7ad9_level0_col18\" class=\"col_heading level0 col18\" >Tensiune_arteriala_diastolica</th>\n",
              "      <th id=\"T_e7ad9_level0_col19\" class=\"col_heading level0 col19\" >Frecventa_respiratorie</th>\n",
              "      <th id=\"T_e7ad9_level0_col20\" class=\"col_heading level0 col20\" >Temperatura</th>\n",
              "      <th id=\"T_e7ad9_level0_col21\" class=\"col_heading level0 col21\" >Saturatia_pulsului_de_oxigen</th>\n",
              "      <th id=\"T_e7ad9_level0_col22\" class=\"col_heading level0 col22\" >Urina</th>\n",
              "      <th id=\"T_e7ad9_level0_col23\" class=\"col_heading level0 col23\" >Volumul_celule_rosii_din_sange</th>\n",
              "      <th id=\"T_e7ad9_level0_col24\" class=\"col_heading level0 col24\" >Globule_rosii</th>\n",
              "      <th id=\"T_e7ad9_level0_col25\" class=\"col_heading level0 col25\" >Hemoglobina_corpusculara_medie</th>\n",
              "      <th id=\"T_e7ad9_level0_col26\" class=\"col_heading level0 col26\" >Concentratia_medie_a_hemoglobinei_corpusculare</th>\n",
              "      <th id=\"T_e7ad9_level0_col27\" class=\"col_heading level0 col27\" >Volumul_corpuscular_mediu</th>\n",
              "      <th id=\"T_e7ad9_level0_col28\" class=\"col_heading level0 col28\" >Latimea_distributiei_globulelor_rosii</th>\n",
              "      <th id=\"T_e7ad9_level0_col29\" class=\"col_heading level0 col29\" >Leucocite</th>\n",
              "      <th id=\"T_e7ad9_level0_col30\" class=\"col_heading level0 col30\" >Trombocite</th>\n",
              "      <th id=\"T_e7ad9_level0_col31\" class=\"col_heading level0 col31\" >Neurofile</th>\n",
              "      <th id=\"T_e7ad9_level0_col32\" class=\"col_heading level0 col32\" >Globule_albe</th>\n",
              "      <th id=\"T_e7ad9_level0_col33\" class=\"col_heading level0 col33\" >Limfocite</th>\n",
              "      <th id=\"T_e7ad9_level0_col34\" class=\"col_heading level0 col34\" >Timp_de_protrombina</th>\n",
              "      <th id=\"T_e7ad9_level0_col35\" class=\"col_heading level0 col35\" >Raport_internationalizat_normalizat</th>\n",
              "      <th id=\"T_e7ad9_level0_col36\" class=\"col_heading level0 col36\" >NT_proBNP</th>\n",
              "      <th id=\"T_e7ad9_level0_col37\" class=\"col_heading level0 col37\" >Creatin_kinaza</th>\n",
              "      <th id=\"T_e7ad9_level0_col38\" class=\"col_heading level0 col38\" >Creatina</th>\n",
              "      <th id=\"T_e7ad9_level0_col39\" class=\"col_heading level0 col39\" >Nitrogen_ureic</th>\n",
              "      <th id=\"T_e7ad9_level0_col40\" class=\"col_heading level0 col40\" >Glucoza</th>\n",
              "      <th id=\"T_e7ad9_level0_col41\" class=\"col_heading level0 col41\" >Potasiu_din_sange</th>\n",
              "      <th id=\"T_e7ad9_level0_col42\" class=\"col_heading level0 col42\" >Sodiu_din_sange</th>\n",
              "      <th id=\"T_e7ad9_level0_col43\" class=\"col_heading level0 col43\" >Calciu_din_sange</th>\n",
              "      <th id=\"T_e7ad9_level0_col44\" class=\"col_heading level0 col44\" >Clorura</th>\n",
              "      <th id=\"T_e7ad9_level0_col45\" class=\"col_heading level0 col45\" >Interval_anionic</th>\n",
              "      <th id=\"T_e7ad9_level0_col46\" class=\"col_heading level0 col46\" >Ioni_de_magneziu</th>\n",
              "      <th id=\"T_e7ad9_level0_col47\" class=\"col_heading level0 col47\" >Concentratia_ionilor_de_oxigen</th>\n",
              "      <th id=\"T_e7ad9_level0_col48\" class=\"col_heading level0 col48\" >Bicarbote</th>\n",
              "      <th id=\"T_e7ad9_level0_col49\" class=\"col_heading level0 col49\" >Acid_lactic</th>\n",
              "      <th id=\"T_e7ad9_level0_col50\" class=\"col_heading level0 col50\" >Presiunea_partiala_a_dioxidului_de_carbon</th>\n",
              "      <th id=\"T_e7ad9_level0_col51\" class=\"col_heading level0 col51\" >Fractie_de_eliminare</th>\n",
              "    </tr>\n",
              "  </thead>\n",
              "  <tbody>\n",
              "    <tr>\n",
              "      <th id=\"T_e7ad9_level0_row0\" class=\"row_heading level0 row0\" >count</th>\n",
              "      <td id=\"T_e7ad9_row0_col0\" class=\"data row0 col0\" >8232</td>\n",
              "      <td id=\"T_e7ad9_row0_col1\" class=\"data row0 col1\" >8232</td>\n",
              "      <td id=\"T_e7ad9_row0_col2\" class=\"data row0 col2\" >8232</td>\n",
              "      <td id=\"T_e7ad9_row0_col3\" class=\"data row0 col3\" >8232</td>\n",
              "      <td id=\"T_e7ad9_row0_col4\" class=\"data row0 col4\" >8232</td>\n",
              "      <td id=\"T_e7ad9_row0_col5\" class=\"data row0 col5\" >8232</td>\n",
              "      <td id=\"T_e7ad9_row0_col6\" class=\"data row0 col6\" >8232</td>\n",
              "      <td id=\"T_e7ad9_row0_col7\" class=\"data row0 col7\" >8232</td>\n",
              "      <td id=\"T_e7ad9_row0_col8\" class=\"data row0 col8\" >8232</td>\n",
              "      <td id=\"T_e7ad9_row0_col9\" class=\"data row0 col9\" >8232</td>\n",
              "      <td id=\"T_e7ad9_row0_col10\" class=\"data row0 col10\" >8232</td>\n",
              "      <td id=\"T_e7ad9_row0_col11\" class=\"data row0 col11\" >8232</td>\n",
              "      <td id=\"T_e7ad9_row0_col12\" class=\"data row0 col12\" >8232</td>\n",
              "      <td id=\"T_e7ad9_row0_col13\" class=\"data row0 col13\" >8232</td>\n",
              "      <td id=\"T_e7ad9_row0_col14\" class=\"data row0 col14\" >8232</td>\n",
              "      <td id=\"T_e7ad9_row0_col15\" class=\"data row0 col15\" >8232</td>\n",
              "      <td id=\"T_e7ad9_row0_col16\" class=\"data row0 col16\" >8232</td>\n",
              "      <td id=\"T_e7ad9_row0_col17\" class=\"data row0 col17\" >8232</td>\n",
              "      <td id=\"T_e7ad9_row0_col18\" class=\"data row0 col18\" >8232</td>\n",
              "      <td id=\"T_e7ad9_row0_col19\" class=\"data row0 col19\" >8232</td>\n",
              "      <td id=\"T_e7ad9_row0_col20\" class=\"data row0 col20\" >8232</td>\n",
              "      <td id=\"T_e7ad9_row0_col21\" class=\"data row0 col21\" >8232</td>\n",
              "      <td id=\"T_e7ad9_row0_col22\" class=\"data row0 col22\" >8232</td>\n",
              "      <td id=\"T_e7ad9_row0_col23\" class=\"data row0 col23\" >8232</td>\n",
              "      <td id=\"T_e7ad9_row0_col24\" class=\"data row0 col24\" >8232</td>\n",
              "      <td id=\"T_e7ad9_row0_col25\" class=\"data row0 col25\" >8232</td>\n",
              "      <td id=\"T_e7ad9_row0_col26\" class=\"data row0 col26\" >8232</td>\n",
              "      <td id=\"T_e7ad9_row0_col27\" class=\"data row0 col27\" >8232</td>\n",
              "      <td id=\"T_e7ad9_row0_col28\" class=\"data row0 col28\" >8232</td>\n",
              "      <td id=\"T_e7ad9_row0_col29\" class=\"data row0 col29\" >8232</td>\n",
              "      <td id=\"T_e7ad9_row0_col30\" class=\"data row0 col30\" >8232</td>\n",
              "      <td id=\"T_e7ad9_row0_col31\" class=\"data row0 col31\" >8232</td>\n",
              "      <td id=\"T_e7ad9_row0_col32\" class=\"data row0 col32\" >8232</td>\n",
              "      <td id=\"T_e7ad9_row0_col33\" class=\"data row0 col33\" >8232</td>\n",
              "      <td id=\"T_e7ad9_row0_col34\" class=\"data row0 col34\" >8232</td>\n",
              "      <td id=\"T_e7ad9_row0_col35\" class=\"data row0 col35\" >8232</td>\n",
              "      <td id=\"T_e7ad9_row0_col36\" class=\"data row0 col36\" >8232</td>\n",
              "      <td id=\"T_e7ad9_row0_col37\" class=\"data row0 col37\" >8232</td>\n",
              "      <td id=\"T_e7ad9_row0_col38\" class=\"data row0 col38\" >8232</td>\n",
              "      <td id=\"T_e7ad9_row0_col39\" class=\"data row0 col39\" >8232</td>\n",
              "      <td id=\"T_e7ad9_row0_col40\" class=\"data row0 col40\" >8232</td>\n",
              "      <td id=\"T_e7ad9_row0_col41\" class=\"data row0 col41\" >8232</td>\n",
              "      <td id=\"T_e7ad9_row0_col42\" class=\"data row0 col42\" >8232</td>\n",
              "      <td id=\"T_e7ad9_row0_col43\" class=\"data row0 col43\" >8232</td>\n",
              "      <td id=\"T_e7ad9_row0_col44\" class=\"data row0 col44\" >8232</td>\n",
              "      <td id=\"T_e7ad9_row0_col45\" class=\"data row0 col45\" >8232</td>\n",
              "      <td id=\"T_e7ad9_row0_col46\" class=\"data row0 col46\" >8232</td>\n",
              "      <td id=\"T_e7ad9_row0_col47\" class=\"data row0 col47\" >8232</td>\n",
              "      <td id=\"T_e7ad9_row0_col48\" class=\"data row0 col48\" >8232</td>\n",
              "      <td id=\"T_e7ad9_row0_col49\" class=\"data row0 col49\" >8232</td>\n",
              "      <td id=\"T_e7ad9_row0_col50\" class=\"data row0 col50\" >8232</td>\n",
              "      <td id=\"T_e7ad9_row0_col51\" class=\"data row0 col51\" >8232</td>\n",
              "    </tr>\n",
              "    <tr>\n",
              "      <th id=\"T_e7ad9_level0_row1\" class=\"row_heading level0 row1\" >unique</th>\n",
              "      <td id=\"T_e7ad9_row1_col0\" class=\"data row1 col0\" >8232</td>\n",
              "      <td id=\"T_e7ad9_row1_col1\" class=\"data row1 col1\" >8232</td>\n",
              "      <td id=\"T_e7ad9_row1_col2\" class=\"data row1 col2\" >2</td>\n",
              "      <td id=\"T_e7ad9_row1_col3\" class=\"data row1 col3\" >68</td>\n",
              "      <td id=\"T_e7ad9_row1_col4\" class=\"data row1 col4\" >2</td>\n",
              "      <td id=\"T_e7ad9_row1_col5\" class=\"data row1 col5\" >934</td>\n",
              "      <td id=\"T_e7ad9_row1_col6\" class=\"data row1 col6\" >8207</td>\n",
              "      <td id=\"T_e7ad9_row1_col7\" class=\"data row1 col7\" >2</td>\n",
              "      <td id=\"T_e7ad9_row1_col8\" class=\"data row1 col8\" >3</td>\n",
              "      <td id=\"T_e7ad9_row1_col9\" class=\"data row1 col9\" >2</td>\n",
              "      <td id=\"T_e7ad9_row1_col10\" class=\"data row1 col10\" >2</td>\n",
              "      <td id=\"T_e7ad9_row1_col11\" class=\"data row1 col11\" >2</td>\n",
              "      <td id=\"T_e7ad9_row1_col12\" class=\"data row1 col12\" >2</td>\n",
              "      <td id=\"T_e7ad9_row1_col13\" class=\"data row1 col13\" >2</td>\n",
              "      <td id=\"T_e7ad9_row1_col14\" class=\"data row1 col14\" >2</td>\n",
              "      <td id=\"T_e7ad9_row1_col15\" class=\"data row1 col15\" >2</td>\n",
              "      <td id=\"T_e7ad9_row1_col16\" class=\"data row1 col16\" >1095</td>\n",
              "      <td id=\"T_e7ad9_row1_col17\" class=\"data row1 col17\" >1103</td>\n",
              "      <td id=\"T_e7ad9_row1_col18\" class=\"data row1 col18\" >1078</td>\n",
              "      <td id=\"T_e7ad9_row1_col19\" class=\"data row1 col19\" >1005</td>\n",
              "      <td id=\"T_e7ad9_row1_col20\" class=\"data row1 col20\" >776</td>\n",
              "      <td id=\"T_e7ad9_row1_col21\" class=\"data row1 col21\" >867</td>\n",
              "      <td id=\"T_e7ad9_row1_col22\" class=\"data row1 col22\" >811</td>\n",
              "      <td id=\"T_e7ad9_row1_col23\" class=\"data row1 col23\" >1055</td>\n",
              "      <td id=\"T_e7ad9_row1_col24\" class=\"data row1 col24\" >1044</td>\n",
              "      <td id=\"T_e7ad9_row1_col25\" class=\"data row1 col25\" >926</td>\n",
              "      <td id=\"T_e7ad9_row1_col26\" class=\"data row1 col26\" >803</td>\n",
              "      <td id=\"T_e7ad9_row1_col27\" class=\"data row1 col27\" >601</td>\n",
              "      <td id=\"T_e7ad9_row1_col28\" class=\"data row1 col28\" >836</td>\n",
              "      <td id=\"T_e7ad9_row1_col29\" class=\"data row1 col29\" >983</td>\n",
              "      <td id=\"T_e7ad9_row1_col30\" class=\"data row1 col30\" >1085</td>\n",
              "      <td id=\"T_e7ad9_row1_col31\" class=\"data row1 col31\" >636</td>\n",
              "      <td id=\"T_e7ad9_row1_col32\" class=\"data row1 col32\" >74</td>\n",
              "      <td id=\"T_e7ad9_row1_col33\" class=\"data row1 col33\" >541</td>\n",
              "      <td id=\"T_e7ad9_row1_col34\" class=\"data row1 col34\" >784</td>\n",
              "      <td id=\"T_e7ad9_row1_col35\" class=\"data row1 col35\" >426</td>\n",
              "      <td id=\"T_e7ad9_row1_col36\" class=\"data row1 col36\" >1146</td>\n",
              "      <td id=\"T_e7ad9_row1_col37\" class=\"data row1 col37\" >691</td>\n",
              "      <td id=\"T_e7ad9_row1_col38\" class=\"data row1 col38\" >728</td>\n",
              "      <td id=\"T_e7ad9_row1_col39\" class=\"data row1 col39\" >925</td>\n",
              "      <td id=\"T_e7ad9_row1_col40\" class=\"data row1 col40\" >803</td>\n",
              "      <td id=\"T_e7ad9_row1_col41\" class=\"data row1 col41\" >645</td>\n",
              "      <td id=\"T_e7ad9_row1_col42\" class=\"data row1 col42\" >600</td>\n",
              "      <td id=\"T_e7ad9_row1_col43\" class=\"data row1 col43\" >588</td>\n",
              "      <td id=\"T_e7ad9_row1_col44\" class=\"data row1 col44\" >674</td>\n",
              "      <td id=\"T_e7ad9_row1_col45\" class=\"data row1 col45\" >486</td>\n",
              "      <td id=\"T_e7ad9_row1_col46\" class=\"data row1 col46\" >447</td>\n",
              "      <td id=\"T_e7ad9_row1_col47\" class=\"data row1 col47\" >414</td>\n",
              "      <td id=\"T_e7ad9_row1_col48\" class=\"data row1 col48\" >657</td>\n",
              "      <td id=\"T_e7ad9_row1_col49\" class=\"data row1 col49\" >302</td>\n",
              "      <td id=\"T_e7ad9_row1_col50\" class=\"data row1 col50\" >465</td>\n",
              "      <td id=\"T_e7ad9_row1_col51\" class=\"data row1 col51\" >14</td>\n",
              "    </tr>\n",
              "    <tr>\n",
              "      <th id=\"T_e7ad9_level0_row2\" class=\"row_heading level0 row2\" >top</th>\n",
              "      <td id=\"T_e7ad9_row2_col0\" class=\"data row2 col0\" >1</td>\n",
              "      <td id=\"T_e7ad9_row2_col1\" class=\"data row2 col1\" >5/4/2012 19:28</td>\n",
              "      <td id=\"T_e7ad9_row2_col2\" class=\"data row2 col2\" >alive</td>\n",
              "      <td id=\"T_e7ad9_row2_col3\" class=\"data row2 col3\" >89</td>\n",
              "      <td id=\"T_e7ad9_row2_col4\" class=\"data row2 col4\" >Male</td>\n",
              "      <td id=\"T_e7ad9_row2_col5\" class=\"data row2 col5\" >30.188277651590337</td>\n",
              "      <td id=\"T_e7ad9_row2_col6\" class=\"data row2 col6\" >11/29/2011 5:59</td>\n",
              "      <td id=\"T_e7ad9_row2_col7\" class=\"data row2 col7\" >da</td>\n",
              "      <td id=\"T_e7ad9_row2_col8\" class=\"data row2 col8\" >nu</td>\n",
              "      <td id=\"T_e7ad9_row2_col9\" class=\"data row2 col9\" >nu</td>\n",
              "      <td id=\"T_e7ad9_row2_col10\" class=\"data row2 col10\" >nu</td>\n",
              "      <td id=\"T_e7ad9_row2_col11\" class=\"data row2 col11\" >nu</td>\n",
              "      <td id=\"T_e7ad9_row2_col12\" class=\"data row2 col12\" >nu</td>\n",
              "      <td id=\"T_e7ad9_row2_col13\" class=\"data row2 col13\" >nu</td>\n",
              "      <td id=\"T_e7ad9_row2_col14\" class=\"data row2 col14\" >nu</td>\n",
              "      <td id=\"T_e7ad9_row2_col15\" class=\"data row2 col15\" >nu</td>\n",
              "      <td id=\"T_e7ad9_row2_col16\" class=\"data row2 col16\" >84.5758484075085</td>\n",
              "      <td id=\"T_e7ad9_row2_col17\" class=\"data row2 col17\" >117.99503522048235</td>\n",
              "      <td id=\"T_e7ad9_row2_col18\" class=\"data row2 col18\" >59.534496552256634</td>\n",
              "      <td id=\"T_e7ad9_row2_col19\" class=\"data row2 col19\" >20.801511481503365</td>\n",
              "      <td id=\"T_e7ad9_row2_col20\" class=\"data row2 col20\" >36.67728595220201</td>\n",
              "      <td id=\"T_e7ad9_row2_col21\" class=\"data row2 col21\" >96.27290043504296</td>\n",
              "      <td id=\"T_e7ad9_row2_col22\" class=\"data row2 col22\" >1899.2765118317266</td>\n",
              "      <td id=\"T_e7ad9_row2_col23\" class=\"data row2 col23\" >35.73333333</td>\n",
              "      <td id=\"T_e7ad9_row2_col24\" class=\"data row2 col24\" >3.12</td>\n",
              "      <td id=\"T_e7ad9_row2_col25\" class=\"data row2 col25\" >30.1</td>\n",
              "      <td id=\"T_e7ad9_row2_col26\" class=\"data row2 col26\" >33.1</td>\n",
              "      <td id=\"T_e7ad9_row2_col27\" class=\"data row2 col27\" >92</td>\n",
              "      <td id=\"T_e7ad9_row2_col28\" class=\"data row2 col28\" >15.5</td>\n",
              "      <td id=\"T_e7ad9_row2_col29\" class=\"data row2 col29\" >11.5</td>\n",
              "      <td id=\"T_e7ad9_row2_col30\" class=\"data row2 col30\" >222</td>\n",
              "      <td id=\"T_e7ad9_row2_col31\" class=\"data row2 col31\" >80.11354430419135</td>\n",
              "      <td id=\"T_e7ad9_row2_col32\" class=\"data row2 col32\" >0.40556943147167485</td>\n",
              "      <td id=\"T_e7ad9_row2_col33\" class=\"data row2 col33\" >12.233024294061012</td>\n",
              "      <td id=\"T_e7ad9_row2_col34\" class=\"data row2 col34\" >17.48105714916175</td>\n",
              "      <td id=\"T_e7ad9_row2_col35\" class=\"data row2 col35\" >1.1</td>\n",
              "      <td id=\"T_e7ad9_row2_col36\" class=\"data row2 col36\" >9834</td>\n",
              "      <td id=\"T_e7ad9_row2_col37\" class=\"data row2 col37\" >246.77845607469405</td>\n",
              "      <td id=\"T_e7ad9_row2_col38\" class=\"data row2 col38\" >1.1</td>\n",
              "      <td id=\"T_e7ad9_row2_col39\" class=\"data row2 col39\" >23</td>\n",
              "      <td id=\"T_e7ad9_row2_col40\" class=\"data row2 col40\" >148.79653094522882</td>\n",
              "      <td id=\"T_e7ad9_row2_col41\" class=\"data row2 col41\" >4</td>\n",
              "      <td id=\"T_e7ad9_row2_col42\" class=\"data row2 col42\" >140</td>\n",
              "      <td id=\"T_e7ad9_row2_col43\" class=\"data row2 col43\" >8.5</td>\n",
              "      <td id=\"T_e7ad9_row2_col44\" class=\"data row2 col44\" >104</td>\n",
              "      <td id=\"T_e7ad9_row2_col45\" class=\"data row2 col45\" >14</td>\n",
              "      <td id=\"T_e7ad9_row2_col46\" class=\"data row2 col46\" >2</td>\n",
              "      <td id=\"T_e7ad9_row2_col47\" class=\"data row2 col47\" >7.378532073776282</td>\n",
              "      <td id=\"T_e7ad9_row2_col48\" class=\"data row2 col48\" >26</td>\n",
              "      <td id=\"T_e7ad9_row2_col49\" class=\"data row2 col49\" >1.8534255697974786</td>\n",
              "      <td id=\"T_e7ad9_row2_col50\" class=\"data row2 col50\" >45.53538235441676</td>\n",
              "      <td id=\"T_e7ad9_row2_col51\" class=\"data row2 col51\" >55</td>\n",
              "    </tr>\n",
              "    <tr>\n",
              "      <th id=\"T_e7ad9_level0_row3\" class=\"row_heading level0 row3\" >freq</th>\n",
              "      <td id=\"T_e7ad9_row3_col0\" class=\"data row3 col0\" >1</td>\n",
              "      <td id=\"T_e7ad9_row3_col1\" class=\"data row3 col1\" >1</td>\n",
              "      <td id=\"T_e7ad9_row3_col2\" class=\"data row3 col2\" >7119</td>\n",
              "      <td id=\"T_e7ad9_row3_col3\" class=\"data row3 col3\" >987</td>\n",
              "      <td id=\"T_e7ad9_row3_col4\" class=\"data row3 col4\" >4326</td>\n",
              "      <td id=\"T_e7ad9_row3_col5\" class=\"data row3 col5\" >1498</td>\n",
              "      <td id=\"T_e7ad9_row3_col6\" class=\"data row3 col6\" >2</td>\n",
              "      <td id=\"T_e7ad9_row3_col7\" class=\"data row3 col7\" >5908</td>\n",
              "      <td id=\"T_e7ad9_row3_col8\" class=\"data row3 col8\" >4514</td>\n",
              "      <td id=\"T_e7ad9_row3_col9\" class=\"data row3 col9\" >7525</td>\n",
              "      <td id=\"T_e7ad9_row3_col10\" class=\"data row3 col10\" >4767</td>\n",
              "      <td id=\"T_e7ad9_row3_col11\" class=\"data row3 col11\" >5439</td>\n",
              "      <td id=\"T_e7ad9_row3_col12\" class=\"data row3 col12\" >7252</td>\n",
              "      <td id=\"T_e7ad9_row3_col13\" class=\"data row3 col13\" >5103</td>\n",
              "      <td id=\"T_e7ad9_row3_col14\" class=\"data row3 col14\" >5229</td>\n",
              "      <td id=\"T_e7ad9_row3_col15\" class=\"data row3 col15\" >7609</td>\n",
              "      <td id=\"T_e7ad9_row3_col16\" class=\"data row3 col16\" >84</td>\n",
              "      <td id=\"T_e7ad9_row3_col17\" class=\"data row3 col17\" >105</td>\n",
              "      <td id=\"T_e7ad9_row3_col18\" class=\"data row3 col18\" >105</td>\n",
              "      <td id=\"T_e7ad9_row3_col19\" class=\"data row3 col19\" >84</td>\n",
              "      <td id=\"T_e7ad9_row3_col20\" class=\"data row3 col20\" >126</td>\n",
              "      <td id=\"T_e7ad9_row3_col21\" class=\"data row3 col21\" >84</td>\n",
              "      <td id=\"T_e7ad9_row3_col22\" class=\"data row3 col22\" >245</td>\n",
              "      <td id=\"T_e7ad9_row3_col23\" class=\"data row3 col23\" >28</td>\n",
              "      <td id=\"T_e7ad9_row3_col24\" class=\"data row3 col24\" >35</td>\n",
              "      <td id=\"T_e7ad9_row3_col25\" class=\"data row3 col25\" >49</td>\n",
              "      <td id=\"T_e7ad9_row3_col26\" class=\"data row3 col26\" >63</td>\n",
              "      <td id=\"T_e7ad9_row3_col27\" class=\"data row3 col27\" >112</td>\n",
              "      <td id=\"T_e7ad9_row3_col28\" class=\"data row3 col28\" >63</td>\n",
              "      <td id=\"T_e7ad9_row3_col29\" class=\"data row3 col29\" >35</td>\n",
              "      <td id=\"T_e7ad9_row3_col30\" class=\"data row3 col30\" >28</td>\n",
              "      <td id=\"T_e7ad9_row3_col31\" class=\"data row3 col31\" >1008</td>\n",
              "      <td id=\"T_e7ad9_row3_col32\" class=\"data row3 col32\" >1813</td>\n",
              "      <td id=\"T_e7ad9_row3_col33\" class=\"data row3 col33\" >1015</td>\n",
              "      <td id=\"T_e7ad9_row3_col34\" class=\"data row3 col34\" >140</td>\n",
              "      <td id=\"T_e7ad9_row3_col35\" class=\"data row3 col35\" >609</td>\n",
              "      <td id=\"T_e7ad9_row3_col36\" class=\"data row3 col36\" >14</td>\n",
              "      <td id=\"T_e7ad9_row3_col37\" class=\"data row3 col37\" >1155</td>\n",
              "      <td id=\"T_e7ad9_row3_col38\" class=\"data row3 col38\" >91</td>\n",
              "      <td id=\"T_e7ad9_row3_col39\" class=\"data row3 col39\" >56</td>\n",
              "      <td id=\"T_e7ad9_row3_col40\" class=\"data row3 col40\" >119</td>\n",
              "      <td id=\"T_e7ad9_row3_col41\" class=\"data row3 col41\" >119</td>\n",
              "      <td id=\"T_e7ad9_row3_col42\" class=\"data row3 col42\" >147</td>\n",
              "      <td id=\"T_e7ad9_row3_col43\" class=\"data row3 col43\" >119</td>\n",
              "      <td id=\"T_e7ad9_row3_col44\" class=\"data row3 col44\" >126</td>\n",
              "      <td id=\"T_e7ad9_row3_col45\" class=\"data row3 col45\" >203</td>\n",
              "      <td id=\"T_e7ad9_row3_col46\" class=\"data row3 col46\" >259</td>\n",
              "      <td id=\"T_e7ad9_row3_col47\" class=\"data row3 col47\" >2037</td>\n",
              "      <td id=\"T_e7ad9_row3_col48\" class=\"data row3 col48\" >119</td>\n",
              "      <td id=\"T_e7ad9_row3_col49\" class=\"data row3 col49\" >1596</td>\n",
              "      <td id=\"T_e7ad9_row3_col50\" class=\"data row3 col50\" >2051</td>\n",
              "      <td id=\"T_e7ad9_row3_col51\" class=\"data row3 col51\" >4137</td>\n",
              "    </tr>\n",
              "  </tbody>\n",
              "</table>\n"
            ]
          },
          "metadata": {},
          "execution_count": 136
        }
      ]
    },
    {
      "cell_type": "markdown",
      "source": [
        "#### Following the changes we made on the data set I chose, I noticed that certain columns are more significant than others for our analysis. These columns are either labeled in a certain way or contain numeric values. According to the purpose pursued by this analysis, we will consider the following columns to be significant, which I will group below according to their nature.\n",
        "- Categorical columns\n",
        "  - Stare\n",
        "  - Sex\n",
        "  - Diabet\n",
        "  - Depresie\n",
        "- Numerical columns\n",
        "  - Indice_de_masa_corporala\n",
        "  - Frecventa_cardiaca\n",
        "  - Frecventa_respiratorie\n",
        "  - Temperatura\n",
        "  - Tensiunea_arteriala_sistolica / Tensiunea_arteriala_diastolica\n",
        "  - Numarul de globule albe si rosii\n",
        "  - Cantitatea de leucocite,trombocite,neurofile, limfocite\n",
        "  - Cantitatea de Glucoza, Potasiu, Sodiu, Calciu, Clorura, Magneziu\n",
        "  - etc."
      ],
      "metadata": {
        "id": "4SSTcwSan4XI"
      }
    },
    {
      "cell_type": "markdown",
      "source": [
        "## Next, we will present a series of graphs where you can see details about the variables mentioned above."
      ],
      "metadata": {
        "id": "DIOQEO4RoVcZ"
      }
    }
  ]
}