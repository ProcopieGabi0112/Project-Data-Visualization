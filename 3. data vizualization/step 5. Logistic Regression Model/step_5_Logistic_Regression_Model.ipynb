{
  "nbformat": 4,
  "nbformat_minor": 0,
  "metadata": {
    "colab": {
      "provenance": []
    },
    "kernelspec": {
      "name": "python3",
      "display_name": "Python 3"
    },
    "language_info": {
      "name": "python"
    }
  },
  "cells": [
    {
      "cell_type": "code",
      "execution_count": 1,
      "metadata": {
        "colab": {
          "base_uri": "https://localhost:8080/"
        },
        "id": "bliKL4-3rT5Y",
        "outputId": "556b3fa1-0ec7-4e4b-d3f2-049aefe3adc8"
      },
      "outputs": [
        {
          "output_type": "stream",
          "name": "stdout",
          "text": [
            "Looking in indexes: https://pypi.org/simple, https://us-python.pkg.dev/colab-wheels/public/simple/\n",
            "Collecting pyspark\n",
            "  Downloading pyspark-3.4.0.tar.gz (310.8 MB)\n",
            "\u001b[2K     \u001b[90m━━━━━━━━━━━━━━━━━━━━━━━━━━━━━━━━━━━━━━━\u001b[0m \u001b[32m310.8/310.8 MB\u001b[0m \u001b[31m4.4 MB/s\u001b[0m eta \u001b[36m0:00:00\u001b[0m\n",
            "\u001b[?25h  Preparing metadata (setup.py) ... \u001b[?25l\u001b[?25hdone\n",
            "Requirement already satisfied: py4j==0.10.9.7 in /usr/local/lib/python3.10/dist-packages (from pyspark) (0.10.9.7)\n",
            "Building wheels for collected packages: pyspark\n",
            "  Building wheel for pyspark (setup.py) ... \u001b[?25l\u001b[?25hdone\n",
            "  Created wheel for pyspark: filename=pyspark-3.4.0-py2.py3-none-any.whl size=311317130 sha256=b87886902ab3394c106b428fae07765a8fca6abd813e6add0bc75123d7dfedcb\n",
            "  Stored in directory: /root/.cache/pip/wheels/7b/1b/4b/3363a1d04368e7ff0d408e57ff57966fcdf00583774e761327\n",
            "Successfully built pyspark\n",
            "Installing collected packages: pyspark\n",
            "Successfully installed pyspark-3.4.0\n",
            "Looking in indexes: https://pypi.org/simple, https://us-python.pkg.dev/colab-wheels/public/simple/\n",
            "Requirement already satisfied: numpy in /usr/local/lib/python3.10/dist-packages (1.22.4)\n",
            "Looking in indexes: https://pypi.org/simple, https://us-python.pkg.dev/colab-wheels/public/simple/\n",
            "Requirement already satisfied: pandas in /usr/local/lib/python3.10/dist-packages (1.5.3)\n",
            "Requirement already satisfied: python-dateutil>=2.8.1 in /usr/local/lib/python3.10/dist-packages (from pandas) (2.8.2)\n",
            "Requirement already satisfied: pytz>=2020.1 in /usr/local/lib/python3.10/dist-packages (from pandas) (2022.7.1)\n",
            "Requirement already satisfied: numpy>=1.21.0 in /usr/local/lib/python3.10/dist-packages (from pandas) (1.22.4)\n",
            "Requirement already satisfied: six>=1.5 in /usr/local/lib/python3.10/dist-packages (from python-dateutil>=2.8.1->pandas) (1.16.0)\n",
            "Looking in indexes: https://pypi.org/simple, https://us-python.pkg.dev/colab-wheels/public/simple/\n",
            "Requirement already satisfied: matplotlib in /usr/local/lib/python3.10/dist-packages (3.7.1)\n",
            "Requirement already satisfied: contourpy>=1.0.1 in /usr/local/lib/python3.10/dist-packages (from matplotlib) (1.0.7)\n",
            "Requirement already satisfied: cycler>=0.10 in /usr/local/lib/python3.10/dist-packages (from matplotlib) (0.11.0)\n",
            "Requirement already satisfied: fonttools>=4.22.0 in /usr/local/lib/python3.10/dist-packages (from matplotlib) (4.39.3)\n",
            "Requirement already satisfied: kiwisolver>=1.0.1 in /usr/local/lib/python3.10/dist-packages (from matplotlib) (1.4.4)\n",
            "Requirement already satisfied: numpy>=1.20 in /usr/local/lib/python3.10/dist-packages (from matplotlib) (1.22.4)\n",
            "Requirement already satisfied: packaging>=20.0 in /usr/local/lib/python3.10/dist-packages (from matplotlib) (23.1)\n",
            "Requirement already satisfied: pillow>=6.2.0 in /usr/local/lib/python3.10/dist-packages (from matplotlib) (8.4.0)\n",
            "Requirement already satisfied: pyparsing>=2.3.1 in /usr/local/lib/python3.10/dist-packages (from matplotlib) (3.0.9)\n",
            "Requirement already satisfied: python-dateutil>=2.7 in /usr/local/lib/python3.10/dist-packages (from matplotlib) (2.8.2)\n",
            "Requirement already satisfied: six>=1.5 in /usr/local/lib/python3.10/dist-packages (from python-dateutil>=2.7->matplotlib) (1.16.0)\n",
            "Looking in indexes: https://pypi.org/simple, https://us-python.pkg.dev/colab-wheels/public/simple/\n",
            "Requirement already satisfied: seaborn in /usr/local/lib/python3.10/dist-packages (0.12.2)\n",
            "Requirement already satisfied: numpy!=1.24.0,>=1.17 in /usr/local/lib/python3.10/dist-packages (from seaborn) (1.22.4)\n",
            "Requirement already satisfied: pandas>=0.25 in /usr/local/lib/python3.10/dist-packages (from seaborn) (1.5.3)\n",
            "Requirement already satisfied: matplotlib!=3.6.1,>=3.1 in /usr/local/lib/python3.10/dist-packages (from seaborn) (3.7.1)\n",
            "Requirement already satisfied: contourpy>=1.0.1 in /usr/local/lib/python3.10/dist-packages (from matplotlib!=3.6.1,>=3.1->seaborn) (1.0.7)\n",
            "Requirement already satisfied: cycler>=0.10 in /usr/local/lib/python3.10/dist-packages (from matplotlib!=3.6.1,>=3.1->seaborn) (0.11.0)\n",
            "Requirement already satisfied: fonttools>=4.22.0 in /usr/local/lib/python3.10/dist-packages (from matplotlib!=3.6.1,>=3.1->seaborn) (4.39.3)\n",
            "Requirement already satisfied: kiwisolver>=1.0.1 in /usr/local/lib/python3.10/dist-packages (from matplotlib!=3.6.1,>=3.1->seaborn) (1.4.4)\n",
            "Requirement already satisfied: packaging>=20.0 in /usr/local/lib/python3.10/dist-packages (from matplotlib!=3.6.1,>=3.1->seaborn) (23.1)\n",
            "Requirement already satisfied: pillow>=6.2.0 in /usr/local/lib/python3.10/dist-packages (from matplotlib!=3.6.1,>=3.1->seaborn) (8.4.0)\n",
            "Requirement already satisfied: pyparsing>=2.3.1 in /usr/local/lib/python3.10/dist-packages (from matplotlib!=3.6.1,>=3.1->seaborn) (3.0.9)\n",
            "Requirement already satisfied: python-dateutil>=2.7 in /usr/local/lib/python3.10/dist-packages (from matplotlib!=3.6.1,>=3.1->seaborn) (2.8.2)\n",
            "Requirement already satisfied: pytz>=2020.1 in /usr/local/lib/python3.10/dist-packages (from pandas>=0.25->seaborn) (2022.7.1)\n",
            "Requirement already satisfied: six>=1.5 in /usr/local/lib/python3.10/dist-packages (from python-dateutil>=2.7->matplotlib!=3.6.1,>=3.1->seaborn) (1.16.0)\n",
            "Looking in indexes: https://pypi.org/simple, https://us-python.pkg.dev/colab-wheels/public/simple/\n",
            "Requirement already satisfied: plotly in /usr/local/lib/python3.10/dist-packages (5.13.1)\n",
            "Requirement already satisfied: tenacity>=6.2.0 in /usr/local/lib/python3.10/dist-packages (from plotly) (8.2.2)\n",
            "Looking in indexes: https://pypi.org/simple, https://us-python.pkg.dev/colab-wheels/public/simple/\n",
            "Collecting sklearn\n",
            "  Downloading sklearn-0.0.post5.tar.gz (3.7 kB)\n",
            "  Preparing metadata (setup.py) ... \u001b[?25l\u001b[?25hdone\n",
            "Building wheels for collected packages: sklearn\n",
            "  Building wheel for sklearn (setup.py) ... \u001b[?25l\u001b[?25hdone\n",
            "  Created wheel for sklearn: filename=sklearn-0.0.post5-py3-none-any.whl size=2950 sha256=9afeedd0860e9da4fdd86c8b52619e91875ba2d3842409b83fa5fcb55660d3c5\n",
            "  Stored in directory: /root/.cache/pip/wheels/38/1f/8d/4f812c590e074c1e928f5cec67bf5053b71f38e2648739403a\n",
            "Successfully built sklearn\n",
            "Installing collected packages: sklearn\n",
            "Successfully installed sklearn-0.0.post5\n"
          ]
        }
      ],
      "source": [
        "!pip install pyspark\n",
        "!pip install numpy\n",
        "!pip install pandas\n",
        "!pip install matplotlib\n",
        "!pip install seaborn\n",
        "!pip install plotly\n",
        "!pip install sklearn"
      ]
    },
    {
      "cell_type": "code",
      "source": [
        "\n",
        "import numpy as np\n",
        "import pandas as pd\n",
        "import matplotlib.pyplot as plt\n",
        "import plotly.express as px\n",
        "import seaborn as sns\n",
        "\n",
        "from pyspark.sql import SparkSession\n",
        "from pyspark.sql.functions import stddev,countDistinct,count,avg,col\n",
        "from pyspark.sql.functions import when\n",
        "from pyspark.sql.functions import mean\n",
        "\n",
        "from pyspark.sql.types import IntegerType\n",
        "from sklearn.impute import SimpleImputer"
      ],
      "metadata": {
        "id": "kTsyVdICshm4"
      },
      "execution_count": 2,
      "outputs": []
    },
    {
      "cell_type": "code",
      "source": [
        "spark = SparkSession.builder.master(\"local[4]\").getOrCreate()"
      ],
      "metadata": {
        "id": "2mWYdjpNFHOF"
      },
      "execution_count": 4,
      "outputs": []
    },
    {
      "cell_type": "code",
      "source": [
        "data_as_spark = spark.read.csv('logistic_regresion_data.csv',header=True)"
      ],
      "metadata": {
        "id": "2Pl8ti70E6tW"
      },
      "execution_count": 5,
      "outputs": []
    },
    {
      "cell_type": "code",
      "source": [
        "data_as_spark.columns"
      ],
      "metadata": {
        "colab": {
          "base_uri": "https://localhost:8080/"
        },
        "id": "8YVNW4nsFDHY",
        "outputId": "efe1c74a-fb64-48c3-a4a5-bdf4fb930f64"
      },
      "execution_count": 6,
      "outputs": [
        {
          "output_type": "execute_result",
          "data": {
            "text/plain": [
              "['Numar',\n",
              " 'Stare',\n",
              " 'Hipertensiv',\n",
              " 'Fibrilatie_atriala',\n",
              " 'Anemii_deficitare',\n",
              " 'Depresie',\n",
              " 'Insuficienta_renala',\n",
              " 'Frecventa_respiratorie',\n",
              " 'Latimea_distributiei_globulelor_rosii',\n",
              " 'Leucocite',\n",
              " 'Timp_de_protrombina',\n",
              " 'Raport_internationalizat_normalizat',\n",
              " 'NT_proBNP',\n",
              " 'Nitrogen_ureic',\n",
              " 'Potasiu_din_sange',\n",
              " 'Interval_anionic',\n",
              " 'Acid_lactic']"
            ]
          },
          "metadata": {},
          "execution_count": 6
        }
      ]
    },
    {
      "cell_type": "code",
      "source": [
        "col = ['Stare','Varsta','Sex','Indice_de_masa_corporala','Hipertensiv','Fibrilatie_atriala','Boala_coronariana','Diabet','Anemii_deficitare','Depresie','Hiperlipemie','Insuficienta_renala','Boala_pulmonara_obstructiva_cronica','Frecventa_cardiaca','Tensiune_arteriala_sistolica','Tensiune_arteriala_diastolica','Frecventa_respiratorie','Temperatura','Saturatia_pulsului_de_oxigen','Urina','Volumul_celule_rosii_din_sange','Globule_rosii','Hemoglobina_corpusculara_medie','Concentratia_medie_a_hemoglobinei_corpusculare','Volumul_corpuscular_mediu','Latimea_distributiei_globulelor_rosii','Leucocite','Trombocite','Neurofile','Globule_albe','Limfocite','Timp_de_protrombina','Raport_internationalizat_normalizat','NT_proBNP','Creatin_kinaza','Creatina','Nitrogen_ureic','Glucoza','Potasiu_din_sange','Sodiu_din_sange','Calciu_din_sange','Clorura','Interval_anionic','Ioni_de_magneziu','Concentratia_ionilor_de_oxigen','Bicarbote','Acid_lactic','Presiunea_partiala_a_dioxidului_de_carbon','Fractie_de_eliminare']\n",
        "\n",
        "\n",
        "dataframe = data_as_csv\n",
        "\n",
        "# ----------------Target Column-------------------------------------------------\n",
        "dataframe['Stare'] = dataframe['Stare'].replace({'alive': 0, 'dead': 1})\n",
        "# --------------------Categorical Columns---------------------------------------\n",
        "dataframe['Hipertensiv'] = dataframe['Hipertensiv'].replace({'nu': 0,'da': 1})\n",
        "dataframe['Fibrilatie_atriala'] = dataframe['Fibrilatie_atriala'].replace({'nu': 0,'da': 1})\n",
        "dataframe['Boala_coronariana'] = dataframe['Boala_coronariana'].replace({'nu': 0,'da': 1})\n",
        "dataframe['Anemii_deficitare'] = dataframe['Anemii_deficitare'].replace({'nu': 0,'da': 1})\n",
        "dataframe['Depresie'] = dataframe['Depresie'].replace({'nu': 0,'da': 1})\n",
        "dataframe['Hiperlipemie'] = dataframe['Hiperlipemie'].replace({'nu': 0,'da': 1})\n",
        "dataframe['Insuficienta_renala'] = dataframe['Insuficienta_renala'].replace({'nu': 0,'da': 1})\n",
        "dataframe['Boala_pulmonara_obstructiva_cronica'] = dataframe['Boala_pulmonara_obstructiva_cronica'].replace({'nu': 0,'da': 1})\n"
      ],
      "metadata": {
        "id": "e1ULud81sn2P"
      },
      "execution_count": null,
      "outputs": []
    },
    {
      "cell_type": "code",
      "source": [
        "# Salvam datele intr-o alta variabila\n",
        "log_regr_data = data_as_spark.select(\"Stare\",\n",
        "                                     \"Hipertensiv\",\n",
        "                                     \"Fibrilatie_atriala\",\n",
        "                                     \"Anemii_deficitare\",\n",
        "                                     \"Depresie\",\n",
        "                                     \"Insuficienta_renala\",\n",
        "                                     data_as_spark.Frecventa_respiratorie.cast(\"float\"),\n",
        "                                     data_as_spark.Latimea_distributiei_globulelor_rosii.cast(\"float\"),\n",
        "                                     data_as_spark.Leucocite.cast(\"float\"),\n",
        "                                     data_as_spark.Timp_de_protrombina.cast(\"float\"),\n",
        "                                     data_as_spark.Raport_internationalizat_normalizat.cast(\"float\"),\n",
        "                                     data_as_spark.NT_proBNP.cast(\"float\"),\n",
        "                                     data_as_spark.Nitrogen_ureic.cast(\"float\"),\n",
        "                                     data_as_spark.Potasiu_din_sange.cast(\"float\"),\n",
        "                                     data_as_spark.Interval_anionic.cast(\"float\"),\n",
        "                                     data_as_spark.Acid_lactic.cast(\"float\"))\n",
        "cols = log_regr_data.columns\n",
        "\n",
        "#1 Modificarea coloanei Stare\n",
        "log_regr_data = log_regr_data.withColumn(\"Stare\",when(log_regr_data.Stare == \"alive\",\"yes\").when(log_regr_data.Stare == \"dead\",\"no\").otherwise(\"null\"))\n",
        "#2 Modificarea coloanei Hipertensiv\n",
        "log_regr_data = log_regr_data.withColumn(\"Hipertensiv\",when(log_regr_data.Hipertensiv == \"nu\",\"no\").when(log_regr_data.Hipertensiv == \"da\",\"yes\").otherwise(\"null\"))\n",
        "#3 Modificarea coloanei Fibrilatie_atriala\n",
        "log_regr_data = log_regr_data.withColumn(\"Fibrilatie_atriala\",when(log_regr_data.Fibrilatie_atriala == \"nu\",\"no\").when(log_regr_data.Fibrilatie_atriala == \"da\",\"yes\").otherwise(\"null\"))\n",
        "#4 Modificarea coloanei Anemii_deficitare\n",
        "log_regr_data = log_regr_data.withColumn(\"Anemii_deficitare\",when(log_regr_data.Anemii_deficitare == \"nu\",\"no\").when(log_regr_data.Anemii_deficitare == \"da\",\"yes\").otherwise(\"null\"))\n",
        "#5 Modificarea coloanei Depresie\n",
        "log_regr_data = log_regr_data.withColumn(\"Depresie\",when(log_regr_data.Depresie == \"nu\",\"no\").when(log_regr_data.Depresie == \"da\",\"yes\").otherwise(\"null\"))\n",
        "#6 Modificarea coloanei Insuficienta_renala\n",
        "log_regr_data = log_regr_data.withColumn(\"Insuficienta_renala\",when(log_regr_data.Insuficienta_renala == \"nu\",\"no\").when(log_regr_data.Insuficienta_renala == \"da\",\"yes\").otherwise(\"null\"))\n",
        "\n",
        "# Afisarea datelor finale\n",
        "log_regr_data.select(\"Stare\",\"Hipertensiv\",\"Fibrilatie_atriala\",\"Anemii_deficitare\",\"Depresie\",\"Insuficienta_renala\").show()\n",
        "log_regr_data.select(\"Frecventa_respiratorie\",\"Latimea_distributiei_globulelor_rosii\",\"Leucocite\",\"Timp_de_protrombina\",\"Raport_internationalizat_normalizat\").show()\n",
        "log_regr_data.select(\"NT_proBNP\",\"Nitrogen_ureic\",\"Potasiu_din_sange\",\"Interval_anionic\",\"Acid_lactic\").show()\n",
        "log_regr_data.count()\n",
        "log_regr_data.printSchema()"
      ],
      "metadata": {
        "colab": {
          "base_uri": "https://localhost:8080/"
        },
        "id": "gmb5S8dGs_42",
        "outputId": "e29d4525-f797-42f4-84d9-fc18fac7bb97"
      },
      "execution_count": 7,
      "outputs": [
        {
          "output_type": "stream",
          "name": "stdout",
          "text": [
            "+-----+-----------+------------------+-----------------+--------+-------------------+\n",
            "|Stare|Hipertensiv|Fibrilatie_atriala|Anemii_deficitare|Depresie|Insuficienta_renala|\n",
            "+-----+-----------+------------------+-----------------+--------+-------------------+\n",
            "|  yes|         no|                no|              yes|      no|                yes|\n",
            "|  yes|         no|                no|              yes|      no|                 no|\n",
            "|  yes|         no|                no|              yes|      no|                yes|\n",
            "|  yes|         no|                no|               no|      no|                 no|\n",
            "|  yes|        yes|                no|              yes|      no|                yes|\n",
            "|  yes|        yes|               yes|              yes|      no|                yes|\n",
            "|  yes|        yes|                no|               no|      no|                yes|\n",
            "|  yes|        yes|               yes|              yes|      no|                 no|\n",
            "|  yes|        yes|               yes|               no|      no|                yes|\n",
            "|  yes|        yes|                no|               no|      no|                 no|\n",
            "|  yes|        yes|                no|               no|      no|                 no|\n",
            "|  yes|        yes|                no|              yes|      no|                 no|\n",
            "|  yes|        yes|                no|               no|      no|                 no|\n",
            "|  yes|        yes|               yes|               no|      no|                yes|\n",
            "|  yes|        yes|                no|               no|      no|                 no|\n",
            "|  yes|        yes|                no|               no|      no|                yes|\n",
            "|   no|        yes|                no|              yes|      no|                yes|\n",
            "|  yes|        yes|                no|              yes|     yes|                yes|\n",
            "|  yes|        yes|                no|              yes|      no|                 no|\n",
            "|  yes|         no|                no|              yes|      no|                yes|\n",
            "+-----+-----------+------------------+-----------------+--------+-------------------+\n",
            "only showing top 20 rows\n",
            "\n",
            "+----------------------+-------------------------------------+---------+-------------------+-----------------------------------+\n",
            "|Frecventa_respiratorie|Latimea_distributiei_globulelor_rosii|Leucocite|Timp_de_protrombina|Raport_internationalizat_normalizat|\n",
            "+----------------------+-------------------------------------+---------+-------------------+-----------------------------------+\n",
            "|             16.621622|                                16.22|     7.65|               10.6|                                1.0|\n",
            "|             20.851852|                                14.26|    12.74|          17.481056|                           1.625465|\n",
            "|                 23.64|                                23.82|     5.48|             11.275|                               0.95|\n",
            "|             21.857143|                              17.0375|    8.225|          27.066668|                          2.6666667|\n",
            "|                 21.36|                            16.266666| 8.833333|          17.481056|                           1.625465|\n",
            "|             20.545454|                            16.516666| 9.516666|          18.783333|                                1.7|\n",
            "|             19.148148|                                 17.4|    7.975|               14.0|                                1.2|\n",
            "|                  18.4|                            13.157143|      8.5|          16.671429|                          1.5714285|\n",
            "|             18.583334|                             15.50625|  3.80625|             19.275|                               1.75|\n",
            "|                18.125|                            14.666667|5.5333333|               14.7|                                1.3|\n",
            "|             17.481482|                            15.488889|10.222222|              12.95|                                1.1|\n",
            "|                  17.4|                               12.625|      7.9|             13.275|                              1.125|\n",
            "|             15.833333|                              14.3625|    8.725|             12.125|                              1.025|\n",
            "|             25.434782|                                 14.3|    9.575|               37.9|                                4.2|\n",
            "|              34.69343|                                15.18|     3.64|              13.95|                                1.2|\n",
            "|             20.692308|                                15.06|     7.38|              13.65|                               1.15|\n",
            "|             15.652174|                            15.414286|10.742857|              12.55|                              1.075|\n",
            "|             16.071428|                                16.55|     6.33|               13.6|                          1.1666666|\n",
            "|             28.153847|                            20.233334|15.716666|               14.7|                                1.4|\n",
            "|             25.583334|                           15.5222225|6.5111113|              12.84|                                1.1|\n",
            "+----------------------+-------------------------------------+---------+-------------------+-----------------------------------+\n",
            "only showing top 20 rows\n",
            "\n",
            "+---------+--------------+-----------------+----------------+-----------+\n",
            "|NT_proBNP|Nitrogen_ureic|Potasiu_din_sange|Interval_anionic|Acid_lactic|\n",
            "+---------+--------------+-----------------+----------------+-----------+\n",
            "|   1956.0|          50.0|        4.8166666|       13.166667|        0.5|\n",
            "|   2384.0|     20.333334|             4.45|       11.444445|        0.5|\n",
            "|   4081.0|     33.857143|            5.825|            10.0|        0.5|\n",
            "|    668.0|     15.285714|         4.386667|       12.357142|        0.6|\n",
            "|  30802.0|          43.0|        4.7833333|       15.166667|        0.6|\n",
            "|  34183.0|        26.625|            4.075|          13.125|        0.6|\n",
            "|  29683.0|     109.13333|        4.6066666|            15.2|      0.625|\n",
            "|   1144.0|     16.714285|           4.2375|       12.571428|       0.65|\n",
            "|  21050.0|      79.73684|        4.7181816|       16.863636|  0.6666667|\n",
            "|    884.0|          35.5|             3.87|            12.0|        0.7|\n",
            "|   2429.0|          22.9|         4.409091|            13.6|        0.7|\n",
            "|   3295.5|     11.333333|        4.0333333|            13.0|        0.7|\n",
            "|   3654.0|          14.2|             3.88|            10.0|        0.7|\n",
            "|   4745.0|          29.6|             4.34|            13.3|        0.7|\n",
            "|   7885.0|     19.285715|        3.9714286|            10.0|        0.7|\n",
            "|  16878.0|     59.833332|        4.6857142|            14.5|        0.7|\n",
            "|  33773.0|          54.7|        4.7909093|            14.5|        0.7|\n",
            "|  33944.0|     36.583332|              4.6|            14.5|       0.74|\n",
            "|    826.0|          11.0|              5.3|       11.909091|       0.75|\n",
            "|   1031.0|           9.4|              4.0|       13.222222|       0.75|\n",
            "+---------+--------------+-----------------+----------------+-----------+\n",
            "only showing top 20 rows\n",
            "\n",
            "root\n",
            " |-- Stare: string (nullable = false)\n",
            " |-- Hipertensiv: string (nullable = false)\n",
            " |-- Fibrilatie_atriala: string (nullable = false)\n",
            " |-- Anemii_deficitare: string (nullable = false)\n",
            " |-- Depresie: string (nullable = false)\n",
            " |-- Insuficienta_renala: string (nullable = false)\n",
            " |-- Frecventa_respiratorie: float (nullable = true)\n",
            " |-- Latimea_distributiei_globulelor_rosii: float (nullable = true)\n",
            " |-- Leucocite: float (nullable = true)\n",
            " |-- Timp_de_protrombina: float (nullable = true)\n",
            " |-- Raport_internationalizat_normalizat: float (nullable = true)\n",
            " |-- NT_proBNP: float (nullable = true)\n",
            " |-- Nitrogen_ureic: float (nullable = true)\n",
            " |-- Potasiu_din_sange: float (nullable = true)\n",
            " |-- Interval_anionic: float (nullable = true)\n",
            " |-- Acid_lactic: float (nullable = true)\n",
            "\n"
          ]
        }
      ]
    },
    {
      "cell_type": "code",
      "source": [
        "from pyspark.ml.feature import OneHotEncoder,StringIndexer,VectorAssembler\n",
        "from pyspark.ml import Pipeline\n",
        "from pyspark.ml.evaluation import BinaryClassificationEvaluator,MulticlassClassificationEvaluator"
      ],
      "metadata": {
        "id": "KPVp7eRBuHvi"
      },
      "execution_count": 8,
      "outputs": []
    },
    {
      "cell_type": "code",
      "source": [
        "categoricalColumns = ['Hipertensiv','Fibrilatie_atriala','Anemii_deficitare','Depresie','Insuficienta_renala']\n",
        "stages = []"
      ],
      "metadata": {
        "id": "YH9SXmqIuLDD"
      },
      "execution_count": 9,
      "outputs": []
    },
    {
      "cell_type": "code",
      "source": [
        "for categoricalCol in categoricalColumns:\n",
        "    stringIndexer = StringIndexer(inputCol = categoricalCol, outputCol = categoricalCol + 'Index')\n",
        "    encoder = OneHotEncoder(inputCols=[stringIndexer.getOutputCol()], outputCols=[categoricalCol + \"classVec\"])\n",
        "    stages += [stringIndexer,encoder]"
      ],
      "metadata": {
        "id": "JJ3JEF0NuMzI"
      },
      "execution_count": 10,
      "outputs": []
    },
    {
      "cell_type": "code",
      "source": [
        "label_stringIdx = StringIndexer(inputCol = 'Stare', outputCol = 'label')\n",
        "stages += [label_stringIdx]"
      ],
      "metadata": {
        "id": "Y4j9ihvnuOOL"
      },
      "execution_count": 11,
      "outputs": []
    },
    {
      "cell_type": "code",
      "source": [
        "numericCols = ['Frecventa_respiratorie','Latimea_distributiei_globulelor_rosii','Leucocite','Timp_de_protrombina','Raport_internationalizat_normalizat','NT_proBNP','Nitrogen_ureic','Potasiu_din_sange','Interval_anionic','Acid_lactic']\n",
        "assemblerInputs = [c + \"classVec\" for c in categoricalColumns] + numericCols\n",
        "assembler = VectorAssembler(inputCols=assemblerInputs, outputCol=\"features\")\n",
        "stages += [assembler]"
      ],
      "metadata": {
        "id": "oTjXyMKouPyt"
      },
      "execution_count": 12,
      "outputs": []
    },
    {
      "cell_type": "code",
      "source": [
        "pipeline = Pipeline(stages = stages)\n",
        "pipelineModel = pipeline.fit(log_regr_data)\n",
        "log_regr_data = pipelineModel.transform(log_regr_data)\n",
        "selectedCols = ['label', 'features'] + cols\n",
        "log_regr_data = log_regr_data.select(selectedCols)"
      ],
      "metadata": {
        "id": "WWET18E-uRCz"
      },
      "execution_count": 13,
      "outputs": []
    },
    {
      "cell_type": "code",
      "source": [
        "train, test = log_regr_data.randomSplit([0.7, 0.3])\n",
        "print(\"Training Dataset Count: \" + str(train.count()))\n",
        "print(\"Test Dataset Count: \" + str(test.count()))"
      ],
      "metadata": {
        "colab": {
          "base_uri": "https://localhost:8080/"
        },
        "id": "Iql3QnAnuSxF",
        "outputId": "43d134fd-faa9-4574-ac60-6e5b14b1a481"
      },
      "execution_count": 47,
      "outputs": [
        {
          "output_type": "stream",
          "name": "stdout",
          "text": [
            "Training Dataset Count: 5627\n",
            "Test Dataset Count: 2605\n"
          ]
        }
      ]
    },
    {
      "cell_type": "code",
      "source": [
        "from pyspark.ml.classification import LogisticRegression"
      ],
      "metadata": {
        "id": "PZ35qcQUuUI6"
      },
      "execution_count": 48,
      "outputs": []
    },
    {
      "cell_type": "code",
      "source": [
        "lr = LogisticRegression(featuresCol = 'features', labelCol = 'label', maxIter=30,regParam=0.01,elasticNetParam=0,threshold=0.5,standardization=False)"
      ],
      "metadata": {
        "id": "yB_iznr5uVWZ"
      },
      "execution_count": 158,
      "outputs": []
    },
    {
      "cell_type": "code",
      "source": [
        "lrModel = lr.fit(train)"
      ],
      "metadata": {
        "id": "VXVMQjYwuW-S"
      },
      "execution_count": 159,
      "outputs": []
    },
    {
      "cell_type": "code",
      "source": [
        "beta = np.sort(lrModel.coefficients)\n",
        "plt.plot(beta)\n",
        "plt.ylabel('Beta Coefficients')\n",
        "plt.show()"
      ],
      "metadata": {
        "colab": {
          "base_uri": "https://localhost:8080/",
          "height": 430
        },
        "id": "OAOnemgquYHs",
        "outputId": "8e7dff08-1e7a-4685-d2ca-29abf3159424"
      },
      "execution_count": 160,
      "outputs": [
        {
          "output_type": "display_data",
          "data": {
            "text/plain": [
              "<Figure size 640x480 with 1 Axes>"
            ],
            "image/png": "[encoded data removed]"
          },
          "metadata": {}
        }
      ]
    },
    {
      "cell_type": "code",
      "source": [
        "trainingSummary = lrModel.summary\n",
        "roc = trainingSummary.roc.toPandas()\n",
        "plt.plot(roc['FPR'],roc['TPR'])\n",
        "plt.ylabel('False Positive Rate')\n",
        "plt.xlabel('True Positive Rate')\n",
        "plt.title('ROC Curve')\n",
        "plt.show()\n",
        "print('Training set areaUnderROC: ' + str(trainingSummary.areaUnderROC))"
      ],
      "metadata": {
        "colab": {
          "base_uri": "https://localhost:8080/",
          "height": 489
        },
        "id": "lsXIxrQguZt2",
        "outputId": "438540fb-f382-448c-8b26-3a8ba95a972f"
      },
      "execution_count": 161,
      "outputs": [
        {
          "output_type": "display_data",
          "data": {
            "text/plain": [
              "<Figure size 640x480 with 1 Axes>"
            ],
            "image/png": "[encoded data removed]"
          },
          "metadata": {}
        },
        {
          "output_type": "stream",
          "name": "stdout",
          "text": [
            "Training set areaUnderROC: 0.7965325037018832\n"
          ]
        }
      ]
    },
    {
      "cell_type": "code",
      "source": [
        "pr = trainingSummary.pr.toPandas()\n",
        "plt.plot(pr['recall'],pr['precision'])\n",
        "plt.ylabel('Precision')\n",
        "plt.xlabel('Recall')\n",
        "plt.show()"
      ],
      "metadata": {
        "colab": {
          "base_uri": "https://localhost:8080/",
          "height": 449
        },
        "id": "dFp9WKKuubeg",
        "outputId": "56554c10-ed3f-41e7-93e7-9b2ad198153a"
      },
      "execution_count": 162,
      "outputs": [
        {
          "output_type": "display_data",
          "data": {
            "text/plain": [
              "<Figure size 640x480 with 1 Axes>"
            ],
            "image/png": "[encoded data removed]"
          },
          "metadata": {}
        }
      ]
    },
    {
      "cell_type": "code",
      "source": [
        "predictions = lrModel.transform(test)\n",
        "predictions.select('Fibrilatie_atriala','Depresie','Interval_anionic','Nitrogen_ureic', 'label', 'rawPrediction', 'prediction', 'probability').show(10)"
      ],
      "metadata": {
        "colab": {
          "base_uri": "https://localhost:8080/"
        },
        "id": "0Mhp_UEiucsa",
        "outputId": "22ad5a7c-cc17-42ea-a434-ccac274f935d"
      },
      "execution_count": 163,
      "outputs": [
        {
          "output_type": "stream",
          "name": "stdout",
          "text": [
            "+------------------+--------+----------------+--------------+-----+--------------------+----------+--------------------+\n",
            "|Fibrilatie_atriala|Depresie|Interval_anionic|Nitrogen_ureic|label|       rawPrediction|prediction|         probability|\n",
            "+------------------+--------+----------------+--------------+-----+--------------------+----------+--------------------+\n",
            "|               yes|     yes|       10.333333|     10.666667|  0.0|[3.08406291013491...|       0.0|[0.95623054792865...|\n",
            "|               yes|     yes|       10.333333|     10.666667|  0.0|[3.08406291013491...|       0.0|[0.95623054792865...|\n",
            "|               yes|     yes|       13.666667|     23.333334|  0.0|[1.67538801267425...|       0.0|[0.84229286172193...|\n",
            "|               yes|      no|       15.909091|     110.72727|  0.0|[0.32817767779635...|       0.0|[0.58131591182811...|\n",
            "|               yes|      no|          22.375|         117.0|  0.0|[0.33349661521095...|       0.0|[0.58260991316674...|\n",
            "|               yes|      no|          22.375|         117.0|  0.0|[0.33349661521095...|       0.0|[0.58260991316674...|\n",
            "|               yes|      no|       10.888889|          76.9|  0.0|[2.40346540547392...|       0.0|[0.91709117657491...|\n",
            "|               yes|      no|          12.375|        34.625|  0.0|[1.98076247339130...|       0.0|[0.87876241874656...|\n",
            "|               yes|      no|          12.375|        34.625|  0.0|[1.98076247339130...|       0.0|[0.87876241874656...|\n",
            "|               yes|      no|          12.375|        34.625|  0.0|[1.98076247339130...|       0.0|[0.87876241874656...|\n",
            "+------------------+--------+----------------+--------------+-----+--------------------+----------+--------------------+\n",
            "only showing top 10 rows\n",
            "\n"
          ]
        }
      ]
    },
    {
      "cell_type": "code",
      "source": [
        "predictionAndLabels = lrModel.evaluate(train)\n",
        "evaluator = BinaryClassificationEvaluator()\n",
        "predictionAndLabels.predictions.show()"
      ],
      "metadata": {
        "colab": {
          "base_uri": "https://localhost:8080/"
        },
        "id": "RT2Cy1w1ueZt",
        "outputId": "b51e7889-d3d2-4287-83b4-d003415a05d1"
      },
      "execution_count": 164,
      "outputs": [
        {
          "output_type": "stream",
          "name": "stdout",
          "text": [
            "+-----+--------------------+-----+-----------+------------------+-----------------+--------+-------------------+----------------------+-------------------------------------+---------+-------------------+-----------------------------------+---------+--------------+-----------------+----------------+-----------+--------------------+--------------------+----------+\n",
            "|label|            features|Stare|Hipertensiv|Fibrilatie_atriala|Anemii_deficitare|Depresie|Insuficienta_renala|Frecventa_respiratorie|Latimea_distributiei_globulelor_rosii|Leucocite|Timp_de_protrombina|Raport_internationalizat_normalizat|NT_proBNP|Nitrogen_ureic|Potasiu_din_sange|Interval_anionic|Acid_lactic|       rawPrediction|         probability|prediction|\n",
            "+-----+--------------------+-----+-----------+------------------+-----------------+--------+-------------------+----------------------+-------------------------------------+---------+-------------------+-----------------------------------+---------+--------------+-----------------+----------------+-----------+--------------------+--------------------+----------+\n",
            "|  0.0|[0.0,0.0,0.0,0.0,...|  yes|         no|               yes|              yes|     yes|                yes|             19.344828|                              14.4875|  12.2625|            26.4875|                             2.7375|   7720.0|     34.357143|          4.10625|       14.363636|  1.8534256|[2.84354476197689...|[0.94498404251995...|       0.0|\n",
            "|  0.0|[0.0,0.0,0.0,0.0,...|  yes|         no|               yes|              yes|     yes|                yes|             19.344828|                              14.4875|  12.2625|            26.4875|                             2.7375|   7720.0|     34.357143|          4.10625|       14.363636|  1.8534256|[2.84354476197689...|[0.94498404251995...|       0.0|\n",
            "|  0.0|[0.0,0.0,0.0,0.0,...|  yes|         no|               yes|              yes|     yes|                yes|             19.344828|                              14.4875|  12.2625|            26.4875|                             2.7375|   7720.0|     34.357143|          4.10625|       14.363636|  1.8534256|[2.84354476197689...|[0.94498404251995...|       0.0|\n",
            "|  0.0|[0.0,0.0,0.0,0.0,...|  yes|         no|               yes|              yes|     yes|                yes|             19.344828|                              14.4875|  12.2625|            26.4875|                             2.7375|   7720.0|     34.357143|          4.10625|       14.363636|  1.8534256|[2.84354476197689...|[0.94498404251995...|       0.0|\n",
            "|  0.0|[0.0,0.0,0.0,0.0,...|  yes|         no|               yes|              yes|     yes|                yes|             19.344828|                              14.4875|  12.2625|            26.4875|                             2.7375|   7720.0|     34.357143|          4.10625|       14.363636|  1.8534256|[2.84354476197689...|[0.94498404251995...|       0.0|\n",
            "|  0.0|[0.0,0.0,0.0,0.0,...|  yes|         no|               yes|              yes|     yes|                yes|             19.344828|                              14.4875|  12.2625|            26.4875|                             2.7375|   7720.0|     34.357143|          4.10625|       14.363636|  1.8534256|[2.84354476197689...|[0.94498404251995...|       0.0|\n",
            "|  0.0|[0.0,0.0,0.0,0.0,...|  yes|         no|               yes|              yes|     yes|                yes|             19.344828|                              14.4875|  12.2625|            26.4875|                             2.7375|   7720.0|     34.357143|          4.10625|       14.363636|  1.8534256|[2.84354476197689...|[0.94498404251995...|       0.0|\n",
            "|  0.0|[0.0,0.0,0.0,0.0,...|  yes|         no|               yes|              yes|     yes|                 no|             17.227272|                            19.666666| 9.233334|          16.366667|                          1.5333333|    943.0|     10.666667|              3.4|       10.333333|  1.6333333|[3.08406291013491...|[0.95623054792865...|       0.0|\n",
            "|  0.0|[0.0,0.0,0.0,0.0,...|  yes|         no|               yes|              yes|     yes|                 no|             17.227272|                            19.666666| 9.233334|          16.366667|                          1.5333333|    943.0|     10.666667|              3.4|       10.333333|  1.6333333|[3.08406291013491...|[0.95623054792865...|       0.0|\n",
            "|  0.0|[0.0,0.0,0.0,0.0,...|  yes|         no|               yes|              yes|     yes|                 no|             17.227272|                            19.666666| 9.233334|          16.366667|                          1.5333333|    943.0|     10.666667|              3.4|       10.333333|  1.6333333|[3.08406291013491...|[0.95623054792865...|       0.0|\n",
            "|  0.0|[0.0,0.0,0.0,0.0,...|  yes|         no|               yes|              yes|     yes|                 no|             17.227272|                            19.666666| 9.233334|          16.366667|                          1.5333333|    943.0|     10.666667|              3.4|       10.333333|  1.6333333|[3.08406291013491...|[0.95623054792865...|       0.0|\n",
            "|  0.0|[0.0,0.0,0.0,0.0,...|  yes|         no|               yes|              yes|     yes|                 no|             17.227272|                            19.666666| 9.233334|          16.366667|                          1.5333333|    943.0|     10.666667|              3.4|       10.333333|  1.6333333|[3.08406291013491...|[0.95623054792865...|       0.0|\n",
            "|  0.0|[0.0,0.0,0.0,0.0,...|  yes|         no|               yes|              yes|     yes|                 no|                 29.44|                                14.58|    22.04|               15.3|                               1.35|   4893.0|     23.333334|        3.6333334|       13.666667|        1.6|[1.67538801267425...|[0.84229286172193...|       0.0|\n",
            "|  0.0|[0.0,0.0,0.0,0.0,...|  yes|         no|               yes|              yes|     yes|                 no|                 29.44|                                14.58|    22.04|               15.3|                               1.35|   4893.0|     23.333334|        3.6333334|       13.666667|        1.6|[1.67538801267425...|[0.84229286172193...|       0.0|\n",
            "|  0.0|[0.0,0.0,0.0,0.0,...|  yes|         no|               yes|              yes|     yes|                 no|                 29.44|                                14.58|    22.04|               15.3|                               1.35|   4893.0|     23.333334|        3.6333334|       13.666667|        1.6|[1.67538801267425...|[0.84229286172193...|       0.0|\n",
            "|  0.0|[0.0,0.0,0.0,0.0,...|  yes|         no|               yes|              yes|     yes|                 no|                 29.44|                                14.58|    22.04|               15.3|                               1.35|   4893.0|     23.333334|        3.6333334|       13.666667|        1.6|[1.67538801267425...|[0.84229286172193...|       0.0|\n",
            "|  0.0|[0.0,0.0,0.0,0.0,...|  yes|         no|               yes|              yes|     yes|                 no|                 29.44|                                14.58|    22.04|               15.3|                               1.35|   4893.0|     23.333334|        3.6333334|       13.666667|        1.6|[1.67538801267425...|[0.84229286172193...|       0.0|\n",
            "|  0.0|[0.0,0.0,0.0,0.0,...|  yes|         no|               yes|              yes|     yes|                 no|                 29.44|                                14.58|    22.04|               15.3|                               1.35|   4893.0|     23.333334|        3.6333334|       13.666667|        1.6|[1.67538801267425...|[0.84229286172193...|       0.0|\n",
            "|  0.0|[0.0,0.0,0.0,1.0,...|  yes|         no|               yes|              yes|      no|                yes|             11.818182|                            19.833334|6.4666667|          36.354546|                          3.5727272|  60689.0|     110.72727|            5.125|       15.909091|        2.4|[0.32817767779635...|[0.58131591182811...|       0.0|\n",
            "|  0.0|[0.0,0.0,0.0,1.0,...|  yes|         no|               yes|              yes|      no|                yes|             11.818182|                            19.833334|6.4666667|          36.354546|                          3.5727272|  60689.0|     110.72727|            5.125|       15.909091|        2.4|[0.32817767779635...|[0.58131591182811...|       0.0|\n",
            "+-----+--------------------+-----+-----------+------------------+-----------------+--------+-------------------+----------------------+-------------------------------------+---------+-------------------+-----------------------------------+---------+--------------+-----------------+----------------+-----------+--------------------+--------------------+----------+\n",
            "only showing top 20 rows\n",
            "\n"
          ]
        }
      ]
    },
    {
      "cell_type": "code",
      "source": [
        "print('Test Area Under ROC', evaluator.evaluate(predictions))"
      ],
      "metadata": {
        "colab": {
          "base_uri": "https://localhost:8080/"
        },
        "id": "Ph0-J1WjugSG",
        "outputId": "389e5caa-59e5-4c53-aed5-5173974ffc50"
      },
      "execution_count": 165,
      "outputs": [
        {
          "output_type": "stream",
          "name": "stdout",
          "text": [
            "Test Area Under ROC 0.7812671232876713\n"
          ]
        }
      ]
    },
    {
      "cell_type": "code",
      "source": [
        "# Pentru multiclass\n",
        "evaluator = MulticlassClassificationEvaluator(predictionCol='prediction', labelCol='label',metricName='accuracy')\n",
        "acc = evaluator.evaluate(predictionAndLabels.predictions)\n",
        "print(\" Accuracy: \", acc)"
      ],
      "metadata": {
        "colab": {
          "base_uri": "https://localhost:8080/"
        },
        "id": "auvI_ahPui5T",
        "outputId": "19c0f725-7c14-4344-dc87-a8873907869f"
      },
      "execution_count": 167,
      "outputs": [
        {
          "output_type": "stream",
          "name": "stdout",
          "text": [
            " Accuracy:  0.8873289497067709\n"
          ]
        }
      ]
    }
  ]
}